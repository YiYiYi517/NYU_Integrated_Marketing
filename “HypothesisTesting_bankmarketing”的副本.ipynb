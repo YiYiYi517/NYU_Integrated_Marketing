{
  "nbformat": 4,
  "nbformat_minor": 0,
  "metadata": {
    "colab": {
      "name": "“HypothesisTesting.ipynb”的副本",
      "provenance": [],
      "include_colab_link": true
    },
    "kernelspec": {
      "name": "python3",
      "display_name": "Python 3"
    }
  },
  "cells": [
    {
      "cell_type": "markdown",
      "metadata": {
        "id": "view-in-github",
        "colab_type": "text"
      },
      "source": [
        "<a href=\"https://colab.research.google.com/github/YiYiYi517/NYU_Integrated_Marketing/blob/main/%E2%80%9CHypothesisTesting_bankmarketing%E2%80%9D%E7%9A%84%E5%89%AF%E6%9C%AC.ipynb\" target=\"_parent\"><img src=\"https://colab.research.google.com/assets/colab-badge.svg\" alt=\"Open In Colab\"/></a>"
      ]
    },
    {
      "cell_type": "markdown",
      "metadata": {
        "id": "Ob_nrVYESXcz"
      },
      "source": [
        "# Preparation"
      ]
    },
    {
      "cell_type": "markdown",
      "metadata": {
        "id": "Omc83odVdmmS"
      },
      "source": [
        "**Install the Package Pandas and Numpy for the function of \"TABLE\" and \"Math\"**"
      ]
    },
    {
      "cell_type": "code",
      "metadata": {
        "id": "OlBeCKF6dlEK"
      },
      "source": [
        "import pandas as pd\n",
        "import numpy as np"
      ],
      "execution_count": null,
      "outputs": []
    },
    {
      "cell_type": "markdown",
      "metadata": {
        "id": "xXnlLuN8c_YT"
      },
      "source": [
        "**Read the marketing data from Github Url (\"Read Raw\")**"
      ]
    },
    {
      "cell_type": "code",
      "metadata": {
        "id": "IPSrXY__MjdC",
        "colab": {
          "base_uri": "https://localhost:8080/",
          "height": 204
        },
        "outputId": "7033ed37-309d-47fc-d6a8-7f41711910f1"
      },
      "source": [
        "df = pd.read_csv('https://raw.githubusercontent.com/YiYiYi517/NYU_Integrated_Marketing/main/HypothesisTesting_ANOVA/bank-additional-full.csv',sep=\";\")\n",
        "df.head()"
      ],
      "execution_count": null,
      "outputs": [
        {
          "output_type": "execute_result",
          "data": {
            "text/html": [
              "<div>\n",
              "<style scoped>\n",
              "    .dataframe tbody tr th:only-of-type {\n",
              "        vertical-align: middle;\n",
              "    }\n",
              "\n",
              "    .dataframe tbody tr th {\n",
              "        vertical-align: top;\n",
              "    }\n",
              "\n",
              "    .dataframe thead th {\n",
              "        text-align: right;\n",
              "    }\n",
              "</style>\n",
              "<table border=\"1\" class=\"dataframe\">\n",
              "  <thead>\n",
              "    <tr style=\"text-align: right;\">\n",
              "      <th></th>\n",
              "      <th>age</th>\n",
              "      <th>job</th>\n",
              "      <th>marital</th>\n",
              "      <th>education</th>\n",
              "      <th>default</th>\n",
              "      <th>housing</th>\n",
              "      <th>loan</th>\n",
              "      <th>contact</th>\n",
              "      <th>month</th>\n",
              "      <th>day_of_week</th>\n",
              "      <th>duration</th>\n",
              "      <th>campaign</th>\n",
              "      <th>pdays</th>\n",
              "      <th>previous</th>\n",
              "      <th>poutcome</th>\n",
              "      <th>emp.var.rate</th>\n",
              "      <th>cons.price.idx</th>\n",
              "      <th>cons.conf.idx</th>\n",
              "      <th>euribor3m</th>\n",
              "      <th>nr.employed</th>\n",
              "      <th>y</th>\n",
              "    </tr>\n",
              "  </thead>\n",
              "  <tbody>\n",
              "    <tr>\n",
              "      <th>0</th>\n",
              "      <td>56</td>\n",
              "      <td>housemaid</td>\n",
              "      <td>married</td>\n",
              "      <td>basic.4y</td>\n",
              "      <td>no</td>\n",
              "      <td>no</td>\n",
              "      <td>no</td>\n",
              "      <td>telephone</td>\n",
              "      <td>may</td>\n",
              "      <td>mon</td>\n",
              "      <td>261</td>\n",
              "      <td>1</td>\n",
              "      <td>999</td>\n",
              "      <td>0</td>\n",
              "      <td>nonexistent</td>\n",
              "      <td>1.1</td>\n",
              "      <td>93.994</td>\n",
              "      <td>-36.4</td>\n",
              "      <td>4.857</td>\n",
              "      <td>5191.0</td>\n",
              "      <td>no</td>\n",
              "    </tr>\n",
              "    <tr>\n",
              "      <th>1</th>\n",
              "      <td>57</td>\n",
              "      <td>services</td>\n",
              "      <td>married</td>\n",
              "      <td>high.school</td>\n",
              "      <td>unknown</td>\n",
              "      <td>no</td>\n",
              "      <td>no</td>\n",
              "      <td>telephone</td>\n",
              "      <td>may</td>\n",
              "      <td>mon</td>\n",
              "      <td>149</td>\n",
              "      <td>1</td>\n",
              "      <td>999</td>\n",
              "      <td>0</td>\n",
              "      <td>nonexistent</td>\n",
              "      <td>1.1</td>\n",
              "      <td>93.994</td>\n",
              "      <td>-36.4</td>\n",
              "      <td>4.857</td>\n",
              "      <td>5191.0</td>\n",
              "      <td>no</td>\n",
              "    </tr>\n",
              "    <tr>\n",
              "      <th>2</th>\n",
              "      <td>37</td>\n",
              "      <td>services</td>\n",
              "      <td>married</td>\n",
              "      <td>high.school</td>\n",
              "      <td>no</td>\n",
              "      <td>yes</td>\n",
              "      <td>no</td>\n",
              "      <td>telephone</td>\n",
              "      <td>may</td>\n",
              "      <td>mon</td>\n",
              "      <td>226</td>\n",
              "      <td>1</td>\n",
              "      <td>999</td>\n",
              "      <td>0</td>\n",
              "      <td>nonexistent</td>\n",
              "      <td>1.1</td>\n",
              "      <td>93.994</td>\n",
              "      <td>-36.4</td>\n",
              "      <td>4.857</td>\n",
              "      <td>5191.0</td>\n",
              "      <td>no</td>\n",
              "    </tr>\n",
              "    <tr>\n",
              "      <th>3</th>\n",
              "      <td>40</td>\n",
              "      <td>admin.</td>\n",
              "      <td>married</td>\n",
              "      <td>basic.6y</td>\n",
              "      <td>no</td>\n",
              "      <td>no</td>\n",
              "      <td>no</td>\n",
              "      <td>telephone</td>\n",
              "      <td>may</td>\n",
              "      <td>mon</td>\n",
              "      <td>151</td>\n",
              "      <td>1</td>\n",
              "      <td>999</td>\n",
              "      <td>0</td>\n",
              "      <td>nonexistent</td>\n",
              "      <td>1.1</td>\n",
              "      <td>93.994</td>\n",
              "      <td>-36.4</td>\n",
              "      <td>4.857</td>\n",
              "      <td>5191.0</td>\n",
              "      <td>no</td>\n",
              "    </tr>\n",
              "    <tr>\n",
              "      <th>4</th>\n",
              "      <td>56</td>\n",
              "      <td>services</td>\n",
              "      <td>married</td>\n",
              "      <td>high.school</td>\n",
              "      <td>no</td>\n",
              "      <td>no</td>\n",
              "      <td>yes</td>\n",
              "      <td>telephone</td>\n",
              "      <td>may</td>\n",
              "      <td>mon</td>\n",
              "      <td>307</td>\n",
              "      <td>1</td>\n",
              "      <td>999</td>\n",
              "      <td>0</td>\n",
              "      <td>nonexistent</td>\n",
              "      <td>1.1</td>\n",
              "      <td>93.994</td>\n",
              "      <td>-36.4</td>\n",
              "      <td>4.857</td>\n",
              "      <td>5191.0</td>\n",
              "      <td>no</td>\n",
              "    </tr>\n",
              "  </tbody>\n",
              "</table>\n",
              "</div>"
            ],
            "text/plain": [
              "   age        job  marital  ... euribor3m nr.employed   y\n",
              "0   56  housemaid  married  ...     4.857      5191.0  no\n",
              "1   57   services  married  ...     4.857      5191.0  no\n",
              "2   37   services  married  ...     4.857      5191.0  no\n",
              "3   40     admin.  married  ...     4.857      5191.0  no\n",
              "4   56   services  married  ...     4.857      5191.0  no\n",
              "\n",
              "[5 rows x 21 columns]"
            ]
          },
          "metadata": {
            "tags": []
          },
          "execution_count": 112
        }
      ]
    },
    {
      "cell_type": "markdown",
      "metadata": {
        "id": "m0xoTL5yfiUo"
      },
      "source": [
        "**View the data information**"
      ]
    },
    {
      "cell_type": "code",
      "metadata": {
        "id": "OdQRdpARflGt",
        "colab": {
          "base_uri": "https://localhost:8080/"
        },
        "outputId": "bf3a5299-93d0-41fa-d130-c55da7cadbaa"
      },
      "source": [
        "df.info()"
      ],
      "execution_count": null,
      "outputs": [
        {
          "output_type": "stream",
          "text": [
            "<class 'pandas.core.frame.DataFrame'>\n",
            "RangeIndex: 41188 entries, 0 to 41187\n",
            "Data columns (total 21 columns):\n",
            " #   Column          Non-Null Count  Dtype  \n",
            "---  ------          --------------  -----  \n",
            " 0   age             41188 non-null  int64  \n",
            " 1   job             41188 non-null  object \n",
            " 2   marital         41188 non-null  object \n",
            " 3   education       41188 non-null  object \n",
            " 4   default         41188 non-null  object \n",
            " 5   housing         41188 non-null  object \n",
            " 6   loan            41188 non-null  object \n",
            " 7   contact         41188 non-null  object \n",
            " 8   month           41188 non-null  object \n",
            " 9   day_of_week     41188 non-null  object \n",
            " 10  duration        41188 non-null  int64  \n",
            " 11  campaign        41188 non-null  int64  \n",
            " 12  pdays           41188 non-null  int64  \n",
            " 13  previous        41188 non-null  int64  \n",
            " 14  poutcome        41188 non-null  object \n",
            " 15  emp.var.rate    41188 non-null  float64\n",
            " 16  cons.price.idx  41188 non-null  float64\n",
            " 17  cons.conf.idx   41188 non-null  float64\n",
            " 18  euribor3m       41188 non-null  float64\n",
            " 19  nr.employed     41188 non-null  float64\n",
            " 20  y               41188 non-null  object \n",
            "dtypes: float64(5), int64(5), object(11)\n",
            "memory usage: 6.6+ MB\n"
          ],
          "name": "stdout"
        }
      ]
    },
    {
      "cell_type": "markdown",
      "metadata": {
        "id": "281445ZcdUNb"
      },
      "source": [
        "**Install the pingouin Package**"
      ]
    },
    {
      "cell_type": "code",
      "metadata": {
        "id": "e71QYj3bgSae",
        "colab": {
          "base_uri": "https://localhost:8080/"
        },
        "outputId": "d5f2caa7-e15d-4523-8622-b405812a3264"
      },
      "source": [
        "pip install pingouin"
      ],
      "execution_count": null,
      "outputs": [
        {
          "output_type": "stream",
          "text": [
            "Requirement already satisfied: pingouin in /usr/local/lib/python3.6/dist-packages (0.3.8)\n",
            "Requirement already satisfied: numpy>=1.15 in /usr/local/lib/python3.6/dist-packages (from pingouin) (1.18.5)\n",
            "Requirement already satisfied: pandas-flavor>=0.1.2 in /usr/local/lib/python3.6/dist-packages (from pingouin) (0.2.0)\n",
            "Requirement already satisfied: tabulate in /usr/local/lib/python3.6/dist-packages (from pingouin) (0.8.7)\n",
            "Requirement already satisfied: matplotlib>=3.0.2 in /usr/local/lib/python3.6/dist-packages (from pingouin) (3.2.2)\n",
            "Requirement already satisfied: outdated in /usr/local/lib/python3.6/dist-packages (from pingouin) (0.2.0)\n",
            "Requirement already satisfied: scipy>=1.3 in /usr/local/lib/python3.6/dist-packages (from pingouin) (1.4.1)\n",
            "Requirement already satisfied: scikit-learn in /usr/local/lib/python3.6/dist-packages (from pingouin) (0.22.2.post1)\n",
            "Requirement already satisfied: pandas>=0.24 in /usr/local/lib/python3.6/dist-packages (from pingouin) (1.1.4)\n",
            "Requirement already satisfied: statsmodels>=0.10.0 in /usr/local/lib/python3.6/dist-packages (from pingouin) (0.10.2)\n",
            "Requirement already satisfied: seaborn>=0.9.0 in /usr/local/lib/python3.6/dist-packages (from pingouin) (0.11.0)\n",
            "Requirement already satisfied: xarray in /usr/local/lib/python3.6/dist-packages (from pandas-flavor>=0.1.2->pingouin) (0.15.1)\n",
            "Requirement already satisfied: python-dateutil>=2.1 in /usr/local/lib/python3.6/dist-packages (from matplotlib>=3.0.2->pingouin) (2.8.1)\n",
            "Requirement already satisfied: kiwisolver>=1.0.1 in /usr/local/lib/python3.6/dist-packages (from matplotlib>=3.0.2->pingouin) (1.3.1)\n",
            "Requirement already satisfied: pyparsing!=2.0.4,!=2.1.2,!=2.1.6,>=2.0.1 in /usr/local/lib/python3.6/dist-packages (from matplotlib>=3.0.2->pingouin) (2.4.7)\n",
            "Requirement already satisfied: cycler>=0.10 in /usr/local/lib/python3.6/dist-packages (from matplotlib>=3.0.2->pingouin) (0.10.0)\n",
            "Requirement already satisfied: littleutils in /usr/local/lib/python3.6/dist-packages (from outdated->pingouin) (0.2.2)\n",
            "Requirement already satisfied: requests in /usr/local/lib/python3.6/dist-packages (from outdated->pingouin) (2.23.0)\n",
            "Requirement already satisfied: joblib>=0.11 in /usr/local/lib/python3.6/dist-packages (from scikit-learn->pingouin) (0.17.0)\n",
            "Requirement already satisfied: pytz>=2017.2 in /usr/local/lib/python3.6/dist-packages (from pandas>=0.24->pingouin) (2018.9)\n",
            "Requirement already satisfied: patsy>=0.4.0 in /usr/local/lib/python3.6/dist-packages (from statsmodels>=0.10.0->pingouin) (0.5.1)\n",
            "Requirement already satisfied: setuptools>=41.2 in /usr/local/lib/python3.6/dist-packages (from xarray->pandas-flavor>=0.1.2->pingouin) (50.3.2)\n",
            "Requirement already satisfied: six>=1.5 in /usr/local/lib/python3.6/dist-packages (from python-dateutil>=2.1->matplotlib>=3.0.2->pingouin) (1.15.0)\n",
            "Requirement already satisfied: chardet<4,>=3.0.2 in /usr/local/lib/python3.6/dist-packages (from requests->outdated->pingouin) (3.0.4)\n",
            "Requirement already satisfied: urllib3!=1.25.0,!=1.25.1,<1.26,>=1.21.1 in /usr/local/lib/python3.6/dist-packages (from requests->outdated->pingouin) (1.24.3)\n",
            "Requirement already satisfied: certifi>=2017.4.17 in /usr/local/lib/python3.6/dist-packages (from requests->outdated->pingouin) (2020.11.8)\n",
            "Requirement already satisfied: idna<3,>=2.5 in /usr/local/lib/python3.6/dist-packages (from requests->outdated->pingouin) (2.10)\n"
          ],
          "name": "stdout"
        }
      ]
    },
    {
      "cell_type": "markdown",
      "metadata": {
        "id": "r0bhd0ULxkYm"
      },
      "source": [
        "**Import the pingouin package**"
      ]
    },
    {
      "cell_type": "code",
      "metadata": {
        "id": "2EytQjG8gUYf"
      },
      "source": [
        "import pingouin as pg"
      ],
      "execution_count": null,
      "outputs": []
    },
    {
      "cell_type": "markdown",
      "metadata": {
        "id": "RoAn97wxSciV"
      },
      "source": [
        "# Hypothesis Test"
      ]
    },
    {
      "cell_type": "markdown",
      "metadata": {
        "id": "ZCVY6dXI321s"
      },
      "source": [
        "**One-Sample T-test**\n",
        "\n",
        "https://pingouin-stats.org/generated/pingouin.ttest.html#pingouin.ttest"
      ]
    },
    {
      "cell_type": "code",
      "metadata": {
        "id": "3G7BH6yqxh31",
        "colab": {
          "base_uri": "https://localhost:8080/",
          "height": 152
        },
        "outputId": "a865c68f-3198-43ec-a1fd-8e8a5ef157db"
      },
      "source": [
        "x=df['age']\n",
        "pg.ttest(x, 30)"
      ],
      "execution_count": null,
      "outputs": [
        {
          "output_type": "stream",
          "text": [
            "/usr/local/lib/python3.6/dist-packages/pingouin/bayesian.py:152: RuntimeWarning:\n",
            "\n",
            "divide by zero encountered in double_scalars\n",
            "\n"
          ],
          "name": "stderr"
        },
        {
          "output_type": "execute_result",
          "data": {
            "text/html": [
              "<div>\n",
              "<style scoped>\n",
              "    .dataframe tbody tr th:only-of-type {\n",
              "        vertical-align: middle;\n",
              "    }\n",
              "\n",
              "    .dataframe tbody tr th {\n",
              "        vertical-align: top;\n",
              "    }\n",
              "\n",
              "    .dataframe thead th {\n",
              "        text-align: right;\n",
              "    }\n",
              "</style>\n",
              "<table border=\"1\" class=\"dataframe\">\n",
              "  <thead>\n",
              "    <tr style=\"text-align: right;\">\n",
              "      <th></th>\n",
              "      <th>T</th>\n",
              "      <th>dof</th>\n",
              "      <th>tail</th>\n",
              "      <th>p-val</th>\n",
              "      <th>CI95%</th>\n",
              "      <th>cohen-d</th>\n",
              "      <th>BF10</th>\n",
              "      <th>power</th>\n",
              "    </tr>\n",
              "  </thead>\n",
              "  <tbody>\n",
              "    <tr>\n",
              "      <th>T-test</th>\n",
              "      <td>195.213215</td>\n",
              "      <td>41187</td>\n",
              "      <td>two-sided</td>\n",
              "      <td>0.0</td>\n",
              "      <td>[39.92, 40.12]</td>\n",
              "      <td>0.961887</td>\n",
              "      <td>inf</td>\n",
              "      <td>1.0</td>\n",
              "    </tr>\n",
              "  </tbody>\n",
              "</table>\n",
              "</div>"
            ],
            "text/plain": [
              "                 T    dof       tail  ...   cohen-d BF10  power\n",
              "T-test  195.213215  41187  two-sided  ...  0.961887  inf    1.0\n",
              "\n",
              "[1 rows x 8 columns]"
            ]
          },
          "metadata": {
            "tags": []
          },
          "execution_count": 116
        }
      ]
    },
    {
      "cell_type": "code",
      "metadata": {
        "id": "Ryc4Fe-55z_r",
        "colab": {
          "base_uri": "https://localhost:8080/"
        },
        "outputId": "e27def24-6848-46db-d62b-b887ce463b99"
      },
      "source": [
        "df['age'].mean()"
      ],
      "execution_count": null,
      "outputs": [
        {
          "output_type": "execute_result",
          "data": {
            "text/plain": [
              "40.02406040594348"
            ]
          },
          "metadata": {
            "tags": []
          },
          "execution_count": 117
        }
      ]
    },
    {
      "cell_type": "markdown",
      "metadata": {
        "id": "TB-2L_nt4c5m"
      },
      "source": [
        "**Two-Sample T-Test**\n",
        "\n",
        "https://pingouin-stats.org/generated/pingouin.ttest.html#pingouin.ttest"
      ]
    },
    {
      "cell_type": "code",
      "metadata": {
        "id": "dJAGdjmc3_N2"
      },
      "source": [
        "duration_housing = df[df['housing']=='yes']['duration']\n",
        "duration_no_housing = df[df['housing']=='no']['duration']"
      ],
      "execution_count": null,
      "outputs": []
    },
    {
      "cell_type": "code",
      "metadata": {
        "id": "Dcwsn6Xw5qQj",
        "colab": {
          "base_uri": "https://localhost:8080/"
        },
        "outputId": "813eef2e-c7ae-499c-c2ab-dde8f7518dd3"
      },
      "source": [
        "duration_housing.mean()"
      ],
      "execution_count": null,
      "outputs": [
        {
          "output_type": "execute_result",
          "data": {
            "text/plain": [
              "256.60321653689283"
            ]
          },
          "metadata": {
            "tags": []
          },
          "execution_count": 119
        }
      ]
    },
    {
      "cell_type": "code",
      "metadata": {
        "id": "kjKLiBEi5sTI",
        "colab": {
          "base_uri": "https://localhost:8080/"
        },
        "outputId": "a623ea09-b558-42f7-c07a-cb38bf501f73"
      },
      "source": [
        "duration_no_housing.mean()"
      ],
      "execution_count": null,
      "outputs": [
        {
          "output_type": "execute_result",
          "data": {
            "text/plain": [
              "260.6636773708517"
            ]
          },
          "metadata": {
            "tags": []
          },
          "execution_count": 120
        }
      ]
    },
    {
      "cell_type": "code",
      "metadata": {
        "id": "-afumI8R5H3a",
        "colab": {
          "base_uri": "https://localhost:8080/",
          "height": 80
        },
        "outputId": "ad9c281e-43ac-48f5-d0da-848894b8e8a8"
      },
      "source": [
        "x=duration_housing\n",
        "y=duration_no_housing\n",
        "pg.ttest(x, y, paired=False)"
      ],
      "execution_count": null,
      "outputs": [
        {
          "output_type": "execute_result",
          "data": {
            "text/html": [
              "<div>\n",
              "<style scoped>\n",
              "    .dataframe tbody tr th:only-of-type {\n",
              "        vertical-align: middle;\n",
              "    }\n",
              "\n",
              "    .dataframe tbody tr th {\n",
              "        vertical-align: top;\n",
              "    }\n",
              "\n",
              "    .dataframe thead th {\n",
              "        text-align: right;\n",
              "    }\n",
              "</style>\n",
              "<table border=\"1\" class=\"dataframe\">\n",
              "  <thead>\n",
              "    <tr style=\"text-align: right;\">\n",
              "      <th></th>\n",
              "      <th>T</th>\n",
              "      <th>dof</th>\n",
              "      <th>tail</th>\n",
              "      <th>p-val</th>\n",
              "      <th>CI95%</th>\n",
              "      <th>cohen-d</th>\n",
              "      <th>BF10</th>\n",
              "      <th>power</th>\n",
              "    </tr>\n",
              "  </thead>\n",
              "  <tbody>\n",
              "    <tr>\n",
              "      <th>T-test</th>\n",
              "      <td>-1.56523</td>\n",
              "      <td>39358.138853</td>\n",
              "      <td>two-sided</td>\n",
              "      <td>0.117537</td>\n",
              "      <td>[-9.15, 1.02]</td>\n",
              "      <td>0.015654</td>\n",
              "      <td>0.038</td>\n",
              "      <td>0.346655</td>\n",
              "    </tr>\n",
              "  </tbody>\n",
              "</table>\n",
              "</div>"
            ],
            "text/plain": [
              "              T           dof       tail  ...   cohen-d   BF10     power\n",
              "T-test -1.56523  39358.138853  two-sided  ...  0.015654  0.038  0.346655\n",
              "\n",
              "[1 rows x 8 columns]"
            ]
          },
          "metadata": {
            "tags": []
          },
          "execution_count": 121
        }
      ]
    },
    {
      "cell_type": "markdown",
      "metadata": {
        "id": "0rfEqqBk6U6r"
      },
      "source": [
        "**One-Way ANOVA**\n",
        "\n",
        "https://pingouin-stats.org/generated/pingouin.anova.html#pingouin.anova"
      ]
    },
    {
      "cell_type": "code",
      "metadata": {
        "id": "IVk35r9D5aBK",
        "colab": {
          "base_uri": "https://localhost:8080/",
          "height": 80
        },
        "outputId": "8ca464b8-7ea7-4522-9bf5-3ddd44b2fe96"
      },
      "source": [
        "aov = pg.anova(dv='duration', between='education', data=df)\n",
        "aov.round(3)"
      ],
      "execution_count": null,
      "outputs": [
        {
          "output_type": "execute_result",
          "data": {
            "text/html": [
              "<div>\n",
              "<style scoped>\n",
              "    .dataframe tbody tr th:only-of-type {\n",
              "        vertical-align: middle;\n",
              "    }\n",
              "\n",
              "    .dataframe tbody tr th {\n",
              "        vertical-align: top;\n",
              "    }\n",
              "\n",
              "    .dataframe thead th {\n",
              "        text-align: right;\n",
              "    }\n",
              "</style>\n",
              "<table border=\"1\" class=\"dataframe\">\n",
              "  <thead>\n",
              "    <tr style=\"text-align: right;\">\n",
              "      <th></th>\n",
              "      <th>Source</th>\n",
              "      <th>ddof1</th>\n",
              "      <th>ddof2</th>\n",
              "      <th>F</th>\n",
              "      <th>p-unc</th>\n",
              "      <th>np2</th>\n",
              "    </tr>\n",
              "  </thead>\n",
              "  <tbody>\n",
              "    <tr>\n",
              "      <th>0</th>\n",
              "      <td>education</td>\n",
              "      <td>7</td>\n",
              "      <td>41180</td>\n",
              "      <td>1.922</td>\n",
              "      <td>0.062</td>\n",
              "      <td>0.0</td>\n",
              "    </tr>\n",
              "  </tbody>\n",
              "</table>\n",
              "</div>"
            ],
            "text/plain": [
              "      Source  ddof1  ddof2      F  p-unc  np2\n",
              "0  education      7  41180  1.922  0.062  0.0"
            ]
          },
          "metadata": {
            "tags": []
          },
          "execution_count": 122
        }
      ]
    },
    {
      "cell_type": "code",
      "metadata": {
        "id": "8Jx7pUdJ8Bi8",
        "colab": {
          "base_uri": "https://localhost:8080/"
        },
        "outputId": "8a00e009-9e77-401f-b49c-1111e258fac0"
      },
      "source": [
        "df.groupby('education')['duration'].mean()"
      ],
      "execution_count": null,
      "outputs": [
        {
          "output_type": "execute_result",
          "data": {
            "text/plain": [
              "education\n",
              "basic.4y               264.827826\n",
              "basic.6y               264.414485\n",
              "basic.9y               261.291811\n",
              "high.school            260.886810\n",
              "illiterate             276.777778\n",
              "professional.course    252.533855\n",
              "university.degree      253.223373\n",
              "unknown                262.390526\n",
              "Name: duration, dtype: float64"
            ]
          },
          "metadata": {
            "tags": []
          },
          "execution_count": 123
        }
      ]
    },
    {
      "cell_type": "markdown",
      "metadata": {
        "id": "EKhH89Jh89lS"
      },
      "source": [
        "**Two-Way ANOVA**\n",
        "\n",
        "https://pingouin-stats.org/generated/pingouin.anova.html#pingouin.anova"
      ]
    },
    {
      "cell_type": "code",
      "metadata": {
        "id": "JDUYXNFr8VW1",
        "colab": {
          "base_uri": "https://localhost:8080/",
          "height": 245
        },
        "outputId": "67bebd2e-cad9-4ac6-f907-6efb52928667"
      },
      "source": [
        "\n",
        "aov = pg.anova(dv='duration', between=['education','job'], data=df)\n",
        "aov.round(3)"
      ],
      "execution_count": null,
      "outputs": [
        {
          "output_type": "stream",
          "text": [
            "/usr/local/lib/python3.6/dist-packages/statsmodels/base/model.py:1752: ValueWarning:\n",
            "\n",
            "covariance of constraints does not have full rank. The number of constraints is 11, but rank is 7\n",
            "\n"
          ],
          "name": "stderr"
        },
        {
          "output_type": "execute_result",
          "data": {
            "text/html": [
              "<div>\n",
              "<style scoped>\n",
              "    .dataframe tbody tr th:only-of-type {\n",
              "        vertical-align: middle;\n",
              "    }\n",
              "\n",
              "    .dataframe tbody tr th {\n",
              "        vertical-align: top;\n",
              "    }\n",
              "\n",
              "    .dataframe thead th {\n",
              "        text-align: right;\n",
              "    }\n",
              "</style>\n",
              "<table border=\"1\" class=\"dataframe\">\n",
              "  <thead>\n",
              "    <tr style=\"text-align: right;\">\n",
              "      <th></th>\n",
              "      <th>Source</th>\n",
              "      <th>SS</th>\n",
              "      <th>DF</th>\n",
              "      <th>MS</th>\n",
              "      <th>F</th>\n",
              "      <th>p-unc</th>\n",
              "      <th>np2</th>\n",
              "    </tr>\n",
              "  </thead>\n",
              "  <tbody>\n",
              "    <tr>\n",
              "      <th>0</th>\n",
              "      <td>education</td>\n",
              "      <td>2.697855e+07</td>\n",
              "      <td>7.0</td>\n",
              "      <td>3854078.129</td>\n",
              "      <td>57.341</td>\n",
              "      <td>0.000</td>\n",
              "      <td>0.010</td>\n",
              "    </tr>\n",
              "    <tr>\n",
              "      <th>1</th>\n",
              "      <td>job</td>\n",
              "      <td>1.492369e+06</td>\n",
              "      <td>11.0</td>\n",
              "      <td>135669.909</td>\n",
              "      <td>2.018</td>\n",
              "      <td>0.049</td>\n",
              "      <td>0.001</td>\n",
              "    </tr>\n",
              "    <tr>\n",
              "      <th>2</th>\n",
              "      <td>education * job</td>\n",
              "      <td>4.696353e+06</td>\n",
              "      <td>77.0</td>\n",
              "      <td>60991.593</td>\n",
              "      <td>0.907</td>\n",
              "      <td>0.705</td>\n",
              "      <td>0.002</td>\n",
              "    </tr>\n",
              "    <tr>\n",
              "      <th>3</th>\n",
              "      <td>Residual</td>\n",
              "      <td>2.762330e+09</td>\n",
              "      <td>41098.0</td>\n",
              "      <td>67213.252</td>\n",
              "      <td>NaN</td>\n",
              "      <td>NaN</td>\n",
              "      <td>NaN</td>\n",
              "    </tr>\n",
              "  </tbody>\n",
              "</table>\n",
              "</div>"
            ],
            "text/plain": [
              "            Source            SS       DF           MS       F  p-unc    np2\n",
              "0        education  2.697855e+07      7.0  3854078.129  57.341  0.000  0.010\n",
              "1              job  1.492369e+06     11.0   135669.909   2.018  0.049  0.001\n",
              "2  education * job  4.696353e+06     77.0    60991.593   0.907  0.705  0.002\n",
              "3         Residual  2.762330e+09  41098.0    67213.252     NaN    NaN    NaN"
            ]
          },
          "metadata": {
            "tags": []
          },
          "execution_count": 124
        }
      ]
    },
    {
      "cell_type": "code",
      "metadata": {
        "id": "Y940pcep9UHh",
        "colab": {
          "base_uri": "https://localhost:8080/"
        },
        "outputId": "b9c2728e-8760-490f-e519-919ead3782ca"
      },
      "source": [
        "df.groupby(['education','job'])['duration'].sum()"
      ],
      "execution_count": null,
      "outputs": [
        {
          "output_type": "execute_result",
          "data": {
            "text/plain": [
              "education  job         \n",
              "basic.4y   admin.           22429\n",
              "           blue-collar     611229\n",
              "           entrepreneur     37665\n",
              "           housemaid       115907\n",
              "           management       26156\n",
              "                            ...  \n",
              "unknown    services         39235\n",
              "           student          48731\n",
              "           technician       54569\n",
              "           unemployed        5450\n",
              "           unknown          27421\n",
              "Name: duration, Length: 90, dtype: int64"
            ]
          },
          "metadata": {
            "tags": []
          },
          "execution_count": 125
        }
      ]
    },
    {
      "cell_type": "markdown",
      "metadata": {
        "id": "AjR5L0Gn-egK"
      },
      "source": [
        "**Chi-Squared of Independence**\n",
        "\n",
        "https://pingouin-stats.org/generated/pingouin.chi2_independence.html#pingouin.chi2_independence\n"
      ]
    },
    {
      "cell_type": "code",
      "metadata": {
        "id": "FqexzzDn9uBe"
      },
      "source": [
        "expected, observed, stats = pg.chi2_independence(df, x='loan',\n",
        "                                                 y='y')"
      ],
      "execution_count": null,
      "outputs": []
    },
    {
      "cell_type": "code",
      "metadata": {
        "id": "G_jatvvoAgCf",
        "colab": {
          "base_uri": "https://localhost:8080/",
          "height": 173
        },
        "outputId": "fa4df559-3753-4522-c693-6a73e10a918f"
      },
      "source": [
        "expected"
      ],
      "execution_count": null,
      "outputs": [
        {
          "output_type": "execute_result",
          "data": {
            "text/html": [
              "<div>\n",
              "<style scoped>\n",
              "    .dataframe tbody tr th:only-of-type {\n",
              "        vertical-align: middle;\n",
              "    }\n",
              "\n",
              "    .dataframe tbody tr th {\n",
              "        vertical-align: top;\n",
              "    }\n",
              "\n",
              "    .dataframe thead th {\n",
              "        text-align: right;\n",
              "    }\n",
              "</style>\n",
              "<table border=\"1\" class=\"dataframe\">\n",
              "  <thead>\n",
              "    <tr style=\"text-align: right;\">\n",
              "      <th>y</th>\n",
              "      <th>no</th>\n",
              "      <th>yes</th>\n",
              "    </tr>\n",
              "    <tr>\n",
              "      <th>loan</th>\n",
              "      <th></th>\n",
              "      <th></th>\n",
              "    </tr>\n",
              "  </thead>\n",
              "  <tbody>\n",
              "    <tr>\n",
              "      <th>no</th>\n",
              "      <td>30125.390891</td>\n",
              "      <td>3824.609109</td>\n",
              "    </tr>\n",
              "    <tr>\n",
              "      <th>unknown</th>\n",
              "      <td>878.472371</td>\n",
              "      <td>111.527629</td>\n",
              "    </tr>\n",
              "    <tr>\n",
              "      <th>yes</th>\n",
              "      <td>5544.136739</td>\n",
              "      <td>703.863261</td>\n",
              "    </tr>\n",
              "  </tbody>\n",
              "</table>\n",
              "</div>"
            ],
            "text/plain": [
              "y                  no          yes\n",
              "loan                              \n",
              "no       30125.390891  3824.609109\n",
              "unknown    878.472371   111.527629\n",
              "yes       5544.136739   703.863261"
            ]
          },
          "metadata": {
            "tags": []
          },
          "execution_count": 127
        }
      ]
    },
    {
      "cell_type": "code",
      "metadata": {
        "id": "D4EFmcngAi24",
        "colab": {
          "base_uri": "https://localhost:8080/",
          "height": 173
        },
        "outputId": "e8a79c75-8a00-45a7-d156-e372caa379e6"
      },
      "source": [
        "observed"
      ],
      "execution_count": null,
      "outputs": [
        {
          "output_type": "execute_result",
          "data": {
            "text/html": [
              "<div>\n",
              "<style scoped>\n",
              "    .dataframe tbody tr th:only-of-type {\n",
              "        vertical-align: middle;\n",
              "    }\n",
              "\n",
              "    .dataframe tbody tr th {\n",
              "        vertical-align: top;\n",
              "    }\n",
              "\n",
              "    .dataframe thead th {\n",
              "        text-align: right;\n",
              "    }\n",
              "</style>\n",
              "<table border=\"1\" class=\"dataframe\">\n",
              "  <thead>\n",
              "    <tr style=\"text-align: right;\">\n",
              "      <th>y</th>\n",
              "      <th>no</th>\n",
              "      <th>yes</th>\n",
              "    </tr>\n",
              "    <tr>\n",
              "      <th>loan</th>\n",
              "      <th></th>\n",
              "      <th></th>\n",
              "    </tr>\n",
              "  </thead>\n",
              "  <tbody>\n",
              "    <tr>\n",
              "      <th>no</th>\n",
              "      <td>30100</td>\n",
              "      <td>3850</td>\n",
              "    </tr>\n",
              "    <tr>\n",
              "      <th>unknown</th>\n",
              "      <td>883</td>\n",
              "      <td>107</td>\n",
              "    </tr>\n",
              "    <tr>\n",
              "      <th>yes</th>\n",
              "      <td>5565</td>\n",
              "      <td>683</td>\n",
              "    </tr>\n",
              "  </tbody>\n",
              "</table>\n",
              "</div>"
            ],
            "text/plain": [
              "y           no   yes\n",
              "loan                \n",
              "no       30100  3850\n",
              "unknown    883   107\n",
              "yes       5565   683"
            ]
          },
          "metadata": {
            "tags": []
          },
          "execution_count": 128
        }
      ]
    },
    {
      "cell_type": "code",
      "metadata": {
        "id": "owhAecfaAp16",
        "colab": {
          "base_uri": "https://localhost:8080/",
          "height": 235
        },
        "outputId": "616376f0-eabf-4fda-cf7c-3c6bd844f313"
      },
      "source": [
        "stats"
      ],
      "execution_count": null,
      "outputs": [
        {
          "output_type": "execute_result",
          "data": {
            "text/html": [
              "<div>\n",
              "<style scoped>\n",
              "    .dataframe tbody tr th:only-of-type {\n",
              "        vertical-align: middle;\n",
              "    }\n",
              "\n",
              "    .dataframe tbody tr th {\n",
              "        vertical-align: top;\n",
              "    }\n",
              "\n",
              "    .dataframe thead th {\n",
              "        text-align: right;\n",
              "    }\n",
              "</style>\n",
              "<table border=\"1\" class=\"dataframe\">\n",
              "  <thead>\n",
              "    <tr style=\"text-align: right;\">\n",
              "      <th></th>\n",
              "      <th>test</th>\n",
              "      <th>lambda</th>\n",
              "      <th>chi2</th>\n",
              "      <th>dof</th>\n",
              "      <th>pval</th>\n",
              "      <th>cramer</th>\n",
              "      <th>power</th>\n",
              "    </tr>\n",
              "  </thead>\n",
              "  <tbody>\n",
              "    <tr>\n",
              "      <th>0</th>\n",
              "      <td>pearson</td>\n",
              "      <td>1.000000</td>\n",
              "      <td>1.094028</td>\n",
              "      <td>2.0</td>\n",
              "      <td>0.578675</td>\n",
              "      <td>0.005154</td>\n",
              "      <td>0.141129</td>\n",
              "    </tr>\n",
              "    <tr>\n",
              "      <th>1</th>\n",
              "      <td>cressie-read</td>\n",
              "      <td>0.666667</td>\n",
              "      <td>1.096757</td>\n",
              "      <td>2.0</td>\n",
              "      <td>0.577886</td>\n",
              "      <td>0.005160</td>\n",
              "      <td>0.141375</td>\n",
              "    </tr>\n",
              "    <tr>\n",
              "      <th>2</th>\n",
              "      <td>log-likelihood</td>\n",
              "      <td>0.000000</td>\n",
              "      <td>1.102265</td>\n",
              "      <td>2.0</td>\n",
              "      <td>0.576297</td>\n",
              "      <td>0.005173</td>\n",
              "      <td>0.141871</td>\n",
              "    </tr>\n",
              "    <tr>\n",
              "      <th>3</th>\n",
              "      <td>freeman-tukey</td>\n",
              "      <td>-0.500000</td>\n",
              "      <td>1.106439</td>\n",
              "      <td>2.0</td>\n",
              "      <td>0.575095</td>\n",
              "      <td>0.005183</td>\n",
              "      <td>0.142247</td>\n",
              "    </tr>\n",
              "    <tr>\n",
              "      <th>4</th>\n",
              "      <td>mod-log-likelihood</td>\n",
              "      <td>-1.000000</td>\n",
              "      <td>1.110651</td>\n",
              "      <td>2.0</td>\n",
              "      <td>0.573886</td>\n",
              "      <td>0.005193</td>\n",
              "      <td>0.142626</td>\n",
              "    </tr>\n",
              "    <tr>\n",
              "      <th>5</th>\n",
              "      <td>neyman</td>\n",
              "      <td>-2.000000</td>\n",
              "      <td>1.119188</td>\n",
              "      <td>2.0</td>\n",
              "      <td>0.571441</td>\n",
              "      <td>0.005213</td>\n",
              "      <td>0.143396</td>\n",
              "    </tr>\n",
              "  </tbody>\n",
              "</table>\n",
              "</div>"
            ],
            "text/plain": [
              "                 test    lambda      chi2  dof      pval    cramer     power\n",
              "0             pearson  1.000000  1.094028  2.0  0.578675  0.005154  0.141129\n",
              "1        cressie-read  0.666667  1.096757  2.0  0.577886  0.005160  0.141375\n",
              "2      log-likelihood  0.000000  1.102265  2.0  0.576297  0.005173  0.141871\n",
              "3       freeman-tukey -0.500000  1.106439  2.0  0.575095  0.005183  0.142247\n",
              "4  mod-log-likelihood -1.000000  1.110651  2.0  0.573886  0.005193  0.142626\n",
              "5              neyman -2.000000  1.119188  2.0  0.571441  0.005213  0.143396"
            ]
          },
          "metadata": {
            "tags": []
          },
          "execution_count": 129
        }
      ]
    },
    {
      "cell_type": "markdown",
      "metadata": {
        "id": "aDURXj8QCdHH"
      },
      "source": [
        "**Mann-Whitney U Test (= Wilcoxon rank-sum test)**\n",
        "\n",
        "https://pingouin-stats.org/generated/pingouin.mwu.html#pingouin.mwu"
      ]
    },
    {
      "cell_type": "code",
      "metadata": {
        "id": "63KHEpaOAj_b"
      },
      "source": [
        "duration_loan = df[df['loan']=='yes']['duration']\n",
        "duration_no_loan = df[df['loan']=='no']['duration']"
      ],
      "execution_count": null,
      "outputs": []
    },
    {
      "cell_type": "code",
      "metadata": {
        "id": "cSRvFywACzoF",
        "colab": {
          "base_uri": "https://localhost:8080/"
        },
        "outputId": "1c669066-40da-4cd0-8078-d2dcdccea200"
      },
      "source": [
        "df.groupby('loan')['duration'].median()"
      ],
      "execution_count": null,
      "outputs": [
        {
          "output_type": "execute_result",
          "data": {
            "text/plain": [
              "loan\n",
              "no         181\n",
              "unknown    169\n",
              "yes        176\n",
              "Name: duration, dtype: int64"
            ]
          },
          "metadata": {
            "tags": []
          },
          "execution_count": 131
        }
      ]
    },
    {
      "cell_type": "code",
      "metadata": {
        "id": "X_IBXfTRCbiD",
        "colab": {
          "base_uri": "https://localhost:8080/",
          "height": 80
        },
        "outputId": "12858917-fafe-4d37-c207-4545761b24de"
      },
      "source": [
        "x=duration_loan\n",
        "y=duration_no_loan\n",
        "pg.mwu(x, y, tail='two-sided')"
      ],
      "execution_count": null,
      "outputs": [
        {
          "output_type": "execute_result",
          "data": {
            "text/html": [
              "<div>\n",
              "<style scoped>\n",
              "    .dataframe tbody tr th:only-of-type {\n",
              "        vertical-align: middle;\n",
              "    }\n",
              "\n",
              "    .dataframe tbody tr th {\n",
              "        vertical-align: top;\n",
              "    }\n",
              "\n",
              "    .dataframe thead th {\n",
              "        text-align: right;\n",
              "    }\n",
              "</style>\n",
              "<table border=\"1\" class=\"dataframe\">\n",
              "  <thead>\n",
              "    <tr style=\"text-align: right;\">\n",
              "      <th></th>\n",
              "      <th>U-val</th>\n",
              "      <th>tail</th>\n",
              "      <th>p-val</th>\n",
              "      <th>RBC</th>\n",
              "      <th>CLES</th>\n",
              "    </tr>\n",
              "  </thead>\n",
              "  <tbody>\n",
              "    <tr>\n",
              "      <th>MWU</th>\n",
              "      <td>104317135.0</td>\n",
              "      <td>two-sided</td>\n",
              "      <td>0.038704</td>\n",
              "      <td>0.016431</td>\n",
              "      <td>0.491785</td>\n",
              "    </tr>\n",
              "  </tbody>\n",
              "</table>\n",
              "</div>"
            ],
            "text/plain": [
              "           U-val       tail     p-val       RBC      CLES\n",
              "MWU  104317135.0  two-sided  0.038704  0.016431  0.491785"
            ]
          },
          "metadata": {
            "tags": []
          },
          "execution_count": 132
        }
      ]
    },
    {
      "cell_type": "markdown",
      "metadata": {
        "id": "IvgOtl6ifvOo"
      },
      "source": [
        "#Paired Tests\n",
        "\n"
      ]
    },
    {
      "cell_type": "markdown",
      "metadata": {
        "id": "5-HP5CEIpx7-"
      },
      "source": [
        "**Import the data**"
      ]
    },
    {
      "cell_type": "code",
      "metadata": {
        "id": "RSRfUW6Vp72O",
        "colab": {
          "base_uri": "https://localhost:8080/",
          "height": 204
        },
        "outputId": "cc27279e-1765-471d-c978-5c2242d60838"
      },
      "source": [
        "df = pd.read_csv('https://raw.githubusercontent.com/sunshineluyao/NYU_Integrated_Marketing/main/HypothesisTesting_ANOVA/Q_GDP_Capita.csv')\n",
        "df.head()"
      ],
      "execution_count": null,
      "outputs": [
        {
          "output_type": "execute_result",
          "data": {
            "text/html": [
              "<div>\n",
              "<style scoped>\n",
              "    .dataframe tbody tr th:only-of-type {\n",
              "        vertical-align: middle;\n",
              "    }\n",
              "\n",
              "    .dataframe tbody tr th {\n",
              "        vertical-align: top;\n",
              "    }\n",
              "\n",
              "    .dataframe thead th {\n",
              "        text-align: right;\n",
              "    }\n",
              "</style>\n",
              "<table border=\"1\" class=\"dataframe\">\n",
              "  <thead>\n",
              "    <tr style=\"text-align: right;\">\n",
              "      <th></th>\n",
              "      <th>LOCATION</th>\n",
              "      <th>Country</th>\n",
              "      <th>Measure</th>\n",
              "      <th>Frequency</th>\n",
              "      <th>TIME</th>\n",
              "      <th>Unit Code</th>\n",
              "      <th>Value</th>\n",
              "    </tr>\n",
              "  </thead>\n",
              "  <tbody>\n",
              "    <tr>\n",
              "      <th>0</th>\n",
              "      <td>AUS</td>\n",
              "      <td>Australia</td>\n",
              "      <td>Per Head, US $, current prices, current PPPs, ...</td>\n",
              "      <td>Quarterly</td>\n",
              "      <td>2017-Q4</td>\n",
              "      <td>USD</td>\n",
              "      <td>50719.7</td>\n",
              "    </tr>\n",
              "    <tr>\n",
              "      <th>1</th>\n",
              "      <td>AUS</td>\n",
              "      <td>Australia</td>\n",
              "      <td>Per Head, US $, current prices, current PPPs, ...</td>\n",
              "      <td>Quarterly</td>\n",
              "      <td>2018-Q1</td>\n",
              "      <td>USD</td>\n",
              "      <td>51371.0</td>\n",
              "    </tr>\n",
              "    <tr>\n",
              "      <th>2</th>\n",
              "      <td>AUS</td>\n",
              "      <td>Australia</td>\n",
              "      <td>Per Head, US $, current prices, current PPPs, ...</td>\n",
              "      <td>Quarterly</td>\n",
              "      <td>2018-Q2</td>\n",
              "      <td>USD</td>\n",
              "      <td>52211.9</td>\n",
              "    </tr>\n",
              "    <tr>\n",
              "      <th>3</th>\n",
              "      <td>AUS</td>\n",
              "      <td>Australia</td>\n",
              "      <td>Per Head, US $, current prices, current PPPs, ...</td>\n",
              "      <td>Quarterly</td>\n",
              "      <td>2018-Q3</td>\n",
              "      <td>USD</td>\n",
              "      <td>52561.7</td>\n",
              "    </tr>\n",
              "    <tr>\n",
              "      <th>4</th>\n",
              "      <td>AUS</td>\n",
              "      <td>Australia</td>\n",
              "      <td>Per Head, US $, current prices, current PPPs, ...</td>\n",
              "      <td>Quarterly</td>\n",
              "      <td>2018-Q4</td>\n",
              "      <td>USD</td>\n",
              "      <td>53023.0</td>\n",
              "    </tr>\n",
              "  </tbody>\n",
              "</table>\n",
              "</div>"
            ],
            "text/plain": [
              "  LOCATION    Country  ... Unit Code    Value\n",
              "0      AUS  Australia  ...       USD  50719.7\n",
              "1      AUS  Australia  ...       USD  51371.0\n",
              "2      AUS  Australia  ...       USD  52211.9\n",
              "3      AUS  Australia  ...       USD  52561.7\n",
              "4      AUS  Australia  ...       USD  53023.0\n",
              "\n",
              "[5 rows x 7 columns]"
            ]
          },
          "metadata": {
            "tags": []
          },
          "execution_count": 133
        }
      ]
    },
    {
      "cell_type": "markdown",
      "metadata": {
        "id": "-kGQTwTTqOJm"
      },
      "source": [
        "**Conduct the paired-t test to compare the GDP per capita for the first quarter of 2019 and 2020 for all countries**\n",
        "\n",
        "https://pingouin-stats.org/generated/pingouin.ttest.html#pingouin.ttest"
      ]
    },
    {
      "cell_type": "code",
      "metadata": {
        "id": "OZyaLrgrqNcQ",
        "colab": {
          "base_uri": "https://localhost:8080/",
          "height": 204
        },
        "outputId": "6d039449-b3fd-48cd-c549-4e1a53d508f9"
      },
      "source": [
        "df_2019_Q2 = df[df.TIME=='2019-Q2'][['Country','Value','TIME']]\n",
        "df_2019_Q2=df_2019_Q2.groupby(['Country','TIME']).max().reset_index()\n",
        "df_2019_Q2=df_2019_Q2[['Country','Value']].sort_values(by='Country', ascending=True)\n",
        "df_2019_Q2.head()"
      ],
      "execution_count": null,
      "outputs": [
        {
          "output_type": "execute_result",
          "data": {
            "text/html": [
              "<div>\n",
              "<style scoped>\n",
              "    .dataframe tbody tr th:only-of-type {\n",
              "        vertical-align: middle;\n",
              "    }\n",
              "\n",
              "    .dataframe tbody tr th {\n",
              "        vertical-align: top;\n",
              "    }\n",
              "\n",
              "    .dataframe thead th {\n",
              "        text-align: right;\n",
              "    }\n",
              "</style>\n",
              "<table border=\"1\" class=\"dataframe\">\n",
              "  <thead>\n",
              "    <tr style=\"text-align: right;\">\n",
              "      <th></th>\n",
              "      <th>Country</th>\n",
              "      <th>Value</th>\n",
              "    </tr>\n",
              "  </thead>\n",
              "  <tbody>\n",
              "    <tr>\n",
              "      <th>0</th>\n",
              "      <td>Australia</td>\n",
              "      <td>54425.3</td>\n",
              "    </tr>\n",
              "    <tr>\n",
              "      <th>1</th>\n",
              "      <td>Austria</td>\n",
              "      <td>58827.2</td>\n",
              "    </tr>\n",
              "    <tr>\n",
              "      <th>2</th>\n",
              "      <td>Belgium</td>\n",
              "      <td>54675.1</td>\n",
              "    </tr>\n",
              "    <tr>\n",
              "      <th>3</th>\n",
              "      <td>Bulgaria</td>\n",
              "      <td>24488.9</td>\n",
              "    </tr>\n",
              "    <tr>\n",
              "      <th>4</th>\n",
              "      <td>Canada</td>\n",
              "      <td>51537.9</td>\n",
              "    </tr>\n",
              "  </tbody>\n",
              "</table>\n",
              "</div>"
            ],
            "text/plain": [
              "     Country    Value\n",
              "0  Australia  54425.3\n",
              "1    Austria  58827.2\n",
              "2    Belgium  54675.1\n",
              "3   Bulgaria  24488.9\n",
              "4     Canada  51537.9"
            ]
          },
          "metadata": {
            "tags": []
          },
          "execution_count": 134
        }
      ]
    },
    {
      "cell_type": "code",
      "metadata": {
        "id": "RB8AVS9DrTzF",
        "colab": {
          "base_uri": "https://localhost:8080/",
          "height": 204
        },
        "outputId": "706c13c4-e91c-4139-e78e-406d7b16ae7d"
      },
      "source": [
        "df_2020_Q2 = df[df.TIME=='2020-Q2'][['Country','Value','TIME']]\n",
        "df_2020_Q2=df_2020_Q2.groupby(['Country','TIME']).max().reset_index()\n",
        "df_2020_Q2=df_2020_Q2[['Country','Value']].sort_values(by='Country', ascending=True)\n",
        "df_2020_Q2.head()"
      ],
      "execution_count": null,
      "outputs": [
        {
          "output_type": "execute_result",
          "data": {
            "text/html": [
              "<div>\n",
              "<style scoped>\n",
              "    .dataframe tbody tr th:only-of-type {\n",
              "        vertical-align: middle;\n",
              "    }\n",
              "\n",
              "    .dataframe tbody tr th {\n",
              "        vertical-align: top;\n",
              "    }\n",
              "\n",
              "    .dataframe thead th {\n",
              "        text-align: right;\n",
              "    }\n",
              "</style>\n",
              "<table border=\"1\" class=\"dataframe\">\n",
              "  <thead>\n",
              "    <tr style=\"text-align: right;\">\n",
              "      <th></th>\n",
              "      <th>Country</th>\n",
              "      <th>Value</th>\n",
              "    </tr>\n",
              "  </thead>\n",
              "  <tbody>\n",
              "    <tr>\n",
              "      <th>0</th>\n",
              "      <td>Australia</td>\n",
              "      <td>50912.7</td>\n",
              "    </tr>\n",
              "    <tr>\n",
              "      <th>1</th>\n",
              "      <td>Austria</td>\n",
              "      <td>50477.1</td>\n",
              "    </tr>\n",
              "    <tr>\n",
              "      <th>2</th>\n",
              "      <td>Belgium</td>\n",
              "      <td>47330.7</td>\n",
              "    </tr>\n",
              "    <tr>\n",
              "      <th>3</th>\n",
              "      <td>Bulgaria</td>\n",
              "      <td>22933.4</td>\n",
              "    </tr>\n",
              "    <tr>\n",
              "      <th>4</th>\n",
              "      <td>Canada</td>\n",
              "      <td>44462.8</td>\n",
              "    </tr>\n",
              "  </tbody>\n",
              "</table>\n",
              "</div>"
            ],
            "text/plain": [
              "     Country    Value\n",
              "0  Australia  50912.7\n",
              "1    Austria  50477.1\n",
              "2    Belgium  47330.7\n",
              "3   Bulgaria  22933.4\n",
              "4     Canada  44462.8"
            ]
          },
          "metadata": {
            "tags": []
          },
          "execution_count": 135
        }
      ]
    },
    {
      "cell_type": "code",
      "metadata": {
        "id": "edO_A54or-3t",
        "colab": {
          "base_uri": "https://localhost:8080/",
          "height": 80
        },
        "outputId": "747d0baf-98b3-4fa7-9512-818efe571c97"
      },
      "source": [
        "pre=df_2019_Q2['Value']\n",
        "post=df_2020_Q2['Value']\n",
        "from pingouin import ttest\n",
        "ttest(pre, post, paired=True).round(2)"
      ],
      "execution_count": null,
      "outputs": [
        {
          "output_type": "execute_result",
          "data": {
            "text/html": [
              "<div>\n",
              "<style scoped>\n",
              "    .dataframe tbody tr th:only-of-type {\n",
              "        vertical-align: middle;\n",
              "    }\n",
              "\n",
              "    .dataframe tbody tr th {\n",
              "        vertical-align: top;\n",
              "    }\n",
              "\n",
              "    .dataframe thead th {\n",
              "        text-align: right;\n",
              "    }\n",
              "</style>\n",
              "<table border=\"1\" class=\"dataframe\">\n",
              "  <thead>\n",
              "    <tr style=\"text-align: right;\">\n",
              "      <th></th>\n",
              "      <th>T</th>\n",
              "      <th>dof</th>\n",
              "      <th>tail</th>\n",
              "      <th>p-val</th>\n",
              "      <th>CI95%</th>\n",
              "      <th>cohen-d</th>\n",
              "      <th>BF10</th>\n",
              "      <th>power</th>\n",
              "    </tr>\n",
              "  </thead>\n",
              "  <tbody>\n",
              "    <tr>\n",
              "      <th>T-test</th>\n",
              "      <td>12.69</td>\n",
              "      <td>38</td>\n",
              "      <td>two-sided</td>\n",
              "      <td>0.0</td>\n",
              "      <td>[4161.4, 5740.57]</td>\n",
              "      <td>0.27</td>\n",
              "      <td>2.147e+12</td>\n",
              "      <td>0.38</td>\n",
              "    </tr>\n",
              "  </tbody>\n",
              "</table>\n",
              "</div>"
            ],
            "text/plain": [
              "            T  dof       tail  ...  cohen-d       BF10  power\n",
              "T-test  12.69   38  two-sided  ...     0.27  2.147e+12   0.38\n",
              "\n",
              "[1 rows x 8 columns]"
            ]
          },
          "metadata": {
            "tags": []
          },
          "execution_count": 136
        }
      ]
    },
    {
      "cell_type": "code",
      "metadata": {
        "id": "ajMPVduvsi0n",
        "colab": {
          "base_uri": "https://localhost:8080/",
          "height": 417
        },
        "outputId": "1f2c4991-c127-4113-cb86-7952a0d2e256"
      },
      "source": [
        "df_Figure = df[df.TIME.isin(['2019-Q2','2020-Q2'])][['Country','Value','TIME']].groupby(['Country','TIME']).max().reset_index()\n",
        "import plotly.express as px\n",
        "fig = px.bar(df_Figure, x=\"Country\", y=\"Value\",\n",
        "             color='TIME', barmode='group',\n",
        "             height=400)\n",
        "fig.show()"
      ],
      "execution_count": null,
      "outputs": [
        {
          "output_type": "display_data",
          "data": {
            "text/html": [
              "<html>\n",
              "<head><meta charset=\"utf-8\" /></head>\n",
              "<body>\n",
              "    <div>\n",
              "            <script src=\"https://cdnjs.cloudflare.com/ajax/libs/mathjax/2.7.5/MathJax.js?config=TeX-AMS-MML_SVG\"></script><script type=\"text/javascript\">if (window.MathJax) {MathJax.Hub.Config({SVG: {font: \"STIX-Web\"}});}</script>\n",
              "                <script type=\"text/javascript\">window.PlotlyConfig = {MathJaxConfig: 'local'};</script>\n",
              "        <script src=\"https://cdn.plot.ly/plotly-latest.min.js\"></script>    \n",
              "            <div id=\"4522f1cb-bb87-4a3c-a4e7-a35677faf8f5\" class=\"plotly-graph-div\" style=\"height:400px; width:100%;\"></div>\n",
              "            <script type=\"text/javascript\">\n",
              "                \n",
              "                    window.PLOTLYENV=window.PLOTLYENV || {};\n",
              "                    \n",
              "                if (document.getElementById(\"4522f1cb-bb87-4a3c-a4e7-a35677faf8f5\")) {\n",
              "                    Plotly.newPlot(\n",
              "                        '4522f1cb-bb87-4a3c-a4e7-a35677faf8f5',\n",
              "                        [{\"alignmentgroup\": \"True\", \"hoverlabel\": {\"namelength\": 0}, \"hovertemplate\": \"TIME=2019-Q2<br>Country=%{x}<br>Value=%{y}\", \"legendgroup\": \"TIME=2019-Q2\", \"marker\": {\"color\": \"#636efa\"}, \"name\": \"TIME=2019-Q2\", \"offsetgroup\": \"TIME=2019-Q2\", \"orientation\": \"v\", \"showlegend\": true, \"textposition\": \"auto\", \"type\": \"bar\", \"x\": [\"Australia\", \"Austria\", \"Belgium\", \"Bulgaria\", \"Canada\", \"Chile\", \"Costa Rica\", \"Czech Republic\", \"Denmark\", \"Estonia\", \"Finland\", \"France\", \"Germany\", \"Greece\", \"Hungary\", \"Iceland\", \"Ireland\", \"Israel\", \"Italy\", \"Japan\", \"Korea\", \"Latvia\", \"Lithuania\", \"Luxembourg\", \"Mexico\", \"Netherlands\", \"New Zealand\", \"Norway\", \"Poland\", \"Portugal\", \"Romania\", \"Saudi Arabia\", \"Slovak Republic\", \"Slovenia\", \"Spain\", \"Sweden\", \"Switzerland\", \"United Kingdom\", \"United States\"], \"xaxis\": \"x\", \"y\": [54425.3, 58827.2, 54675.1, 24488.9, 51537.9, 25229.6, 20334.5, 43171.8, 59627.7, 38706.1, 51591.7, 49092.2, 56175.1, 31360.4, 34299.9, 59679.7, 89379.7, 41857.5, 44179.7, 43376.1, 42941.9, 32065.5, 38335.5, 121330.0, 20737.2, 59418.4, 43390.6, 66777.7, 33572.3, 36441.6, 31755.8, 48963.8, 33937.3, 40843.3, 42085.0, 55719.1, 70900.7, 48505.5, 64976.6], \"yaxis\": \"y\"}, {\"alignmentgroup\": \"True\", \"hoverlabel\": {\"namelength\": 0}, \"hovertemplate\": \"TIME=2020-Q2<br>Country=%{x}<br>Value=%{y}\", \"legendgroup\": \"TIME=2020-Q2\", \"marker\": {\"color\": \"#EF553B\"}, \"name\": \"TIME=2020-Q2\", \"offsetgroup\": \"TIME=2020-Q2\", \"orientation\": \"v\", \"showlegend\": true, \"textposition\": \"auto\", \"type\": \"bar\", \"x\": [\"Australia\", \"Austria\", \"Belgium\", \"Bulgaria\", \"Canada\", \"Chile\", \"Costa Rica\", \"Czech Republic\", \"Denmark\", \"Estonia\", \"Finland\", \"France\", \"Germany\", \"Greece\", \"Hungary\", \"Iceland\", \"Ireland\", \"Israel\", \"Italy\", \"Japan\", \"Korea\", \"Latvia\", \"Lithuania\", \"Luxembourg\", \"Mexico\", \"Netherlands\", \"New Zealand\", \"Norway\", \"Poland\", \"Portugal\", \"Romania\", \"Saudi Arabia\", \"Slovak Republic\", \"Slovenia\", \"Spain\", \"Sweden\", \"Switzerland\", \"United Kingdom\", \"United States\"], \"xaxis\": \"x\", \"y\": [50912.7, 50477.1, 47330.7, 22933.4, 44462.8, 22270.1, 18532.9, 38900.9, 55031.1, 36436.1, 48644.3, 39852.4, 49957.8, 26790.9, 29971.6, 53536.0, 85795.5, 38380.4, 36603.3, 39606.6, 41827.3, 29667.7, 36738.9, 110638.0, 16788.8, 53978.3, 38691.4, 60567.0, 31275.6, 30682.0, 29105.1, 42636.3, 30084.8, 35659.6, 33105.9, 51738.6, 64282.8, 38560.8, 59170.1], \"yaxis\": \"y\"}],\n",
              "                        {\"barmode\": \"group\", \"height\": 400, \"legend\": {\"tracegroupgap\": 0}, \"margin\": {\"t\": 60}, \"template\": {\"data\": {\"bar\": [{\"error_x\": {\"color\": \"#2a3f5f\"}, \"error_y\": {\"color\": \"#2a3f5f\"}, \"marker\": {\"line\": {\"color\": \"#E5ECF6\", \"width\": 0.5}}, \"type\": \"bar\"}], \"barpolar\": [{\"marker\": {\"line\": {\"color\": \"#E5ECF6\", \"width\": 0.5}}, \"type\": \"barpolar\"}], \"carpet\": [{\"aaxis\": {\"endlinecolor\": \"#2a3f5f\", \"gridcolor\": \"white\", \"linecolor\": \"white\", \"minorgridcolor\": \"white\", \"startlinecolor\": \"#2a3f5f\"}, \"baxis\": {\"endlinecolor\": \"#2a3f5f\", \"gridcolor\": \"white\", \"linecolor\": \"white\", \"minorgridcolor\": \"white\", \"startlinecolor\": \"#2a3f5f\"}, \"type\": \"carpet\"}], \"choropleth\": [{\"colorbar\": {\"outlinewidth\": 0, \"ticks\": \"\"}, \"type\": \"choropleth\"}], \"contour\": [{\"colorbar\": {\"outlinewidth\": 0, \"ticks\": \"\"}, \"colorscale\": [[0.0, \"#0d0887\"], [0.1111111111111111, \"#46039f\"], [0.2222222222222222, \"#7201a8\"], [0.3333333333333333, \"#9c179e\"], [0.4444444444444444, \"#bd3786\"], [0.5555555555555556, \"#d8576b\"], [0.6666666666666666, \"#ed7953\"], [0.7777777777777778, \"#fb9f3a\"], [0.8888888888888888, \"#fdca26\"], [1.0, \"#f0f921\"]], \"type\": \"contour\"}], \"contourcarpet\": [{\"colorbar\": {\"outlinewidth\": 0, \"ticks\": \"\"}, \"type\": \"contourcarpet\"}], \"heatmap\": [{\"colorbar\": {\"outlinewidth\": 0, \"ticks\": \"\"}, \"colorscale\": [[0.0, \"#0d0887\"], [0.1111111111111111, \"#46039f\"], [0.2222222222222222, \"#7201a8\"], [0.3333333333333333, \"#9c179e\"], [0.4444444444444444, \"#bd3786\"], [0.5555555555555556, \"#d8576b\"], [0.6666666666666666, \"#ed7953\"], [0.7777777777777778, \"#fb9f3a\"], [0.8888888888888888, \"#fdca26\"], [1.0, \"#f0f921\"]], \"type\": \"heatmap\"}], \"heatmapgl\": [{\"colorbar\": {\"outlinewidth\": 0, \"ticks\": \"\"}, \"colorscale\": [[0.0, \"#0d0887\"], [0.1111111111111111, \"#46039f\"], [0.2222222222222222, \"#7201a8\"], [0.3333333333333333, \"#9c179e\"], [0.4444444444444444, \"#bd3786\"], [0.5555555555555556, \"#d8576b\"], [0.6666666666666666, \"#ed7953\"], [0.7777777777777778, \"#fb9f3a\"], [0.8888888888888888, \"#fdca26\"], [1.0, \"#f0f921\"]], \"type\": \"heatmapgl\"}], \"histogram\": [{\"marker\": {\"colorbar\": {\"outlinewidth\": 0, \"ticks\": \"\"}}, \"type\": \"histogram\"}], \"histogram2d\": [{\"colorbar\": {\"outlinewidth\": 0, \"ticks\": \"\"}, \"colorscale\": [[0.0, \"#0d0887\"], [0.1111111111111111, \"#46039f\"], [0.2222222222222222, \"#7201a8\"], [0.3333333333333333, \"#9c179e\"], [0.4444444444444444, \"#bd3786\"], [0.5555555555555556, \"#d8576b\"], [0.6666666666666666, \"#ed7953\"], [0.7777777777777778, \"#fb9f3a\"], [0.8888888888888888, \"#fdca26\"], [1.0, \"#f0f921\"]], \"type\": \"histogram2d\"}], \"histogram2dcontour\": [{\"colorbar\": {\"outlinewidth\": 0, \"ticks\": \"\"}, \"colorscale\": [[0.0, \"#0d0887\"], [0.1111111111111111, \"#46039f\"], [0.2222222222222222, \"#7201a8\"], [0.3333333333333333, \"#9c179e\"], [0.4444444444444444, \"#bd3786\"], [0.5555555555555556, \"#d8576b\"], [0.6666666666666666, \"#ed7953\"], [0.7777777777777778, \"#fb9f3a\"], [0.8888888888888888, \"#fdca26\"], [1.0, \"#f0f921\"]], \"type\": \"histogram2dcontour\"}], \"mesh3d\": [{\"colorbar\": {\"outlinewidth\": 0, \"ticks\": \"\"}, \"type\": \"mesh3d\"}], \"parcoords\": [{\"line\": {\"colorbar\": {\"outlinewidth\": 0, \"ticks\": \"\"}}, \"type\": \"parcoords\"}], \"pie\": [{\"automargin\": true, \"type\": \"pie\"}], \"scatter\": [{\"marker\": {\"colorbar\": {\"outlinewidth\": 0, \"ticks\": \"\"}}, \"type\": \"scatter\"}], \"scatter3d\": [{\"line\": {\"colorbar\": {\"outlinewidth\": 0, \"ticks\": \"\"}}, \"marker\": {\"colorbar\": {\"outlinewidth\": 0, \"ticks\": \"\"}}, \"type\": \"scatter3d\"}], \"scattercarpet\": [{\"marker\": {\"colorbar\": {\"outlinewidth\": 0, \"ticks\": \"\"}}, \"type\": \"scattercarpet\"}], \"scattergeo\": [{\"marker\": {\"colorbar\": {\"outlinewidth\": 0, \"ticks\": \"\"}}, \"type\": \"scattergeo\"}], \"scattergl\": [{\"marker\": {\"colorbar\": {\"outlinewidth\": 0, \"ticks\": \"\"}}, \"type\": \"scattergl\"}], \"scattermapbox\": [{\"marker\": {\"colorbar\": {\"outlinewidth\": 0, \"ticks\": \"\"}}, \"type\": \"scattermapbox\"}], \"scatterpolar\": [{\"marker\": {\"colorbar\": {\"outlinewidth\": 0, \"ticks\": \"\"}}, \"type\": \"scatterpolar\"}], \"scatterpolargl\": [{\"marker\": {\"colorbar\": {\"outlinewidth\": 0, \"ticks\": \"\"}}, \"type\": \"scatterpolargl\"}], \"scatterternary\": [{\"marker\": {\"colorbar\": {\"outlinewidth\": 0, \"ticks\": \"\"}}, \"type\": \"scatterternary\"}], \"surface\": [{\"colorbar\": {\"outlinewidth\": 0, \"ticks\": \"\"}, \"colorscale\": [[0.0, \"#0d0887\"], [0.1111111111111111, \"#46039f\"], [0.2222222222222222, \"#7201a8\"], [0.3333333333333333, \"#9c179e\"], [0.4444444444444444, \"#bd3786\"], [0.5555555555555556, \"#d8576b\"], [0.6666666666666666, \"#ed7953\"], [0.7777777777777778, \"#fb9f3a\"], [0.8888888888888888, \"#fdca26\"], [1.0, \"#f0f921\"]], \"type\": \"surface\"}], \"table\": [{\"cells\": {\"fill\": {\"color\": \"#EBF0F8\"}, \"line\": {\"color\": \"white\"}}, \"header\": {\"fill\": {\"color\": \"#C8D4E3\"}, \"line\": {\"color\": \"white\"}}, \"type\": \"table\"}]}, \"layout\": {\"annotationdefaults\": {\"arrowcolor\": \"#2a3f5f\", \"arrowhead\": 0, \"arrowwidth\": 1}, \"coloraxis\": {\"colorbar\": {\"outlinewidth\": 0, \"ticks\": \"\"}}, \"colorscale\": {\"diverging\": [[0, \"#8e0152\"], [0.1, \"#c51b7d\"], [0.2, \"#de77ae\"], [0.3, \"#f1b6da\"], [0.4, \"#fde0ef\"], [0.5, \"#f7f7f7\"], [0.6, \"#e6f5d0\"], [0.7, \"#b8e186\"], [0.8, \"#7fbc41\"], [0.9, \"#4d9221\"], [1, \"#276419\"]], \"sequential\": [[0.0, \"#0d0887\"], [0.1111111111111111, \"#46039f\"], [0.2222222222222222, \"#7201a8\"], [0.3333333333333333, \"#9c179e\"], [0.4444444444444444, \"#bd3786\"], [0.5555555555555556, \"#d8576b\"], [0.6666666666666666, \"#ed7953\"], [0.7777777777777778, \"#fb9f3a\"], [0.8888888888888888, \"#fdca26\"], [1.0, \"#f0f921\"]], \"sequentialminus\": [[0.0, \"#0d0887\"], [0.1111111111111111, \"#46039f\"], [0.2222222222222222, \"#7201a8\"], [0.3333333333333333, \"#9c179e\"], [0.4444444444444444, \"#bd3786\"], [0.5555555555555556, \"#d8576b\"], [0.6666666666666666, \"#ed7953\"], [0.7777777777777778, \"#fb9f3a\"], [0.8888888888888888, \"#fdca26\"], [1.0, \"#f0f921\"]]}, \"colorway\": [\"#636efa\", \"#EF553B\", \"#00cc96\", \"#ab63fa\", \"#FFA15A\", \"#19d3f3\", \"#FF6692\", \"#B6E880\", \"#FF97FF\", \"#FECB52\"], \"font\": {\"color\": \"#2a3f5f\"}, \"geo\": {\"bgcolor\": \"white\", \"lakecolor\": \"white\", \"landcolor\": \"#E5ECF6\", \"showlakes\": true, \"showland\": true, \"subunitcolor\": \"white\"}, \"hoverlabel\": {\"align\": \"left\"}, \"hovermode\": \"closest\", \"mapbox\": {\"style\": \"light\"}, \"paper_bgcolor\": \"white\", \"plot_bgcolor\": \"#E5ECF6\", \"polar\": {\"angularaxis\": {\"gridcolor\": \"white\", \"linecolor\": \"white\", \"ticks\": \"\"}, \"bgcolor\": \"#E5ECF6\", \"radialaxis\": {\"gridcolor\": \"white\", \"linecolor\": \"white\", \"ticks\": \"\"}}, \"scene\": {\"xaxis\": {\"backgroundcolor\": \"#E5ECF6\", \"gridcolor\": \"white\", \"gridwidth\": 2, \"linecolor\": \"white\", \"showbackground\": true, \"ticks\": \"\", \"zerolinecolor\": \"white\"}, \"yaxis\": {\"backgroundcolor\": \"#E5ECF6\", \"gridcolor\": \"white\", \"gridwidth\": 2, \"linecolor\": \"white\", \"showbackground\": true, \"ticks\": \"\", \"zerolinecolor\": \"white\"}, \"zaxis\": {\"backgroundcolor\": \"#E5ECF6\", \"gridcolor\": \"white\", \"gridwidth\": 2, \"linecolor\": \"white\", \"showbackground\": true, \"ticks\": \"\", \"zerolinecolor\": \"white\"}}, \"shapedefaults\": {\"line\": {\"color\": \"#2a3f5f\"}}, \"ternary\": {\"aaxis\": {\"gridcolor\": \"white\", \"linecolor\": \"white\", \"ticks\": \"\"}, \"baxis\": {\"gridcolor\": \"white\", \"linecolor\": \"white\", \"ticks\": \"\"}, \"bgcolor\": \"#E5ECF6\", \"caxis\": {\"gridcolor\": \"white\", \"linecolor\": \"white\", \"ticks\": \"\"}}, \"title\": {\"x\": 0.05}, \"xaxis\": {\"automargin\": true, \"gridcolor\": \"white\", \"linecolor\": \"white\", \"ticks\": \"\", \"title\": {\"standoff\": 15}, \"zerolinecolor\": \"white\", \"zerolinewidth\": 2}, \"yaxis\": {\"automargin\": true, \"gridcolor\": \"white\", \"linecolor\": \"white\", \"ticks\": \"\", \"title\": {\"standoff\": 15}, \"zerolinecolor\": \"white\", \"zerolinewidth\": 2}}}, \"xaxis\": {\"anchor\": \"y\", \"domain\": [0.0, 1.0], \"title\": {\"text\": \"Country\"}}, \"yaxis\": {\"anchor\": \"x\", \"domain\": [0.0, 1.0], \"title\": {\"text\": \"Value\"}}},\n",
              "                        {\"responsive\": true}\n",
              "                    ).then(function(){\n",
              "                            \n",
              "var gd = document.getElementById('4522f1cb-bb87-4a3c-a4e7-a35677faf8f5');\n",
              "var x = new MutationObserver(function (mutations, observer) {{\n",
              "        var display = window.getComputedStyle(gd).display;\n",
              "        if (!display || display === 'none') {{\n",
              "            console.log([gd, 'removed!']);\n",
              "            Plotly.purge(gd);\n",
              "            observer.disconnect();\n",
              "        }}\n",
              "}});\n",
              "\n",
              "// Listen for the removal of the full notebook cells\n",
              "var notebookContainer = gd.closest('#notebook-container');\n",
              "if (notebookContainer) {{\n",
              "    x.observe(notebookContainer, {childList: true});\n",
              "}}\n",
              "\n",
              "// Listen for the clearing of the current output cell\n",
              "var outputEl = gd.closest('.output');\n",
              "if (outputEl) {{\n",
              "    x.observe(outputEl, {childList: true});\n",
              "}}\n",
              "\n",
              "                        })\n",
              "                };\n",
              "                \n",
              "            </script>\n",
              "        </div>\n",
              "</body>\n",
              "</html>"
            ]
          },
          "metadata": {
            "tags": []
          }
        }
      ]
    },
    {
      "cell_type": "markdown",
      "metadata": {
        "id": "sRc_gwGTt96R"
      },
      "source": [
        "Conduct the Wilcoxon Signed-rank test to compare probability of GDP per capita for the first quarter of 2019 is larger than 2020 or not for all countries\n",
        "\n"
      ]
    },
    {
      "cell_type": "code",
      "metadata": {
        "id": "6oh7baX-w6hL",
        "colab": {
          "base_uri": "https://localhost:8080/",
          "height": 80
        },
        "outputId": "9584da91-b248-479c-e604-a9bf63ab10c0"
      },
      "source": [
        "### install the package\n",
        "import pingouin as pg\n",
        "pg.wilcoxon(pre, post, tail='two-sided')"
      ],
      "execution_count": null,
      "outputs": [
        {
          "output_type": "execute_result",
          "data": {
            "text/html": [
              "<div>\n",
              "<style scoped>\n",
              "    .dataframe tbody tr th:only-of-type {\n",
              "        vertical-align: middle;\n",
              "    }\n",
              "\n",
              "    .dataframe tbody tr th {\n",
              "        vertical-align: top;\n",
              "    }\n",
              "\n",
              "    .dataframe thead th {\n",
              "        text-align: right;\n",
              "    }\n",
              "</style>\n",
              "<table border=\"1\" class=\"dataframe\">\n",
              "  <thead>\n",
              "    <tr style=\"text-align: right;\">\n",
              "      <th></th>\n",
              "      <th>W-val</th>\n",
              "      <th>tail</th>\n",
              "      <th>p-val</th>\n",
              "      <th>RBC</th>\n",
              "      <th>CLES</th>\n",
              "    </tr>\n",
              "  </thead>\n",
              "  <tbody>\n",
              "    <tr>\n",
              "      <th>Wilcoxon</th>\n",
              "      <td>0.0</td>\n",
              "      <td>two-sided</td>\n",
              "      <td>5.465166e-08</td>\n",
              "      <td>1.0</td>\n",
              "      <td>0.604208</td>\n",
              "    </tr>\n",
              "  </tbody>\n",
              "</table>\n",
              "</div>"
            ],
            "text/plain": [
              "          W-val       tail         p-val  RBC      CLES\n",
              "Wilcoxon    0.0  two-sided  5.465166e-08  1.0  0.604208"
            ]
          },
          "metadata": {
            "tags": []
          },
          "execution_count": 138
        }
      ]
    },
    {
      "cell_type": "markdown",
      "metadata": {
        "id": "Or1iIiz4y82G"
      },
      "source": [
        "# Assumption: Pearson or Spearman Test of Correlations"
      ]
    },
    {
      "cell_type": "markdown",
      "metadata": {
        "id": "OWT7qBxpzFjb"
      },
      "source": [
        "**Histogram and scatterplot**"
      ]
    },
    {
      "cell_type": "code",
      "metadata": {
        "id": "_0nLvsz_zETR"
      },
      "source": [
        "#install package\n",
        "import seaborn as sns"
      ],
      "execution_count": null,
      "outputs": []
    },
    {
      "cell_type": "code",
      "metadata": {
        "id": "yjnqMgl0z8mc",
        "colab": {
          "base_uri": "https://localhost:8080/",
          "height": 204
        },
        "outputId": "398fdf87-8922-416e-cf37-a18fa561d4a0"
      },
      "source": [
        "df_joint= df_2019_Q2.merge(df_2020_Q2, how='inner',on=\"Country\")\n",
        "df_joint.columns =['Country','2019_Q2','2020_Q2']\n",
        "df_joint.head()"
      ],
      "execution_count": null,
      "outputs": [
        {
          "output_type": "execute_result",
          "data": {
            "text/html": [
              "<div>\n",
              "<style scoped>\n",
              "    .dataframe tbody tr th:only-of-type {\n",
              "        vertical-align: middle;\n",
              "    }\n",
              "\n",
              "    .dataframe tbody tr th {\n",
              "        vertical-align: top;\n",
              "    }\n",
              "\n",
              "    .dataframe thead th {\n",
              "        text-align: right;\n",
              "    }\n",
              "</style>\n",
              "<table border=\"1\" class=\"dataframe\">\n",
              "  <thead>\n",
              "    <tr style=\"text-align: right;\">\n",
              "      <th></th>\n",
              "      <th>Country</th>\n",
              "      <th>2019_Q2</th>\n",
              "      <th>2020_Q2</th>\n",
              "    </tr>\n",
              "  </thead>\n",
              "  <tbody>\n",
              "    <tr>\n",
              "      <th>0</th>\n",
              "      <td>Australia</td>\n",
              "      <td>54425.3</td>\n",
              "      <td>50912.7</td>\n",
              "    </tr>\n",
              "    <tr>\n",
              "      <th>1</th>\n",
              "      <td>Austria</td>\n",
              "      <td>58827.2</td>\n",
              "      <td>50477.1</td>\n",
              "    </tr>\n",
              "    <tr>\n",
              "      <th>2</th>\n",
              "      <td>Belgium</td>\n",
              "      <td>54675.1</td>\n",
              "      <td>47330.7</td>\n",
              "    </tr>\n",
              "    <tr>\n",
              "      <th>3</th>\n",
              "      <td>Bulgaria</td>\n",
              "      <td>24488.9</td>\n",
              "      <td>22933.4</td>\n",
              "    </tr>\n",
              "    <tr>\n",
              "      <th>4</th>\n",
              "      <td>Canada</td>\n",
              "      <td>51537.9</td>\n",
              "      <td>44462.8</td>\n",
              "    </tr>\n",
              "  </tbody>\n",
              "</table>\n",
              "</div>"
            ],
            "text/plain": [
              "     Country  2019_Q2  2020_Q2\n",
              "0  Australia  54425.3  50912.7\n",
              "1    Austria  58827.2  50477.1\n",
              "2    Belgium  54675.1  47330.7\n",
              "3   Bulgaria  24488.9  22933.4\n",
              "4     Canada  51537.9  44462.8"
            ]
          },
          "metadata": {
            "tags": []
          },
          "execution_count": 140
        }
      ]
    },
    {
      "cell_type": "markdown",
      "metadata": {
        "id": "H3L2jTu3089O"
      },
      "source": [
        "**draw scatter and histgram plot**\n",
        "\n",
        "https://seaborn.pydata.org/generated/seaborn.jointplot.html"
      ]
    },
    {
      "cell_type": "code",
      "metadata": {
        "id": "ajKUOTWjzoTw",
        "colab": {
          "base_uri": "https://localhost:8080/",
          "height": 459
        },
        "outputId": "9e16d6b3-3a4b-471a-a40a-a85c3b110f01"
      },
      "source": [
        "#draw the plot\n",
        "sns.jointplot(data=df_joint, x=\"2019_Q2\", y=\"2020_Q2\")"
      ],
      "execution_count": null,
      "outputs": [
        {
          "output_type": "execute_result",
          "data": {
            "text/plain": [
              "<seaborn.axisgrid.JointGrid at 0x7fa3d1a012e8>"
            ]
          },
          "metadata": {
            "tags": []
          },
          "execution_count": 141
        },
        {
          "output_type": "display_data",
          "data": {
            "image/png": "[encoded data removed]",
            "text/plain": [
              "<Figure size 432x432 with 3 Axes>"
            ]
          },
          "metadata": {
            "tags": [],
            "needs_background": "light"
          }
        }
      ]
    },
    {
      "cell_type": "markdown",
      "metadata": {
        "id": "I-aTgMcz03BL"
      },
      "source": [
        "**Test for multivariate normality**\n",
        "\n",
        "https://pingouin-stats.org/generated/pingouin.multivariate_normality.html"
      ]
    },
    {
      "cell_type": "code",
      "metadata": {
        "id": "K9GZCHZ001r6",
        "colab": {
          "base_uri": "https://localhost:8080/"
        },
        "outputId": "0efc078f-c874-4f01-9939-40bae8513033"
      },
      "source": [
        "X = df_joint[['2019_Q2', '2020_Q2']]\n",
        "pg.multivariate_normality(X, alpha=.05)"
      ],
      "execution_count": null,
      "outputs": [
        {
          "output_type": "execute_result",
          "data": {
            "text/plain": [
              "HZResults(hz=0.7158322195020562, pval=0.11142774379515946, normal=True)"
            ]
          },
          "metadata": {
            "tags": []
          },
          "execution_count": 142
        }
      ]
    },
    {
      "cell_type": "markdown",
      "metadata": {
        "id": "uGJ33WUN1Nwm"
      },
      "source": [
        "**We can't reject multivariate normality, so we will use pearson test for correlations**\n",
        "\n",
        "https://pingouin-stats.org/generated/pingouin.corr.html#pingouin.corr"
      ]
    },
    {
      "cell_type": "code",
      "metadata": {
        "id": "saBC15hL1TfW",
        "colab": {
          "base_uri": "https://localhost:8080/",
          "height": 80
        },
        "outputId": "24b6bc70-5564-4aef-bbcb-ce37fa411943"
      },
      "source": [
        "x=df_joint['2019_Q2']\n",
        "y=df_joint['2020_Q2']\n",
        "pg.corr(x, y, method=\"pearson\").round(3)"
      ],
      "execution_count": null,
      "outputs": [
        {
          "output_type": "execute_result",
          "data": {
            "text/html": [
              "<div>\n",
              "<style scoped>\n",
              "    .dataframe tbody tr th:only-of-type {\n",
              "        vertical-align: middle;\n",
              "    }\n",
              "\n",
              "    .dataframe tbody tr th {\n",
              "        vertical-align: top;\n",
              "    }\n",
              "\n",
              "    .dataframe thead th {\n",
              "        text-align: right;\n",
              "    }\n",
              "</style>\n",
              "<table border=\"1\" class=\"dataframe\">\n",
              "  <thead>\n",
              "    <tr style=\"text-align: right;\">\n",
              "      <th></th>\n",
              "      <th>n</th>\n",
              "      <th>r</th>\n",
              "      <th>CI95%</th>\n",
              "      <th>r2</th>\n",
              "      <th>adj_r2</th>\n",
              "      <th>p-val</th>\n",
              "      <th>BF10</th>\n",
              "      <th>power</th>\n",
              "    </tr>\n",
              "  </thead>\n",
              "  <tbody>\n",
              "    <tr>\n",
              "      <th>pearson</th>\n",
              "      <td>39</td>\n",
              "      <td>0.993</td>\n",
              "      <td>[0.99, 1.0]</td>\n",
              "      <td>0.987</td>\n",
              "      <td>0.986</td>\n",
              "      <td>0.0</td>\n",
              "      <td>1.327e+32</td>\n",
              "      <td>1.0</td>\n",
              "    </tr>\n",
              "  </tbody>\n",
              "</table>\n",
              "</div>"
            ],
            "text/plain": [
              "          n      r        CI95%     r2  adj_r2  p-val       BF10  power\n",
              "pearson  39  0.993  [0.99, 1.0]  0.987   0.986    0.0  1.327e+32    1.0"
            ]
          },
          "metadata": {
            "tags": []
          },
          "execution_count": 143
        }
      ]
    },
    {
      "cell_type": "markdown",
      "metadata": {
        "id": "bgd2n8cDR8D9"
      },
      "source": [
        "#Power Analysis"
      ]
    },
    {
      "cell_type": "markdown",
      "metadata": {
        "id": "kQ9t37Hsah7v"
      },
      "source": [
        "**Power analysis for T-test**\n",
        "\n",
        "https://pingouin-stats.org/generated/pingouin.power_ttest.html#pingouin.power_ttest\n",
        "\n",
        "\n",
        "Note: For a paired T-test, the sample size n corresponds to the number of pairs. For an independent two-sample T-test with equal sample sizes, n corresponds to the sample size of each group (i.e. number of observations in one group)."
      ]
    },
    {
      "cell_type": "code",
      "metadata": {
        "id": "A1mo5PXKa8vU"
      },
      "source": [
        "#install the package\n",
        "from pingouin import power_ttest"
      ],
      "execution_count": null,
      "outputs": []
    },
    {
      "cell_type": "markdown",
      "metadata": {
        "id": "TkLiwFGJcUgv"
      },
      "source": [
        "d is the Cohen d effect size, Power is 1-Type II error, Alpha is the type I error"
      ]
    },
    {
      "cell_type": "code",
      "metadata": {
        "id": "aC38cUJUCuwU",
        "colab": {
          "base_uri": "https://localhost:8080/"
        },
        "outputId": "686b94fa-0813-4d84-f592-827553483695"
      },
      "source": [
        "### conduct the test\n",
        "print('n: %.4f' % power_ttest(d=0.1, power=0.80, alpha=0.05))"
      ],
      "execution_count": null,
      "outputs": [
        {
          "output_type": "stream",
          "text": [
            "n: 1570.7331\n"
          ],
          "name": "stdout"
        }
      ]
    },
    {
      "cell_type": "markdown",
      "metadata": {
        "id": "ydKpqpXFSVK9"
      },
      "source": [
        "**Power analysis for ANOVA**\n",
        "\n",
        "https://pingouin-stats.org/generated/pingouin.power_anova.html#pingouin.power_anova"
      ]
    },
    {
      "cell_type": "code",
      "metadata": {
        "id": "doXcNDTRbYl-"
      },
      "source": [
        "# install the package\n",
        "from pingouin import power_anova"
      ],
      "execution_count": null,
      "outputs": []
    },
    {
      "cell_type": "markdown",
      "metadata": {
        "id": "Yd3W82Rxchzo"
      },
      "source": [
        "eta is the effect size for ANOVA (the level of correlation across catergories), k is the number of categories, Power is 1-Type II error, alpha is type I error"
      ]
    },
    {
      "cell_type": "code",
      "metadata": {
        "id": "pzvWi27PcfXL",
        "colab": {
          "base_uri": "https://localhost:8080/"
        },
        "outputId": "9ebd360e-2627-4227-fcad-d8ed6939e6aa"
      },
      "source": [
        "### conduct the test\n",
        "print('n: %.4f' % power_anova(eta=0.1, k=3, power=0.80, alpha=0.05))"
      ],
      "execution_count": null,
      "outputs": [
        {
          "output_type": "stream",
          "text": [
            "n: 29.9255\n"
          ],
          "name": "stdout"
        }
      ]
    },
    {
      "cell_type": "markdown",
      "metadata": {
        "id": "FozrdWicde-W"
      },
      "source": [
        "**Power analysis for Chi-square Test**\n",
        "\n",
        "https://pingouin-stats.org/generated/pingouin.power_chi2.html#pingouin.power_chi2"
      ]
    },
    {
      "cell_type": "code",
      "metadata": {
        "id": "_egb1HH6dKWP"
      },
      "source": [
        "# install the package\n",
        "from pingouin import power_chi2"
      ],
      "execution_count": null,
      "outputs": []
    },
    {
      "cell_type": "markdown",
      "metadata": {
        "id": "Js1oXwnOe0YT"
      },
      "source": [
        "dof is the degress of freedom $=(r-1)*(c-1)$, where r is the number of rows in the expected frequency table and c is the nuber of columns in the expected frequency table. W is the effect size, which is the level of correlation. Power is 1-Type II error and Alpha is the type I error. "
      ]
    },
    {
      "cell_type": "code",
      "metadata": {
        "id": "VI7XlYXodvFg",
        "colab": {
          "base_uri": "https://localhost:8080/"
        },
        "outputId": "ff3b9dad-342b-418b-92a8-8f16022dfb06"
      },
      "source": [
        "### conduct the test\n",
        "print('n: %.4f' % power_chi2(dof=1, w=0.3, power=0.80, alpha=0.05))"
      ],
      "execution_count": null,
      "outputs": [
        {
          "output_type": "stream",
          "text": [
            "n: 87.2096\n"
          ],
          "name": "stdout"
        }
      ]
    },
    {
      "cell_type": "code",
      "metadata": {
        "id": "0v5HNAVaflVj"
      },
      "source": [
        ""
      ],
      "execution_count": null,
      "outputs": []
    }
  ]
}