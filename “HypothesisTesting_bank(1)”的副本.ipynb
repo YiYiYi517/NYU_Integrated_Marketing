{
  "nbformat": 4,
  "nbformat_minor": 0,
  "metadata": {
    "colab": {
      "name": "“HypothesisTesting.ipynb”的副本",
      "provenance": [],
      "include_colab_link": true
    },
    "kernelspec": {
      "name": "python3",
      "display_name": "Python 3"
    }
  },
  "cells": [
    {
      "cell_type": "markdown",
      "metadata": {
        "id": "view-in-github",
        "colab_type": "text"
      },
      "source": [
        "<a href=\"https://colab.research.google.com/github/YiYiYi517/NYU_Integrated_Marketing/blob/main/%E2%80%9CHypothesisTesting_bank(1)%E2%80%9D%E7%9A%84%E5%89%AF%E6%9C%AC.ipynb\" target=\"_parent\"><img src=\"https://colab.research.google.com/assets/colab-badge.svg\" alt=\"Open In Colab\"/></a>"
      ]
    },
    {
      "cell_type": "markdown",
      "metadata": {
        "id": "Ob_nrVYESXcz"
      },
      "source": [
        "# Preparation"
      ]
    },
    {
      "cell_type": "markdown",
      "metadata": {
        "id": "Omc83odVdmmS"
      },
      "source": [
        "**Install the Package Pandas and Numpy for the function of \"TABLE\" and \"Math\"**"
      ]
    },
    {
      "cell_type": "code",
      "metadata": {
        "id": "OlBeCKF6dlEK"
      },
      "source": [
        "import pandas as pd\n",
        "import numpy as np"
      ],
      "execution_count": 1,
      "outputs": []
    },
    {
      "cell_type": "markdown",
      "metadata": {
        "id": "xXnlLuN8c_YT"
      },
      "source": [
        "**Read the marketing data from Github Url (\"Read Raw\")**"
      ]
    },
    {
      "cell_type": "code",
      "metadata": {
        "id": "IPSrXY__MjdC",
        "colab": {
          "base_uri": "https://localhost:8080/",
          "height": 204
        },
        "outputId": "6a578b8b-1f33-476b-f239-ddca3ac727d7"
      },
      "source": [
        "df = pd.read_csv('https://raw.githubusercontent.com/YiYiYi517/NYU_Integrated_Marketing/main/HypothesisTesting_ANOVA/bank%20(1).csv',sep=\",\")\n",
        "df.head()"
      ],
      "execution_count": 2,
      "outputs": [
        {
          "output_type": "execute_result",
          "data": {
            "text/html": [
              "<div>\n",
              "<style scoped>\n",
              "    .dataframe tbody tr th:only-of-type {\n",
              "        vertical-align: middle;\n",
              "    }\n",
              "\n",
              "    .dataframe tbody tr th {\n",
              "        vertical-align: top;\n",
              "    }\n",
              "\n",
              "    .dataframe thead th {\n",
              "        text-align: right;\n",
              "    }\n",
              "</style>\n",
              "<table border=\"1\" class=\"dataframe\">\n",
              "  <thead>\n",
              "    <tr style=\"text-align: right;\">\n",
              "      <th></th>\n",
              "      <th>age</th>\n",
              "      <th>job</th>\n",
              "      <th>marital</th>\n",
              "      <th>education</th>\n",
              "      <th>default</th>\n",
              "      <th>balance</th>\n",
              "      <th>housing</th>\n",
              "      <th>loan</th>\n",
              "      <th>contact</th>\n",
              "      <th>day</th>\n",
              "      <th>month</th>\n",
              "      <th>duration</th>\n",
              "      <th>campaign</th>\n",
              "      <th>pdays</th>\n",
              "      <th>previous</th>\n",
              "      <th>poutcome</th>\n",
              "      <th>deposit</th>\n",
              "    </tr>\n",
              "  </thead>\n",
              "  <tbody>\n",
              "    <tr>\n",
              "      <th>0</th>\n",
              "      <td>59</td>\n",
              "      <td>admin.</td>\n",
              "      <td>married</td>\n",
              "      <td>secondary</td>\n",
              "      <td>no</td>\n",
              "      <td>2343</td>\n",
              "      <td>yes</td>\n",
              "      <td>no</td>\n",
              "      <td>unknown</td>\n",
              "      <td>5</td>\n",
              "      <td>may</td>\n",
              "      <td>1042</td>\n",
              "      <td>1</td>\n",
              "      <td>-1</td>\n",
              "      <td>0</td>\n",
              "      <td>unknown</td>\n",
              "      <td>yes</td>\n",
              "    </tr>\n",
              "    <tr>\n",
              "      <th>1</th>\n",
              "      <td>56</td>\n",
              "      <td>admin.</td>\n",
              "      <td>married</td>\n",
              "      <td>secondary</td>\n",
              "      <td>no</td>\n",
              "      <td>45</td>\n",
              "      <td>no</td>\n",
              "      <td>no</td>\n",
              "      <td>unknown</td>\n",
              "      <td>5</td>\n",
              "      <td>may</td>\n",
              "      <td>1467</td>\n",
              "      <td>1</td>\n",
              "      <td>-1</td>\n",
              "      <td>0</td>\n",
              "      <td>unknown</td>\n",
              "      <td>yes</td>\n",
              "    </tr>\n",
              "    <tr>\n",
              "      <th>2</th>\n",
              "      <td>41</td>\n",
              "      <td>technician</td>\n",
              "      <td>married</td>\n",
              "      <td>secondary</td>\n",
              "      <td>no</td>\n",
              "      <td>1270</td>\n",
              "      <td>yes</td>\n",
              "      <td>no</td>\n",
              "      <td>unknown</td>\n",
              "      <td>5</td>\n",
              "      <td>may</td>\n",
              "      <td>1389</td>\n",
              "      <td>1</td>\n",
              "      <td>-1</td>\n",
              "      <td>0</td>\n",
              "      <td>unknown</td>\n",
              "      <td>yes</td>\n",
              "    </tr>\n",
              "    <tr>\n",
              "      <th>3</th>\n",
              "      <td>55</td>\n",
              "      <td>services</td>\n",
              "      <td>married</td>\n",
              "      <td>secondary</td>\n",
              "      <td>no</td>\n",
              "      <td>2476</td>\n",
              "      <td>yes</td>\n",
              "      <td>no</td>\n",
              "      <td>unknown</td>\n",
              "      <td>5</td>\n",
              "      <td>may</td>\n",
              "      <td>579</td>\n",
              "      <td>1</td>\n",
              "      <td>-1</td>\n",
              "      <td>0</td>\n",
              "      <td>unknown</td>\n",
              "      <td>yes</td>\n",
              "    </tr>\n",
              "    <tr>\n",
              "      <th>4</th>\n",
              "      <td>54</td>\n",
              "      <td>admin.</td>\n",
              "      <td>married</td>\n",
              "      <td>tertiary</td>\n",
              "      <td>no</td>\n",
              "      <td>184</td>\n",
              "      <td>no</td>\n",
              "      <td>no</td>\n",
              "      <td>unknown</td>\n",
              "      <td>5</td>\n",
              "      <td>may</td>\n",
              "      <td>673</td>\n",
              "      <td>2</td>\n",
              "      <td>-1</td>\n",
              "      <td>0</td>\n",
              "      <td>unknown</td>\n",
              "      <td>yes</td>\n",
              "    </tr>\n",
              "  </tbody>\n",
              "</table>\n",
              "</div>"
            ],
            "text/plain": [
              "   age         job  marital  education  ... pdays  previous poutcome deposit\n",
              "0   59      admin.  married  secondary  ...    -1         0  unknown     yes\n",
              "1   56      admin.  married  secondary  ...    -1         0  unknown     yes\n",
              "2   41  technician  married  secondary  ...    -1         0  unknown     yes\n",
              "3   55    services  married  secondary  ...    -1         0  unknown     yes\n",
              "4   54      admin.  married   tertiary  ...    -1         0  unknown     yes\n",
              "\n",
              "[5 rows x 17 columns]"
            ]
          },
          "metadata": {
            "tags": []
          },
          "execution_count": 2
        }
      ]
    },
    {
      "cell_type": "markdown",
      "metadata": {
        "id": "m0xoTL5yfiUo"
      },
      "source": [
        "**View the data information**"
      ]
    },
    {
      "cell_type": "code",
      "metadata": {
        "id": "OdQRdpARflGt",
        "colab": {
          "base_uri": "https://localhost:8080/"
        },
        "outputId": "a2a9ece2-0d91-4632-f92c-62c7e943068b"
      },
      "source": [
        "df.info()"
      ],
      "execution_count": 3,
      "outputs": [
        {
          "output_type": "stream",
          "text": [
            "<class 'pandas.core.frame.DataFrame'>\n",
            "RangeIndex: 11162 entries, 0 to 11161\n",
            "Data columns (total 17 columns):\n",
            " #   Column     Non-Null Count  Dtype \n",
            "---  ------     --------------  ----- \n",
            " 0   age        11162 non-null  int64 \n",
            " 1   job        11162 non-null  object\n",
            " 2   marital    11162 non-null  object\n",
            " 3   education  11162 non-null  object\n",
            " 4   default    11162 non-null  object\n",
            " 5   balance    11162 non-null  int64 \n",
            " 6   housing    11162 non-null  object\n",
            " 7   loan       11162 non-null  object\n",
            " 8   contact    11162 non-null  object\n",
            " 9   day        11162 non-null  int64 \n",
            " 10  month      11162 non-null  object\n",
            " 11  duration   11162 non-null  int64 \n",
            " 12  campaign   11162 non-null  int64 \n",
            " 13  pdays      11162 non-null  int64 \n",
            " 14  previous   11162 non-null  int64 \n",
            " 15  poutcome   11162 non-null  object\n",
            " 16  deposit    11162 non-null  object\n",
            "dtypes: int64(7), object(10)\n",
            "memory usage: 1.4+ MB\n"
          ],
          "name": "stdout"
        }
      ]
    },
    {
      "cell_type": "markdown",
      "metadata": {
        "id": "281445ZcdUNb"
      },
      "source": [
        "**Install the pingouin Package**"
      ]
    },
    {
      "cell_type": "code",
      "metadata": {
        "id": "e71QYj3bgSae",
        "colab": {
          "base_uri": "https://localhost:8080/"
        },
        "outputId": "ee010719-b4c8-4665-f2a5-67afd5a134a1"
      },
      "source": [
        "pip install pingouin"
      ],
      "execution_count": 4,
      "outputs": [
        {
          "output_type": "stream",
          "text": [
            "Collecting pingouin\n",
            "\u001b[?25l  Downloading https://files.pythonhosted.org/packages/e6/5f/4618f878765a8b7037b8831f19105c5c2764b26e5e9afa4a29c58fc11d26/pingouin-0.3.8.tar.gz (223kB)\n",
            "\r\u001b[K     |█▌                              | 10kB 14.2MB/s eta 0:00:01\r\u001b[K     |███                             | 20kB 12.6MB/s eta 0:00:01\r\u001b[K     |████▍                           | 30kB 8.1MB/s eta 0:00:01\r\u001b[K     |█████▉                          | 40kB 7.4MB/s eta 0:00:01\r\u001b[K     |███████▍                        | 51kB 3.9MB/s eta 0:00:01\r\u001b[K     |████████▉                       | 61kB 4.4MB/s eta 0:00:01\r\u001b[K     |██████████▎                     | 71kB 4.6MB/s eta 0:00:01\r\u001b[K     |███████████▊                    | 81kB 4.9MB/s eta 0:00:01\r\u001b[K     |█████████████▏                  | 92kB 5.1MB/s eta 0:00:01\r\u001b[K     |██████████████▊                 | 102kB 5.2MB/s eta 0:00:01\r\u001b[K     |████████████████▏               | 112kB 5.2MB/s eta 0:00:01\r\u001b[K     |█████████████████▋              | 122kB 5.2MB/s eta 0:00:01\r\u001b[K     |███████████████████             | 133kB 5.2MB/s eta 0:00:01\r\u001b[K     |████████████████████▌           | 143kB 5.2MB/s eta 0:00:01\r\u001b[K     |██████████████████████          | 153kB 5.2MB/s eta 0:00:01\r\u001b[K     |███████████████████████▌        | 163kB 5.2MB/s eta 0:00:01\r\u001b[K     |█████████████████████████       | 174kB 5.2MB/s eta 0:00:01\r\u001b[K     |██████████████████████████▍     | 184kB 5.2MB/s eta 0:00:01\r\u001b[K     |████████████████████████████    | 194kB 5.2MB/s eta 0:00:01\r\u001b[K     |█████████████████████████████▍  | 204kB 5.2MB/s eta 0:00:01\r\u001b[K     |██████████████████████████████▉ | 215kB 5.2MB/s eta 0:00:01\r\u001b[K     |████████████████████████████████| 225kB 5.2MB/s \n",
            "\u001b[?25hRequirement already satisfied: numpy>=1.15 in /usr/local/lib/python3.6/dist-packages (from pingouin) (1.18.5)\n",
            "Requirement already satisfied: scipy>=1.3 in /usr/local/lib/python3.6/dist-packages (from pingouin) (1.4.1)\n",
            "Requirement already satisfied: pandas>=0.24 in /usr/local/lib/python3.6/dist-packages (from pingouin) (1.1.4)\n",
            "Requirement already satisfied: matplotlib>=3.0.2 in /usr/local/lib/python3.6/dist-packages (from pingouin) (3.2.2)\n",
            "Requirement already satisfied: seaborn>=0.9.0 in /usr/local/lib/python3.6/dist-packages (from pingouin) (0.11.0)\n",
            "Requirement already satisfied: statsmodels>=0.10.0 in /usr/local/lib/python3.6/dist-packages (from pingouin) (0.10.2)\n",
            "Requirement already satisfied: scikit-learn in /usr/local/lib/python3.6/dist-packages (from pingouin) (0.22.2.post1)\n",
            "Collecting pandas_flavor>=0.1.2\n",
            "  Downloading https://files.pythonhosted.org/packages/9a/57/7fbcff4c0961ed190ac5fcb0bd8194152ee1ee6487edf64fdbae16e2bc4b/pandas_flavor-0.2.0-py2.py3-none-any.whl\n",
            "Collecting outdated\n",
            "  Downloading https://files.pythonhosted.org/packages/86/70/2f166266438a30e94140f00c99c0eac1c45807981052a1d4c123660e1323/outdated-0.2.0.tar.gz\n",
            "Requirement already satisfied: tabulate in /usr/local/lib/python3.6/dist-packages (from pingouin) (0.8.7)\n",
            "Requirement already satisfied: pytz>=2017.2 in /usr/local/lib/python3.6/dist-packages (from pandas>=0.24->pingouin) (2018.9)\n",
            "Requirement already satisfied: python-dateutil>=2.7.3 in /usr/local/lib/python3.6/dist-packages (from pandas>=0.24->pingouin) (2.8.1)\n",
            "Requirement already satisfied: pyparsing!=2.0.4,!=2.1.2,!=2.1.6,>=2.0.1 in /usr/local/lib/python3.6/dist-packages (from matplotlib>=3.0.2->pingouin) (2.4.7)\n",
            "Requirement already satisfied: cycler>=0.10 in /usr/local/lib/python3.6/dist-packages (from matplotlib>=3.0.2->pingouin) (0.10.0)\n",
            "Requirement already satisfied: kiwisolver>=1.0.1 in /usr/local/lib/python3.6/dist-packages (from matplotlib>=3.0.2->pingouin) (1.3.1)\n",
            "Requirement already satisfied: patsy>=0.4.0 in /usr/local/lib/python3.6/dist-packages (from statsmodels>=0.10.0->pingouin) (0.5.1)\n",
            "Requirement already satisfied: joblib>=0.11 in /usr/local/lib/python3.6/dist-packages (from scikit-learn->pingouin) (0.17.0)\n",
            "Requirement already satisfied: xarray in /usr/local/lib/python3.6/dist-packages (from pandas_flavor>=0.1.2->pingouin) (0.15.1)\n",
            "Collecting littleutils\n",
            "  Downloading https://files.pythonhosted.org/packages/4e/b1/bb4e06f010947d67349f863b6a2ad71577f85590180a935f60543f622652/littleutils-0.2.2.tar.gz\n",
            "Requirement already satisfied: requests in /usr/local/lib/python3.6/dist-packages (from outdated->pingouin) (2.23.0)\n",
            "Requirement already satisfied: six>=1.5 in /usr/local/lib/python3.6/dist-packages (from python-dateutil>=2.7.3->pandas>=0.24->pingouin) (1.15.0)\n",
            "Requirement already satisfied: setuptools>=41.2 in /usr/local/lib/python3.6/dist-packages (from xarray->pandas_flavor>=0.1.2->pingouin) (50.3.2)\n",
            "Requirement already satisfied: idna<3,>=2.5 in /usr/local/lib/python3.6/dist-packages (from requests->outdated->pingouin) (2.10)\n",
            "Requirement already satisfied: certifi>=2017.4.17 in /usr/local/lib/python3.6/dist-packages (from requests->outdated->pingouin) (2020.11.8)\n",
            "Requirement already satisfied: chardet<4,>=3.0.2 in /usr/local/lib/python3.6/dist-packages (from requests->outdated->pingouin) (3.0.4)\n",
            "Requirement already satisfied: urllib3!=1.25.0,!=1.25.1,<1.26,>=1.21.1 in /usr/local/lib/python3.6/dist-packages (from requests->outdated->pingouin) (1.24.3)\n",
            "Building wheels for collected packages: pingouin, outdated, littleutils\n",
            "  Building wheel for pingouin (setup.py) ... \u001b[?25l\u001b[?25hdone\n",
            "  Created wheel for pingouin: filename=pingouin-0.3.8-cp36-none-any.whl size=221688 sha256=8ff3dc0c4adc2d43b604d82f157bf459a6ef64e77ff99f31e966d18636421cfc\n",
            "  Stored in directory: /root/.cache/pip/wheels/d6/9e/53/f885f73f29cf7c8cac3d8f4b1532bbfef2f5eb543946ac9055\n",
            "  Building wheel for outdated (setup.py) ... \u001b[?25l\u001b[?25hdone\n",
            "  Created wheel for outdated: filename=outdated-0.2.0-cp36-none-any.whl size=4961 sha256=bf43086ef7f35da34394c0708670422a947b096da323800caf02fa8d64a79220\n",
            "  Stored in directory: /root/.cache/pip/wheels/fd/7c/ef/814f514d31197310872b5abf353feb8fef9d67ee658e1e7e39\n",
            "  Building wheel for littleutils (setup.py) ... \u001b[?25l\u001b[?25hdone\n",
            "  Created wheel for littleutils: filename=littleutils-0.2.2-cp36-none-any.whl size=7051 sha256=5f88c8a4538bef6b316e59bcb4fa44849cad19377168c086ae2a261273d55ac8\n",
            "  Stored in directory: /root/.cache/pip/wheels/53/16/9f/ac67d15c40243754fd73f620e1b9b6dedc20492ecc19a2bae1\n",
            "Successfully built pingouin outdated littleutils\n",
            "Installing collected packages: pandas-flavor, littleutils, outdated, pingouin\n",
            "Successfully installed littleutils-0.2.2 outdated-0.2.0 pandas-flavor-0.2.0 pingouin-0.3.8\n"
          ],
          "name": "stdout"
        }
      ]
    },
    {
      "cell_type": "markdown",
      "metadata": {
        "id": "r0bhd0ULxkYm"
      },
      "source": [
        "**Import the pingouin package**"
      ]
    },
    {
      "cell_type": "code",
      "metadata": {
        "id": "2EytQjG8gUYf"
      },
      "source": [
        "import pingouin as pg"
      ],
      "execution_count": 5,
      "outputs": []
    },
    {
      "cell_type": "markdown",
      "metadata": {
        "id": "RoAn97wxSciV"
      },
      "source": [
        "# Hypothesis Test"
      ]
    },
    {
      "cell_type": "markdown",
      "metadata": {
        "id": "ZCVY6dXI321s"
      },
      "source": [
        "**One-Sample T-test**\n",
        "\n",
        "https://pingouin-stats.org/generated/pingouin.ttest.html#pingouin.ttest"
      ]
    },
    {
      "cell_type": "code",
      "metadata": {
        "id": "3G7BH6yqxh31",
        "colab": {
          "base_uri": "https://localhost:8080/",
          "height": 116
        },
        "outputId": "28b3491d-9923-4320-fb43-c9b6b9cad638"
      },
      "source": [
        "x=df['age']\n",
        "pg.ttest(x, 30)"
      ],
      "execution_count": 6,
      "outputs": [
        {
          "output_type": "stream",
          "text": [
            "/usr/local/lib/python3.6/dist-packages/pingouin/bayesian.py:152: RuntimeWarning: divide by zero encountered in double_scalars\n",
            "  bf10 = 1 / ((1 + t**2 / df)**(-(df + 1) / 2) / integr)\n"
          ],
          "name": "stderr"
        },
        {
          "output_type": "execute_result",
          "data": {
            "text/html": [
              "<div>\n",
              "<style scoped>\n",
              "    .dataframe tbody tr th:only-of-type {\n",
              "        vertical-align: middle;\n",
              "    }\n",
              "\n",
              "    .dataframe tbody tr th {\n",
              "        vertical-align: top;\n",
              "    }\n",
              "\n",
              "    .dataframe thead th {\n",
              "        text-align: right;\n",
              "    }\n",
              "</style>\n",
              "<table border=\"1\" class=\"dataframe\">\n",
              "  <thead>\n",
              "    <tr style=\"text-align: right;\">\n",
              "      <th></th>\n",
              "      <th>T</th>\n",
              "      <th>dof</th>\n",
              "      <th>tail</th>\n",
              "      <th>p-val</th>\n",
              "      <th>CI95%</th>\n",
              "      <th>cohen-d</th>\n",
              "      <th>BF10</th>\n",
              "      <th>power</th>\n",
              "    </tr>\n",
              "  </thead>\n",
              "  <tbody>\n",
              "    <tr>\n",
              "      <th>T-test</th>\n",
              "      <td>99.607372</td>\n",
              "      <td>11161</td>\n",
              "      <td>two-sided</td>\n",
              "      <td>0.0</td>\n",
              "      <td>[41.01, 41.45]</td>\n",
              "      <td>0.942802</td>\n",
              "      <td>inf</td>\n",
              "      <td>1.0</td>\n",
              "    </tr>\n",
              "  </tbody>\n",
              "</table>\n",
              "</div>"
            ],
            "text/plain": [
              "                T    dof       tail  ...   cohen-d BF10  power\n",
              "T-test  99.607372  11161  two-sided  ...  0.942802  inf    1.0\n",
              "\n",
              "[1 rows x 8 columns]"
            ]
          },
          "metadata": {
            "tags": []
          },
          "execution_count": 6
        }
      ]
    },
    {
      "cell_type": "code",
      "metadata": {
        "id": "Ryc4Fe-55z_r",
        "colab": {
          "base_uri": "https://localhost:8080/"
        },
        "outputId": "f75b810f-cb85-40fb-f502-b8d89a6988ac"
      },
      "source": [
        "df['age'].mean()"
      ],
      "execution_count": 7,
      "outputs": [
        {
          "output_type": "execute_result",
          "data": {
            "text/plain": [
              "41.231947679627304"
            ]
          },
          "metadata": {
            "tags": []
          },
          "execution_count": 7
        }
      ]
    },
    {
      "cell_type": "markdown",
      "metadata": {
        "id": "TB-2L_nt4c5m"
      },
      "source": [
        "**Two-Sample T-Test**\n",
        "\n",
        "https://pingouin-stats.org/generated/pingouin.ttest.html#pingouin.ttest"
      ]
    },
    {
      "cell_type": "code",
      "metadata": {
        "id": "dJAGdjmc3_N2"
      },
      "source": [
        "duration_housing = df[df['housing']=='yes']['duration']\n",
        "duration_no_housing = df[df['housing']=='no']['duration']"
      ],
      "execution_count": 8,
      "outputs": []
    },
    {
      "cell_type": "code",
      "metadata": {
        "id": "Dcwsn6Xw5qQj",
        "colab": {
          "base_uri": "https://localhost:8080/"
        },
        "outputId": "5b710ce4-7da1-43af-fb80-d601bd7b744e"
      },
      "source": [
        "duration_housing.mean()"
      ],
      "execution_count": 9,
      "outputs": [
        {
          "output_type": "execute_result",
          "data": {
            "text/plain": [
              "384.83298617686046"
            ]
          },
          "metadata": {
            "tags": []
          },
          "execution_count": 9
        }
      ]
    },
    {
      "cell_type": "code",
      "metadata": {
        "id": "kjKLiBEi5sTI",
        "colab": {
          "base_uri": "https://localhost:8080/"
        },
        "outputId": "28f2cdf4-d12f-47da-a9ff-c2d185e66282"
      },
      "source": [
        "duration_no_housing.mean()"
      ],
      "execution_count": 10,
      "outputs": [
        {
          "output_type": "execute_result",
          "data": {
            "text/plain": [
              "360.4645468457745"
            ]
          },
          "metadata": {
            "tags": []
          },
          "execution_count": 10
        }
      ]
    },
    {
      "cell_type": "code",
      "metadata": {
        "id": "-afumI8R5H3a",
        "colab": {
          "base_uri": "https://localhost:8080/",
          "height": 80
        },
        "outputId": "1b1d6e66-ea85-4be9-ece6-1a650c9b62ba"
      },
      "source": [
        "x=duration_housing\n",
        "y=duration_no_housing\n",
        "pg.ttest(x, y, paired=False)"
      ],
      "execution_count": 11,
      "outputs": [
        {
          "output_type": "execute_result",
          "data": {
            "text/html": [
              "<div>\n",
              "<style scoped>\n",
              "    .dataframe tbody tr th:only-of-type {\n",
              "        vertical-align: middle;\n",
              "    }\n",
              "\n",
              "    .dataframe tbody tr th {\n",
              "        vertical-align: top;\n",
              "    }\n",
              "\n",
              "    .dataframe thead th {\n",
              "        text-align: right;\n",
              "    }\n",
              "</style>\n",
              "<table border=\"1\" class=\"dataframe\">\n",
              "  <thead>\n",
              "    <tr style=\"text-align: right;\">\n",
              "      <th></th>\n",
              "      <th>T</th>\n",
              "      <th>dof</th>\n",
              "      <th>tail</th>\n",
              "      <th>p-val</th>\n",
              "      <th>CI95%</th>\n",
              "      <th>cohen-d</th>\n",
              "      <th>BF10</th>\n",
              "      <th>power</th>\n",
              "    </tr>\n",
              "  </thead>\n",
              "  <tbody>\n",
              "    <tr>\n",
              "      <th>T-test</th>\n",
              "      <td>3.6796</td>\n",
              "      <td>10576.042199</td>\n",
              "      <td>two-sided</td>\n",
              "      <td>0.000235</td>\n",
              "      <td>[11.39, 37.35]</td>\n",
              "      <td>0.07024</td>\n",
              "      <td>18.38</td>\n",
              "      <td>0.95949</td>\n",
              "    </tr>\n",
              "  </tbody>\n",
              "</table>\n",
              "</div>"
            ],
            "text/plain": [
              "             T           dof       tail  ...  cohen-d   BF10    power\n",
              "T-test  3.6796  10576.042199  two-sided  ...  0.07024  18.38  0.95949\n",
              "\n",
              "[1 rows x 8 columns]"
            ]
          },
          "metadata": {
            "tags": []
          },
          "execution_count": 11
        }
      ]
    },
    {
      "cell_type": "markdown",
      "metadata": {
        "id": "0rfEqqBk6U6r"
      },
      "source": [
        "**One-Way ANOVA**\n",
        "\n",
        "https://pingouin-stats.org/generated/pingouin.anova.html#pingouin.anova"
      ]
    },
    {
      "cell_type": "code",
      "metadata": {
        "id": "IVk35r9D5aBK",
        "colab": {
          "base_uri": "https://localhost:8080/",
          "height": 80
        },
        "outputId": "89e82e02-8f2e-4a5a-c439-d02e098a59e6"
      },
      "source": [
        "aov = pg.anova(dv='duration', between='education', data=df)\n",
        "aov.round(3)"
      ],
      "execution_count": 12,
      "outputs": [
        {
          "output_type": "execute_result",
          "data": {
            "text/html": [
              "<div>\n",
              "<style scoped>\n",
              "    .dataframe tbody tr th:only-of-type {\n",
              "        vertical-align: middle;\n",
              "    }\n",
              "\n",
              "    .dataframe tbody tr th {\n",
              "        vertical-align: top;\n",
              "    }\n",
              "\n",
              "    .dataframe thead th {\n",
              "        text-align: right;\n",
              "    }\n",
              "</style>\n",
              "<table border=\"1\" class=\"dataframe\">\n",
              "  <thead>\n",
              "    <tr style=\"text-align: right;\">\n",
              "      <th></th>\n",
              "      <th>Source</th>\n",
              "      <th>ddof1</th>\n",
              "      <th>ddof2</th>\n",
              "      <th>F</th>\n",
              "      <th>p-unc</th>\n",
              "      <th>np2</th>\n",
              "    </tr>\n",
              "  </thead>\n",
              "  <tbody>\n",
              "    <tr>\n",
              "      <th>0</th>\n",
              "      <td>education</td>\n",
              "      <td>3</td>\n",
              "      <td>11158</td>\n",
              "      <td>1.619</td>\n",
              "      <td>0.183</td>\n",
              "      <td>0.0</td>\n",
              "    </tr>\n",
              "  </tbody>\n",
              "</table>\n",
              "</div>"
            ],
            "text/plain": [
              "      Source  ddof1  ddof2      F  p-unc  np2\n",
              "0  education      3  11158  1.619  0.183  0.0"
            ]
          },
          "metadata": {
            "tags": []
          },
          "execution_count": 12
        }
      ]
    },
    {
      "cell_type": "code",
      "metadata": {
        "id": "8Jx7pUdJ8Bi8",
        "colab": {
          "base_uri": "https://localhost:8080/"
        },
        "outputId": "8f7e605b-2905-4497-d691-3a36b5430ed7"
      },
      "source": [
        "df.groupby('education')['duration'].mean()"
      ],
      "execution_count": 13,
      "outputs": [
        {
          "output_type": "execute_result",
          "data": {
            "text/plain": [
              "education\n",
              "primary      383.803333\n",
              "secondary    373.344960\n",
              "tertiary     368.627812\n",
              "unknown      346.448692\n",
              "Name: duration, dtype: float64"
            ]
          },
          "metadata": {
            "tags": []
          },
          "execution_count": 13
        }
      ]
    },
    {
      "cell_type": "markdown",
      "metadata": {
        "id": "EKhH89Jh89lS"
      },
      "source": [
        "**Two-Way ANOVA**\n",
        "\n",
        "https://pingouin-stats.org/generated/pingouin.anova.html#pingouin.anova"
      ]
    },
    {
      "cell_type": "code",
      "metadata": {
        "id": "JDUYXNFr8VW1",
        "colab": {
          "base_uri": "https://localhost:8080/",
          "height": 209
        },
        "outputId": "28e43f66-fe1d-4f08-fb65-aa18560da9c7"
      },
      "source": [
        "\n",
        "aov = pg.anova(dv='duration', between=['education','job'], data=df)\n",
        "aov.round(3)"
      ],
      "execution_count": 14,
      "outputs": [
        {
          "output_type": "stream",
          "text": [
            "/usr/local/lib/python3.6/dist-packages/statsmodels/tools/_testing.py:19: FutureWarning: pandas.util.testing is deprecated. Use the functions in the public API at pandas.testing instead.\n",
            "  import pandas.util.testing as tm\n"
          ],
          "name": "stderr"
        },
        {
          "output_type": "execute_result",
          "data": {
            "text/html": [
              "<div>\n",
              "<style scoped>\n",
              "    .dataframe tbody tr th:only-of-type {\n",
              "        vertical-align: middle;\n",
              "    }\n",
              "\n",
              "    .dataframe tbody tr th {\n",
              "        vertical-align: top;\n",
              "    }\n",
              "\n",
              "    .dataframe thead th {\n",
              "        text-align: right;\n",
              "    }\n",
              "</style>\n",
              "<table border=\"1\" class=\"dataframe\">\n",
              "  <thead>\n",
              "    <tr style=\"text-align: right;\">\n",
              "      <th></th>\n",
              "      <th>Source</th>\n",
              "      <th>SS</th>\n",
              "      <th>DF</th>\n",
              "      <th>MS</th>\n",
              "      <th>F</th>\n",
              "      <th>p-unc</th>\n",
              "      <th>np2</th>\n",
              "    </tr>\n",
              "  </thead>\n",
              "  <tbody>\n",
              "    <tr>\n",
              "      <th>0</th>\n",
              "      <td>education</td>\n",
              "      <td>2.479668e+05</td>\n",
              "      <td>3.0</td>\n",
              "      <td>82655.611</td>\n",
              "      <td>0.688</td>\n",
              "      <td>0.559</td>\n",
              "      <td>0.000</td>\n",
              "    </tr>\n",
              "    <tr>\n",
              "      <th>1</th>\n",
              "      <td>job</td>\n",
              "      <td>4.321745e+06</td>\n",
              "      <td>11.0</td>\n",
              "      <td>392885.916</td>\n",
              "      <td>3.272</td>\n",
              "      <td>0.000</td>\n",
              "      <td>0.003</td>\n",
              "    </tr>\n",
              "    <tr>\n",
              "      <th>2</th>\n",
              "      <td>education * job</td>\n",
              "      <td>5.625337e+06</td>\n",
              "      <td>33.0</td>\n",
              "      <td>170464.747</td>\n",
              "      <td>1.420</td>\n",
              "      <td>0.056</td>\n",
              "      <td>0.004</td>\n",
              "    </tr>\n",
              "    <tr>\n",
              "      <th>3</th>\n",
              "      <td>Residual</td>\n",
              "      <td>1.334347e+09</td>\n",
              "      <td>11114.0</td>\n",
              "      <td>120060.022</td>\n",
              "      <td>NaN</td>\n",
              "      <td>NaN</td>\n",
              "      <td>NaN</td>\n",
              "    </tr>\n",
              "  </tbody>\n",
              "</table>\n",
              "</div>"
            ],
            "text/plain": [
              "            Source            SS       DF          MS      F  p-unc    np2\n",
              "0        education  2.479668e+05      3.0   82655.611  0.688  0.559  0.000\n",
              "1              job  4.321745e+06     11.0  392885.916  3.272  0.000  0.003\n",
              "2  education * job  5.625337e+06     33.0  170464.747  1.420  0.056  0.004\n",
              "3         Residual  1.334347e+09  11114.0  120060.022    NaN    NaN    NaN"
            ]
          },
          "metadata": {
            "tags": []
          },
          "execution_count": 14
        }
      ]
    },
    {
      "cell_type": "code",
      "metadata": {
        "id": "Y940pcep9UHh",
        "colab": {
          "base_uri": "https://localhost:8080/"
        },
        "outputId": "6c302c02-28c4-471d-edf8-da2d8067e38a"
      },
      "source": [
        "df.groupby(['education','job'])['duration'].sum()"
      ],
      "execution_count": 15,
      "outputs": [
        {
          "output_type": "execute_result",
          "data": {
            "text/plain": [
              "education  job          \n",
              "primary    admin.            13180\n",
              "           blue-collar      278961\n",
              "           entrepreneur      12565\n",
              "           housemaid         53388\n",
              "           management        19442\n",
              "           retired          103255\n",
              "           self-employed      8784\n",
              "           services          31305\n",
              "           student            5950\n",
              "           technician        15022\n",
              "           unemployed        31473\n",
              "           unknown            2380\n",
              "secondary  admin.           391932\n",
              "           blue-collar      434463\n",
              "           entrepreneur      52326\n",
              "           housemaid         24601\n",
              "           management        91352\n",
              "           retired          122281\n",
              "           self-employed     54404\n",
              "           services         288422\n",
              "           student           63163\n",
              "           technician       437552\n",
              "           unemployed        78470\n",
              "           unknown            5471\n",
              "tertiary   admin.            45758\n",
              "           blue-collar       19697\n",
              "           entrepreneur      50228\n",
              "           housemaid         14769\n",
              "           management       789317\n",
              "           retired           59493\n",
              "           self-employed     93878\n",
              "           services          18119\n",
              "           student           32313\n",
              "           technician       195890\n",
              "           unemployed        37898\n",
              "           unknown            2508\n",
              "unknown    admin.            13268\n",
              "           blue-collar       34096\n",
              "           entrepreneur       6301\n",
              "           housemaid          2689\n",
              "           management        27452\n",
              "           retired           18386\n",
              "           self-employed      3377\n",
              "           services          18391\n",
              "           student           17616\n",
              "           technician        14728\n",
              "           unemployed         3114\n",
              "           unknown           12767\n",
              "Name: duration, dtype: int64"
            ]
          },
          "metadata": {
            "tags": []
          },
          "execution_count": 15
        }
      ]
    },
    {
      "cell_type": "markdown",
      "metadata": {
        "id": "AjR5L0Gn-egK"
      },
      "source": [
        "**Chi-Squared of Independence**\n",
        "\n",
        "https://pingouin-stats.org/generated/pingouin.chi2_independence.html#pingouin.chi2_independence\n"
      ]
    },
    {
      "cell_type": "code",
      "metadata": {
        "id": "FqexzzDn9uBe",
        "colab": {
          "base_uri": "https://localhost:8080/"
        },
        "outputId": "c53e1dfa-4ab1-464d-922a-64b4a6b02df2"
      },
      "source": [
        "expected, observed, stats = pg.chi2_independence(df, x='loan',y='balance')"
      ],
      "execution_count": 16,
      "outputs": [
        {
          "output_type": "stream",
          "text": [
            "/usr/local/lib/python3.6/dist-packages/pingouin/contingency.py:151: UserWarning: Low count on observed frequencies.\n",
            "  warnings.warn('Low count on {} frequencies.'.format(name))\n",
            "/usr/local/lib/python3.6/dist-packages/pingouin/contingency.py:151: UserWarning: Low count on expected frequencies.\n",
            "  warnings.warn('Low count on {} frequencies.'.format(name))\n",
            "/usr/local/lib/python3.6/dist-packages/scipy/stats/stats.py:5754: RuntimeWarning: divide by zero encountered in power\n",
            "  terms = f_obs * ((f_obs / f_exp)**lambda_ - 1)\n",
            "/usr/local/lib/python3.6/dist-packages/scipy/stats/stats.py:5754: RuntimeWarning: invalid value encountered in multiply\n",
            "  terms = f_obs * ((f_obs / f_exp)**lambda_ - 1)\n",
            "/usr/local/lib/python3.6/dist-packages/scipy/stats/stats.py:5751: RuntimeWarning: divide by zero encountered in true_divide\n",
            "  terms = 2.0 * special.xlogy(f_exp, f_exp / f_obs)\n"
          ],
          "name": "stderr"
        }
      ]
    },
    {
      "cell_type": "code",
      "metadata": {
        "id": "G_jatvvoAgCf",
        "colab": {
          "base_uri": "https://localhost:8080/",
          "height": 191
        },
        "outputId": "584eebb5-ff01-45a5-bbc5-5a80cdbc774b"
      },
      "source": [
        "expected"
      ],
      "execution_count": 17,
      "outputs": [
        {
          "output_type": "execute_result",
          "data": {
            "text/html": [
              "<div>\n",
              "<style scoped>\n",
              "    .dataframe tbody tr th:only-of-type {\n",
              "        vertical-align: middle;\n",
              "    }\n",
              "\n",
              "    .dataframe tbody tr th {\n",
              "        vertical-align: top;\n",
              "    }\n",
              "\n",
              "    .dataframe thead th {\n",
              "        text-align: right;\n",
              "    }\n",
              "</style>\n",
              "<table border=\"1\" class=\"dataframe\">\n",
              "  <thead>\n",
              "    <tr style=\"text-align: right;\">\n",
              "      <th>balance</th>\n",
              "      <th>-6847</th>\n",
              "      <th>-3058</th>\n",
              "      <th>-2712</th>\n",
              "      <th>-2282</th>\n",
              "      <th>-2049</th>\n",
              "      <th>-1965</th>\n",
              "      <th>-1944</th>\n",
              "      <th>-1701</th>\n",
              "      <th>-1636</th>\n",
              "      <th>-1531</th>\n",
              "      <th>-1489</th>\n",
              "      <th>-1451</th>\n",
              "      <th>-1415</th>\n",
              "      <th>-1386</th>\n",
              "      <th>-1206</th>\n",
              "      <th>-1139</th>\n",
              "      <th>-1137</th>\n",
              "      <th>-1129</th>\n",
              "      <th>-1053</th>\n",
              "      <th>-1050</th>\n",
              "      <th>-1042</th>\n",
              "      <th>-994</th>\n",
              "      <th>-978</th>\n",
              "      <th>-974</th>\n",
              "      <th>-972</th>\n",
              "      <th>-971</th>\n",
              "      <th>-970</th>\n",
              "      <th>-938</th>\n",
              "      <th>-934</th>\n",
              "      <th>-930</th>\n",
              "      <th>-918</th>\n",
              "      <th>-910</th>\n",
              "      <th>-888</th>\n",
              "      <th>-887</th>\n",
              "      <th>-880</th>\n",
              "      <th>-861</th>\n",
              "      <th>-849</th>\n",
              "      <th>-848</th>\n",
              "      <th>-839</th>\n",
              "      <th>-825</th>\n",
              "      <th>...</th>\n",
              "      <th>21522</th>\n",
              "      <th>21614</th>\n",
              "      <th>22086</th>\n",
              "      <th>22125</th>\n",
              "      <th>22520</th>\n",
              "      <th>22755</th>\n",
              "      <th>22815</th>\n",
              "      <th>22867</th>\n",
              "      <th>23076</th>\n",
              "      <th>23189</th>\n",
              "      <th>23421</th>\n",
              "      <th>23495</th>\n",
              "      <th>23592</th>\n",
              "      <th>23878</th>\n",
              "      <th>24277</th>\n",
              "      <th>24450</th>\n",
              "      <th>24780</th>\n",
              "      <th>25290</th>\n",
              "      <th>25947</th>\n",
              "      <th>26965</th>\n",
              "      <th>27624</th>\n",
              "      <th>27696</th>\n",
              "      <th>29080</th>\n",
              "      <th>29184</th>\n",
              "      <th>29207</th>\n",
              "      <th>29340</th>\n",
              "      <th>31472</th>\n",
              "      <th>31868</th>\n",
              "      <th>32685</th>\n",
              "      <th>34230</th>\n",
              "      <th>34646</th>\n",
              "      <th>36252</th>\n",
              "      <th>36935</th>\n",
              "      <th>37127</th>\n",
              "      <th>45248</th>\n",
              "      <th>51439</th>\n",
              "      <th>52587</th>\n",
              "      <th>56831</th>\n",
              "      <th>66653</th>\n",
              "      <th>81204</th>\n",
              "    </tr>\n",
              "    <tr>\n",
              "      <th>loan</th>\n",
              "      <th></th>\n",
              "      <th></th>\n",
              "      <th></th>\n",
              "      <th></th>\n",
              "      <th></th>\n",
              "      <th></th>\n",
              "      <th></th>\n",
              "      <th></th>\n",
              "      <th></th>\n",
              "      <th></th>\n",
              "      <th></th>\n",
              "      <th></th>\n",
              "      <th></th>\n",
              "      <th></th>\n",
              "      <th></th>\n",
              "      <th></th>\n",
              "      <th></th>\n",
              "      <th></th>\n",
              "      <th></th>\n",
              "      <th></th>\n",
              "      <th></th>\n",
              "      <th></th>\n",
              "      <th></th>\n",
              "      <th></th>\n",
              "      <th></th>\n",
              "      <th></th>\n",
              "      <th></th>\n",
              "      <th></th>\n",
              "      <th></th>\n",
              "      <th></th>\n",
              "      <th></th>\n",
              "      <th></th>\n",
              "      <th></th>\n",
              "      <th></th>\n",
              "      <th></th>\n",
              "      <th></th>\n",
              "      <th></th>\n",
              "      <th></th>\n",
              "      <th></th>\n",
              "      <th></th>\n",
              "      <th></th>\n",
              "      <th></th>\n",
              "      <th></th>\n",
              "      <th></th>\n",
              "      <th></th>\n",
              "      <th></th>\n",
              "      <th></th>\n",
              "      <th></th>\n",
              "      <th></th>\n",
              "      <th></th>\n",
              "      <th></th>\n",
              "      <th></th>\n",
              "      <th></th>\n",
              "      <th></th>\n",
              "      <th></th>\n",
              "      <th></th>\n",
              "      <th></th>\n",
              "      <th></th>\n",
              "      <th></th>\n",
              "      <th></th>\n",
              "      <th></th>\n",
              "      <th></th>\n",
              "      <th></th>\n",
              "      <th></th>\n",
              "      <th></th>\n",
              "      <th></th>\n",
              "      <th></th>\n",
              "      <th></th>\n",
              "      <th></th>\n",
              "      <th></th>\n",
              "      <th></th>\n",
              "      <th></th>\n",
              "      <th></th>\n",
              "      <th></th>\n",
              "      <th></th>\n",
              "      <th></th>\n",
              "      <th></th>\n",
              "      <th></th>\n",
              "      <th></th>\n",
              "      <th></th>\n",
              "      <th></th>\n",
              "    </tr>\n",
              "  </thead>\n",
              "  <tbody>\n",
              "    <tr>\n",
              "      <th>no</th>\n",
              "      <td>0.869199</td>\n",
              "      <td>0.869199</td>\n",
              "      <td>0.869199</td>\n",
              "      <td>0.869199</td>\n",
              "      <td>0.869199</td>\n",
              "      <td>0.869199</td>\n",
              "      <td>0.869199</td>\n",
              "      <td>0.869199</td>\n",
              "      <td>0.869199</td>\n",
              "      <td>0.869199</td>\n",
              "      <td>0.869199</td>\n",
              "      <td>0.869199</td>\n",
              "      <td>1.738398</td>\n",
              "      <td>0.869199</td>\n",
              "      <td>0.869199</td>\n",
              "      <td>0.869199</td>\n",
              "      <td>0.869199</td>\n",
              "      <td>0.869199</td>\n",
              "      <td>0.869199</td>\n",
              "      <td>0.869199</td>\n",
              "      <td>0.869199</td>\n",
              "      <td>0.869199</td>\n",
              "      <td>0.869199</td>\n",
              "      <td>0.869199</td>\n",
              "      <td>1.738398</td>\n",
              "      <td>0.869199</td>\n",
              "      <td>0.869199</td>\n",
              "      <td>0.869199</td>\n",
              "      <td>0.869199</td>\n",
              "      <td>0.869199</td>\n",
              "      <td>0.869199</td>\n",
              "      <td>0.869199</td>\n",
              "      <td>0.869199</td>\n",
              "      <td>0.869199</td>\n",
              "      <td>0.869199</td>\n",
              "      <td>0.869199</td>\n",
              "      <td>0.869199</td>\n",
              "      <td>0.869199</td>\n",
              "      <td>0.869199</td>\n",
              "      <td>0.869199</td>\n",
              "      <td>...</td>\n",
              "      <td>0.869199</td>\n",
              "      <td>0.869199</td>\n",
              "      <td>0.869199</td>\n",
              "      <td>0.869199</td>\n",
              "      <td>0.869199</td>\n",
              "      <td>0.869199</td>\n",
              "      <td>0.869199</td>\n",
              "      <td>2.607597</td>\n",
              "      <td>0.869199</td>\n",
              "      <td>0.869199</td>\n",
              "      <td>0.869199</td>\n",
              "      <td>0.869199</td>\n",
              "      <td>0.869199</td>\n",
              "      <td>1.738398</td>\n",
              "      <td>0.869199</td>\n",
              "      <td>0.869199</td>\n",
              "      <td>0.869199</td>\n",
              "      <td>0.869199</td>\n",
              "      <td>0.869199</td>\n",
              "      <td>0.869199</td>\n",
              "      <td>0.869199</td>\n",
              "      <td>3.476796</td>\n",
              "      <td>0.869199</td>\n",
              "      <td>0.869199</td>\n",
              "      <td>0.869199</td>\n",
              "      <td>0.869199</td>\n",
              "      <td>0.869199</td>\n",
              "      <td>0.869199</td>\n",
              "      <td>0.869199</td>\n",
              "      <td>0.869199</td>\n",
              "      <td>0.869199</td>\n",
              "      <td>0.869199</td>\n",
              "      <td>0.869199</td>\n",
              "      <td>0.869199</td>\n",
              "      <td>0.869199</td>\n",
              "      <td>0.869199</td>\n",
              "      <td>1.738398</td>\n",
              "      <td>0.869199</td>\n",
              "      <td>0.869199</td>\n",
              "      <td>1.738398</td>\n",
              "    </tr>\n",
              "    <tr>\n",
              "      <th>yes</th>\n",
              "      <td>0.130801</td>\n",
              "      <td>0.130801</td>\n",
              "      <td>0.130801</td>\n",
              "      <td>0.130801</td>\n",
              "      <td>0.130801</td>\n",
              "      <td>0.130801</td>\n",
              "      <td>0.130801</td>\n",
              "      <td>0.130801</td>\n",
              "      <td>0.130801</td>\n",
              "      <td>0.130801</td>\n",
              "      <td>0.130801</td>\n",
              "      <td>0.130801</td>\n",
              "      <td>0.261602</td>\n",
              "      <td>0.130801</td>\n",
              "      <td>0.130801</td>\n",
              "      <td>0.130801</td>\n",
              "      <td>0.130801</td>\n",
              "      <td>0.130801</td>\n",
              "      <td>0.130801</td>\n",
              "      <td>0.130801</td>\n",
              "      <td>0.130801</td>\n",
              "      <td>0.130801</td>\n",
              "      <td>0.130801</td>\n",
              "      <td>0.130801</td>\n",
              "      <td>0.261602</td>\n",
              "      <td>0.130801</td>\n",
              "      <td>0.130801</td>\n",
              "      <td>0.130801</td>\n",
              "      <td>0.130801</td>\n",
              "      <td>0.130801</td>\n",
              "      <td>0.130801</td>\n",
              "      <td>0.130801</td>\n",
              "      <td>0.130801</td>\n",
              "      <td>0.130801</td>\n",
              "      <td>0.130801</td>\n",
              "      <td>0.130801</td>\n",
              "      <td>0.130801</td>\n",
              "      <td>0.130801</td>\n",
              "      <td>0.130801</td>\n",
              "      <td>0.130801</td>\n",
              "      <td>...</td>\n",
              "      <td>0.130801</td>\n",
              "      <td>0.130801</td>\n",
              "      <td>0.130801</td>\n",
              "      <td>0.130801</td>\n",
              "      <td>0.130801</td>\n",
              "      <td>0.130801</td>\n",
              "      <td>0.130801</td>\n",
              "      <td>0.392403</td>\n",
              "      <td>0.130801</td>\n",
              "      <td>0.130801</td>\n",
              "      <td>0.130801</td>\n",
              "      <td>0.130801</td>\n",
              "      <td>0.130801</td>\n",
              "      <td>0.261602</td>\n",
              "      <td>0.130801</td>\n",
              "      <td>0.130801</td>\n",
              "      <td>0.130801</td>\n",
              "      <td>0.130801</td>\n",
              "      <td>0.130801</td>\n",
              "      <td>0.130801</td>\n",
              "      <td>0.130801</td>\n",
              "      <td>0.523204</td>\n",
              "      <td>0.130801</td>\n",
              "      <td>0.130801</td>\n",
              "      <td>0.130801</td>\n",
              "      <td>0.130801</td>\n",
              "      <td>0.130801</td>\n",
              "      <td>0.130801</td>\n",
              "      <td>0.130801</td>\n",
              "      <td>0.130801</td>\n",
              "      <td>0.130801</td>\n",
              "      <td>0.130801</td>\n",
              "      <td>0.130801</td>\n",
              "      <td>0.130801</td>\n",
              "      <td>0.130801</td>\n",
              "      <td>0.130801</td>\n",
              "      <td>0.261602</td>\n",
              "      <td>0.130801</td>\n",
              "      <td>0.130801</td>\n",
              "      <td>0.261602</td>\n",
              "    </tr>\n",
              "  </tbody>\n",
              "</table>\n",
              "<p>2 rows × 3805 columns</p>\n",
              "</div>"
            ],
            "text/plain": [
              "balance    -6847     -3058     -2712   ...     56831     66653     81204\n",
              "loan                                   ...                              \n",
              "no       0.869199  0.869199  0.869199  ...  0.869199  0.869199  1.738398\n",
              "yes      0.130801  0.130801  0.130801  ...  0.130801  0.130801  0.261602\n",
              "\n",
              "[2 rows x 3805 columns]"
            ]
          },
          "metadata": {
            "tags": []
          },
          "execution_count": 17
        }
      ]
    },
    {
      "cell_type": "code",
      "metadata": {
        "id": "D4EFmcngAi24",
        "colab": {
          "base_uri": "https://localhost:8080/",
          "height": 191
        },
        "outputId": "a255a2fe-222d-4015-a900-96b3bfaeb3a3"
      },
      "source": [
        "observed"
      ],
      "execution_count": 18,
      "outputs": [
        {
          "output_type": "execute_result",
          "data": {
            "text/html": [
              "<div>\n",
              "<style scoped>\n",
              "    .dataframe tbody tr th:only-of-type {\n",
              "        vertical-align: middle;\n",
              "    }\n",
              "\n",
              "    .dataframe tbody tr th {\n",
              "        vertical-align: top;\n",
              "    }\n",
              "\n",
              "    .dataframe thead th {\n",
              "        text-align: right;\n",
              "    }\n",
              "</style>\n",
              "<table border=\"1\" class=\"dataframe\">\n",
              "  <thead>\n",
              "    <tr style=\"text-align: right;\">\n",
              "      <th>balance</th>\n",
              "      <th>-6847</th>\n",
              "      <th>-3058</th>\n",
              "      <th>-2712</th>\n",
              "      <th>-2282</th>\n",
              "      <th>-2049</th>\n",
              "      <th>-1965</th>\n",
              "      <th>-1944</th>\n",
              "      <th>-1701</th>\n",
              "      <th>-1636</th>\n",
              "      <th>-1531</th>\n",
              "      <th>-1489</th>\n",
              "      <th>-1451</th>\n",
              "      <th>-1415</th>\n",
              "      <th>-1386</th>\n",
              "      <th>-1206</th>\n",
              "      <th>-1139</th>\n",
              "      <th>-1137</th>\n",
              "      <th>-1129</th>\n",
              "      <th>-1053</th>\n",
              "      <th>-1050</th>\n",
              "      <th>-1042</th>\n",
              "      <th>-994</th>\n",
              "      <th>-978</th>\n",
              "      <th>-974</th>\n",
              "      <th>-972</th>\n",
              "      <th>-971</th>\n",
              "      <th>-970</th>\n",
              "      <th>-938</th>\n",
              "      <th>-934</th>\n",
              "      <th>-930</th>\n",
              "      <th>-918</th>\n",
              "      <th>-910</th>\n",
              "      <th>-888</th>\n",
              "      <th>-887</th>\n",
              "      <th>-880</th>\n",
              "      <th>-861</th>\n",
              "      <th>-849</th>\n",
              "      <th>-848</th>\n",
              "      <th>-839</th>\n",
              "      <th>-825</th>\n",
              "      <th>...</th>\n",
              "      <th>21522</th>\n",
              "      <th>21614</th>\n",
              "      <th>22086</th>\n",
              "      <th>22125</th>\n",
              "      <th>22520</th>\n",
              "      <th>22755</th>\n",
              "      <th>22815</th>\n",
              "      <th>22867</th>\n",
              "      <th>23076</th>\n",
              "      <th>23189</th>\n",
              "      <th>23421</th>\n",
              "      <th>23495</th>\n",
              "      <th>23592</th>\n",
              "      <th>23878</th>\n",
              "      <th>24277</th>\n",
              "      <th>24450</th>\n",
              "      <th>24780</th>\n",
              "      <th>25290</th>\n",
              "      <th>25947</th>\n",
              "      <th>26965</th>\n",
              "      <th>27624</th>\n",
              "      <th>27696</th>\n",
              "      <th>29080</th>\n",
              "      <th>29184</th>\n",
              "      <th>29207</th>\n",
              "      <th>29340</th>\n",
              "      <th>31472</th>\n",
              "      <th>31868</th>\n",
              "      <th>32685</th>\n",
              "      <th>34230</th>\n",
              "      <th>34646</th>\n",
              "      <th>36252</th>\n",
              "      <th>36935</th>\n",
              "      <th>37127</th>\n",
              "      <th>45248</th>\n",
              "      <th>51439</th>\n",
              "      <th>52587</th>\n",
              "      <th>56831</th>\n",
              "      <th>66653</th>\n",
              "      <th>81204</th>\n",
              "    </tr>\n",
              "    <tr>\n",
              "      <th>loan</th>\n",
              "      <th></th>\n",
              "      <th></th>\n",
              "      <th></th>\n",
              "      <th></th>\n",
              "      <th></th>\n",
              "      <th></th>\n",
              "      <th></th>\n",
              "      <th></th>\n",
              "      <th></th>\n",
              "      <th></th>\n",
              "      <th></th>\n",
              "      <th></th>\n",
              "      <th></th>\n",
              "      <th></th>\n",
              "      <th></th>\n",
              "      <th></th>\n",
              "      <th></th>\n",
              "      <th></th>\n",
              "      <th></th>\n",
              "      <th></th>\n",
              "      <th></th>\n",
              "      <th></th>\n",
              "      <th></th>\n",
              "      <th></th>\n",
              "      <th></th>\n",
              "      <th></th>\n",
              "      <th></th>\n",
              "      <th></th>\n",
              "      <th></th>\n",
              "      <th></th>\n",
              "      <th></th>\n",
              "      <th></th>\n",
              "      <th></th>\n",
              "      <th></th>\n",
              "      <th></th>\n",
              "      <th></th>\n",
              "      <th></th>\n",
              "      <th></th>\n",
              "      <th></th>\n",
              "      <th></th>\n",
              "      <th></th>\n",
              "      <th></th>\n",
              "      <th></th>\n",
              "      <th></th>\n",
              "      <th></th>\n",
              "      <th></th>\n",
              "      <th></th>\n",
              "      <th></th>\n",
              "      <th></th>\n",
              "      <th></th>\n",
              "      <th></th>\n",
              "      <th></th>\n",
              "      <th></th>\n",
              "      <th></th>\n",
              "      <th></th>\n",
              "      <th></th>\n",
              "      <th></th>\n",
              "      <th></th>\n",
              "      <th></th>\n",
              "      <th></th>\n",
              "      <th></th>\n",
              "      <th></th>\n",
              "      <th></th>\n",
              "      <th></th>\n",
              "      <th></th>\n",
              "      <th></th>\n",
              "      <th></th>\n",
              "      <th></th>\n",
              "      <th></th>\n",
              "      <th></th>\n",
              "      <th></th>\n",
              "      <th></th>\n",
              "      <th></th>\n",
              "      <th></th>\n",
              "      <th></th>\n",
              "      <th></th>\n",
              "      <th></th>\n",
              "      <th></th>\n",
              "      <th></th>\n",
              "      <th></th>\n",
              "      <th></th>\n",
              "    </tr>\n",
              "  </thead>\n",
              "  <tbody>\n",
              "    <tr>\n",
              "      <th>no</th>\n",
              "      <td>0</td>\n",
              "      <td>0</td>\n",
              "      <td>0</td>\n",
              "      <td>0</td>\n",
              "      <td>1</td>\n",
              "      <td>0</td>\n",
              "      <td>1</td>\n",
              "      <td>1</td>\n",
              "      <td>0</td>\n",
              "      <td>1</td>\n",
              "      <td>0</td>\n",
              "      <td>0</td>\n",
              "      <td>1</td>\n",
              "      <td>0</td>\n",
              "      <td>1</td>\n",
              "      <td>1</td>\n",
              "      <td>0</td>\n",
              "      <td>1</td>\n",
              "      <td>1</td>\n",
              "      <td>1</td>\n",
              "      <td>1</td>\n",
              "      <td>0</td>\n",
              "      <td>1</td>\n",
              "      <td>0</td>\n",
              "      <td>1</td>\n",
              "      <td>0</td>\n",
              "      <td>1</td>\n",
              "      <td>1</td>\n",
              "      <td>1</td>\n",
              "      <td>1</td>\n",
              "      <td>1</td>\n",
              "      <td>1</td>\n",
              "      <td>0</td>\n",
              "      <td>1</td>\n",
              "      <td>0</td>\n",
              "      <td>0</td>\n",
              "      <td>0</td>\n",
              "      <td>1</td>\n",
              "      <td>0</td>\n",
              "      <td>1</td>\n",
              "      <td>...</td>\n",
              "      <td>1</td>\n",
              "      <td>1</td>\n",
              "      <td>1</td>\n",
              "      <td>0</td>\n",
              "      <td>1</td>\n",
              "      <td>1</td>\n",
              "      <td>1</td>\n",
              "      <td>3</td>\n",
              "      <td>1</td>\n",
              "      <td>1</td>\n",
              "      <td>1</td>\n",
              "      <td>1</td>\n",
              "      <td>1</td>\n",
              "      <td>2</td>\n",
              "      <td>1</td>\n",
              "      <td>1</td>\n",
              "      <td>1</td>\n",
              "      <td>1</td>\n",
              "      <td>1</td>\n",
              "      <td>1</td>\n",
              "      <td>1</td>\n",
              "      <td>4</td>\n",
              "      <td>1</td>\n",
              "      <td>1</td>\n",
              "      <td>1</td>\n",
              "      <td>1</td>\n",
              "      <td>1</td>\n",
              "      <td>1</td>\n",
              "      <td>1</td>\n",
              "      <td>0</td>\n",
              "      <td>1</td>\n",
              "      <td>1</td>\n",
              "      <td>1</td>\n",
              "      <td>1</td>\n",
              "      <td>1</td>\n",
              "      <td>0</td>\n",
              "      <td>2</td>\n",
              "      <td>1</td>\n",
              "      <td>1</td>\n",
              "      <td>2</td>\n",
              "    </tr>\n",
              "    <tr>\n",
              "      <th>yes</th>\n",
              "      <td>1</td>\n",
              "      <td>1</td>\n",
              "      <td>1</td>\n",
              "      <td>1</td>\n",
              "      <td>0</td>\n",
              "      <td>1</td>\n",
              "      <td>0</td>\n",
              "      <td>0</td>\n",
              "      <td>1</td>\n",
              "      <td>0</td>\n",
              "      <td>1</td>\n",
              "      <td>1</td>\n",
              "      <td>1</td>\n",
              "      <td>1</td>\n",
              "      <td>0</td>\n",
              "      <td>0</td>\n",
              "      <td>1</td>\n",
              "      <td>0</td>\n",
              "      <td>0</td>\n",
              "      <td>0</td>\n",
              "      <td>0</td>\n",
              "      <td>1</td>\n",
              "      <td>0</td>\n",
              "      <td>1</td>\n",
              "      <td>1</td>\n",
              "      <td>1</td>\n",
              "      <td>0</td>\n",
              "      <td>0</td>\n",
              "      <td>0</td>\n",
              "      <td>0</td>\n",
              "      <td>0</td>\n",
              "      <td>0</td>\n",
              "      <td>1</td>\n",
              "      <td>0</td>\n",
              "      <td>1</td>\n",
              "      <td>1</td>\n",
              "      <td>1</td>\n",
              "      <td>0</td>\n",
              "      <td>1</td>\n",
              "      <td>0</td>\n",
              "      <td>...</td>\n",
              "      <td>0</td>\n",
              "      <td>0</td>\n",
              "      <td>0</td>\n",
              "      <td>1</td>\n",
              "      <td>0</td>\n",
              "      <td>0</td>\n",
              "      <td>0</td>\n",
              "      <td>0</td>\n",
              "      <td>0</td>\n",
              "      <td>0</td>\n",
              "      <td>0</td>\n",
              "      <td>0</td>\n",
              "      <td>0</td>\n",
              "      <td>0</td>\n",
              "      <td>0</td>\n",
              "      <td>0</td>\n",
              "      <td>0</td>\n",
              "      <td>0</td>\n",
              "      <td>0</td>\n",
              "      <td>0</td>\n",
              "      <td>0</td>\n",
              "      <td>0</td>\n",
              "      <td>0</td>\n",
              "      <td>0</td>\n",
              "      <td>0</td>\n",
              "      <td>0</td>\n",
              "      <td>0</td>\n",
              "      <td>0</td>\n",
              "      <td>0</td>\n",
              "      <td>1</td>\n",
              "      <td>0</td>\n",
              "      <td>0</td>\n",
              "      <td>0</td>\n",
              "      <td>0</td>\n",
              "      <td>0</td>\n",
              "      <td>1</td>\n",
              "      <td>0</td>\n",
              "      <td>0</td>\n",
              "      <td>0</td>\n",
              "      <td>0</td>\n",
              "    </tr>\n",
              "  </tbody>\n",
              "</table>\n",
              "<p>2 rows × 3805 columns</p>\n",
              "</div>"
            ],
            "text/plain": [
              "balance  -6847   -3058   -2712   -2282   ...   52587   56831   66653   81204\n",
              "loan                                     ...                                \n",
              "no            0       0       0       0  ...       2       1       1       2\n",
              "yes           1       1       1       1  ...       0       0       0       0\n",
              "\n",
              "[2 rows x 3805 columns]"
            ]
          },
          "metadata": {
            "tags": []
          },
          "execution_count": 18
        }
      ]
    },
    {
      "cell_type": "code",
      "metadata": {
        "id": "owhAecfaAp16",
        "colab": {
          "base_uri": "https://localhost:8080/",
          "height": 235
        },
        "outputId": "7c763db4-7517-4aa6-e5e2-e1d8e4b63d84"
      },
      "source": [
        "stats"
      ],
      "execution_count": 19,
      "outputs": [
        {
          "output_type": "execute_result",
          "data": {
            "text/html": [
              "<div>\n",
              "<style scoped>\n",
              "    .dataframe tbody tr th:only-of-type {\n",
              "        vertical-align: middle;\n",
              "    }\n",
              "\n",
              "    .dataframe tbody tr th {\n",
              "        vertical-align: top;\n",
              "    }\n",
              "\n",
              "    .dataframe thead th {\n",
              "        text-align: right;\n",
              "    }\n",
              "</style>\n",
              "<table border=\"1\" class=\"dataframe\">\n",
              "  <thead>\n",
              "    <tr style=\"text-align: right;\">\n",
              "      <th></th>\n",
              "      <th>test</th>\n",
              "      <th>lambda</th>\n",
              "      <th>chi2</th>\n",
              "      <th>dof</th>\n",
              "      <th>pval</th>\n",
              "      <th>cramer</th>\n",
              "      <th>power</th>\n",
              "    </tr>\n",
              "  </thead>\n",
              "  <tbody>\n",
              "    <tr>\n",
              "      <th>0</th>\n",
              "      <td>pearson</td>\n",
              "      <td>1.000000</td>\n",
              "      <td>4256.969696</td>\n",
              "      <td>3804.0</td>\n",
              "      <td>2.751970e-07</td>\n",
              "      <td>0.617560</td>\n",
              "      <td>1.0</td>\n",
              "    </tr>\n",
              "    <tr>\n",
              "      <th>1</th>\n",
              "      <td>cressie-read</td>\n",
              "      <td>0.666667</td>\n",
              "      <td>3775.032817</td>\n",
              "      <td>3804.0</td>\n",
              "      <td>6.275231e-01</td>\n",
              "      <td>0.581553</td>\n",
              "      <td>1.0</td>\n",
              "    </tr>\n",
              "    <tr>\n",
              "      <th>2</th>\n",
              "      <td>log-likelihood</td>\n",
              "      <td>0.000000</td>\n",
              "      <td>3803.980255</td>\n",
              "      <td>3804.0</td>\n",
              "      <td>4.970411e-01</td>\n",
              "      <td>0.583779</td>\n",
              "      <td>1.0</td>\n",
              "    </tr>\n",
              "    <tr>\n",
              "      <th>3</th>\n",
              "      <td>freeman-tukey</td>\n",
              "      <td>-0.500000</td>\n",
              "      <td>NaN</td>\n",
              "      <td>3804.0</td>\n",
              "      <td>NaN</td>\n",
              "      <td>NaN</td>\n",
              "      <td>NaN</td>\n",
              "    </tr>\n",
              "    <tr>\n",
              "      <th>4</th>\n",
              "      <td>mod-log-likelihood</td>\n",
              "      <td>-1.000000</td>\n",
              "      <td>inf</td>\n",
              "      <td>3804.0</td>\n",
              "      <td>0.000000e+00</td>\n",
              "      <td>inf</td>\n",
              "      <td>1.0</td>\n",
              "    </tr>\n",
              "    <tr>\n",
              "      <th>5</th>\n",
              "      <td>neyman</td>\n",
              "      <td>-2.000000</td>\n",
              "      <td>NaN</td>\n",
              "      <td>3804.0</td>\n",
              "      <td>NaN</td>\n",
              "      <td>NaN</td>\n",
              "      <td>NaN</td>\n",
              "    </tr>\n",
              "  </tbody>\n",
              "</table>\n",
              "</div>"
            ],
            "text/plain": [
              "                 test    lambda         chi2  ...          pval    cramer  power\n",
              "0             pearson  1.000000  4256.969696  ...  2.751970e-07  0.617560    1.0\n",
              "1        cressie-read  0.666667  3775.032817  ...  6.275231e-01  0.581553    1.0\n",
              "2      log-likelihood  0.000000  3803.980255  ...  4.970411e-01  0.583779    1.0\n",
              "3       freeman-tukey -0.500000          NaN  ...           NaN       NaN    NaN\n",
              "4  mod-log-likelihood -1.000000          inf  ...  0.000000e+00       inf    1.0\n",
              "5              neyman -2.000000          NaN  ...           NaN       NaN    NaN\n",
              "\n",
              "[6 rows x 7 columns]"
            ]
          },
          "metadata": {
            "tags": []
          },
          "execution_count": 19
        }
      ]
    },
    {
      "cell_type": "markdown",
      "metadata": {
        "id": "aDURXj8QCdHH"
      },
      "source": [
        "**Mann-Whitney U Test (= Wilcoxon rank-sum test)**\n",
        "\n",
        "https://pingouin-stats.org/generated/pingouin.mwu.html#pingouin.mwu"
      ]
    },
    {
      "cell_type": "code",
      "metadata": {
        "id": "63KHEpaOAj_b"
      },
      "source": [
        "duration_loan = df[df['loan']=='yes']['duration']\n",
        "duration_no_loan = df[df['loan']=='no']['duration']"
      ],
      "execution_count": 20,
      "outputs": []
    },
    {
      "cell_type": "code",
      "metadata": {
        "id": "cSRvFywACzoF",
        "colab": {
          "base_uri": "https://localhost:8080/"
        },
        "outputId": "2dc441bd-e814-4901-e8f9-5b206480603d"
      },
      "source": [
        "df.groupby('loan')['duration'].median()"
      ],
      "execution_count": 21,
      "outputs": [
        {
          "output_type": "execute_result",
          "data": {
            "text/plain": [
              "loan\n",
              "no     260\n",
              "yes    222\n",
              "Name: duration, dtype: int64"
            ]
          },
          "metadata": {
            "tags": []
          },
          "execution_count": 21
        }
      ]
    },
    {
      "cell_type": "code",
      "metadata": {
        "id": "X_IBXfTRCbiD",
        "colab": {
          "base_uri": "https://localhost:8080/",
          "height": 80
        },
        "outputId": "c5513fe4-b892-4f77-f7ad-7cff1ce5b05d"
      },
      "source": [
        "x=duration_loan\n",
        "y=duration_no_loan\n",
        "pg.mwu(x, y, tail='two-sided')"
      ],
      "execution_count": 22,
      "outputs": [
        {
          "output_type": "execute_result",
          "data": {
            "text/html": [
              "<div>\n",
              "<style scoped>\n",
              "    .dataframe tbody tr th:only-of-type {\n",
              "        vertical-align: middle;\n",
              "    }\n",
              "\n",
              "    .dataframe tbody tr th {\n",
              "        vertical-align: top;\n",
              "    }\n",
              "\n",
              "    .dataframe thead th {\n",
              "        text-align: right;\n",
              "    }\n",
              "</style>\n",
              "<table border=\"1\" class=\"dataframe\">\n",
              "  <thead>\n",
              "    <tr style=\"text-align: right;\">\n",
              "      <th></th>\n",
              "      <th>U-val</th>\n",
              "      <th>tail</th>\n",
              "      <th>p-val</th>\n",
              "      <th>RBC</th>\n",
              "      <th>CLES</th>\n",
              "    </tr>\n",
              "  </thead>\n",
              "  <tbody>\n",
              "    <tr>\n",
              "      <th>MWU</th>\n",
              "      <td>6622135.5</td>\n",
              "      <td>two-sided</td>\n",
              "      <td>0.000061</td>\n",
              "      <td>0.064995</td>\n",
              "      <td>0.467502</td>\n",
              "    </tr>\n",
              "  </tbody>\n",
              "</table>\n",
              "</div>"
            ],
            "text/plain": [
              "         U-val       tail     p-val       RBC      CLES\n",
              "MWU  6622135.5  two-sided  0.000061  0.064995  0.467502"
            ]
          },
          "metadata": {
            "tags": []
          },
          "execution_count": 22
        }
      ]
    },
    {
      "cell_type": "markdown",
      "metadata": {
        "id": "IvgOtl6ifvOo"
      },
      "source": [
        "#Paired Tests\n",
        "\n"
      ]
    },
    {
      "cell_type": "markdown",
      "metadata": {
        "id": "5-HP5CEIpx7-"
      },
      "source": [
        "**Import the data**"
      ]
    },
    {
      "cell_type": "code",
      "metadata": {
        "id": "RSRfUW6Vp72O",
        "colab": {
          "base_uri": "https://localhost:8080/",
          "height": 204
        },
        "outputId": "75d0847a-b91b-4b42-b94e-f94eb88e4912"
      },
      "source": [
        "df = pd.read_csv('https://raw.githubusercontent.com/sunshineluyao/NYU_Integrated_Marketing/main/HypothesisTesting_ANOVA/Q_GDP_Capita.csv')\n",
        "df.head()"
      ],
      "execution_count": 23,
      "outputs": [
        {
          "output_type": "execute_result",
          "data": {
            "text/html": [
              "<div>\n",
              "<style scoped>\n",
              "    .dataframe tbody tr th:only-of-type {\n",
              "        vertical-align: middle;\n",
              "    }\n",
              "\n",
              "    .dataframe tbody tr th {\n",
              "        vertical-align: top;\n",
              "    }\n",
              "\n",
              "    .dataframe thead th {\n",
              "        text-align: right;\n",
              "    }\n",
              "</style>\n",
              "<table border=\"1\" class=\"dataframe\">\n",
              "  <thead>\n",
              "    <tr style=\"text-align: right;\">\n",
              "      <th></th>\n",
              "      <th>LOCATION</th>\n",
              "      <th>Country</th>\n",
              "      <th>Measure</th>\n",
              "      <th>Frequency</th>\n",
              "      <th>TIME</th>\n",
              "      <th>Unit Code</th>\n",
              "      <th>Value</th>\n",
              "    </tr>\n",
              "  </thead>\n",
              "  <tbody>\n",
              "    <tr>\n",
              "      <th>0</th>\n",
              "      <td>AUS</td>\n",
              "      <td>Australia</td>\n",
              "      <td>Per Head, US $, current prices, current PPPs, ...</td>\n",
              "      <td>Quarterly</td>\n",
              "      <td>2017-Q4</td>\n",
              "      <td>USD</td>\n",
              "      <td>50719.7</td>\n",
              "    </tr>\n",
              "    <tr>\n",
              "      <th>1</th>\n",
              "      <td>AUS</td>\n",
              "      <td>Australia</td>\n",
              "      <td>Per Head, US $, current prices, current PPPs, ...</td>\n",
              "      <td>Quarterly</td>\n",
              "      <td>2018-Q1</td>\n",
              "      <td>USD</td>\n",
              "      <td>51371.0</td>\n",
              "    </tr>\n",
              "    <tr>\n",
              "      <th>2</th>\n",
              "      <td>AUS</td>\n",
              "      <td>Australia</td>\n",
              "      <td>Per Head, US $, current prices, current PPPs, ...</td>\n",
              "      <td>Quarterly</td>\n",
              "      <td>2018-Q2</td>\n",
              "      <td>USD</td>\n",
              "      <td>52211.9</td>\n",
              "    </tr>\n",
              "    <tr>\n",
              "      <th>3</th>\n",
              "      <td>AUS</td>\n",
              "      <td>Australia</td>\n",
              "      <td>Per Head, US $, current prices, current PPPs, ...</td>\n",
              "      <td>Quarterly</td>\n",
              "      <td>2018-Q3</td>\n",
              "      <td>USD</td>\n",
              "      <td>52561.7</td>\n",
              "    </tr>\n",
              "    <tr>\n",
              "      <th>4</th>\n",
              "      <td>AUS</td>\n",
              "      <td>Australia</td>\n",
              "      <td>Per Head, US $, current prices, current PPPs, ...</td>\n",
              "      <td>Quarterly</td>\n",
              "      <td>2018-Q4</td>\n",
              "      <td>USD</td>\n",
              "      <td>53023.0</td>\n",
              "    </tr>\n",
              "  </tbody>\n",
              "</table>\n",
              "</div>"
            ],
            "text/plain": [
              "  LOCATION    Country  ... Unit Code    Value\n",
              "0      AUS  Australia  ...       USD  50719.7\n",
              "1      AUS  Australia  ...       USD  51371.0\n",
              "2      AUS  Australia  ...       USD  52211.9\n",
              "3      AUS  Australia  ...       USD  52561.7\n",
              "4      AUS  Australia  ...       USD  53023.0\n",
              "\n",
              "[5 rows x 7 columns]"
            ]
          },
          "metadata": {
            "tags": []
          },
          "execution_count": 23
        }
      ]
    },
    {
      "cell_type": "markdown",
      "metadata": {
        "id": "-kGQTwTTqOJm"
      },
      "source": [
        "**Conduct the paired-t test to compare the GDP per capita for the first quarter of 2018 and 2019 for all countries**\n",
        "\n",
        "https://pingouin-stats.org/generated/pingouin.ttest.html#pingouin.ttest"
      ]
    },
    {
      "cell_type": "code",
      "metadata": {
        "id": "OZyaLrgrqNcQ",
        "colab": {
          "base_uri": "https://localhost:8080/",
          "height": 204
        },
        "outputId": "6e915c26-f128-430c-9173-c698fe8c0d2b"
      },
      "source": [
        "df_2018_Q2 = df[df.TIME=='2018-Q2'][['Country','Value','TIME']]\n",
        "df_2018_Q2=df_2018_Q2.groupby(['Country','TIME']).max().reset_index()\n",
        "df_2018_Q2=df_2018_Q2[['Country','Value']].sort_values(by='Country', ascending=True)\n",
        "df_2018_Q2.head()"
      ],
      "execution_count": 24,
      "outputs": [
        {
          "output_type": "execute_result",
          "data": {
            "text/html": [
              "<div>\n",
              "<style scoped>\n",
              "    .dataframe tbody tr th:only-of-type {\n",
              "        vertical-align: middle;\n",
              "    }\n",
              "\n",
              "    .dataframe tbody tr th {\n",
              "        vertical-align: top;\n",
              "    }\n",
              "\n",
              "    .dataframe thead th {\n",
              "        text-align: right;\n",
              "    }\n",
              "</style>\n",
              "<table border=\"1\" class=\"dataframe\">\n",
              "  <thead>\n",
              "    <tr style=\"text-align: right;\">\n",
              "      <th></th>\n",
              "      <th>Country</th>\n",
              "      <th>Value</th>\n",
              "    </tr>\n",
              "  </thead>\n",
              "  <tbody>\n",
              "    <tr>\n",
              "      <th>0</th>\n",
              "      <td>Australia</td>\n",
              "      <td>52211.9</td>\n",
              "    </tr>\n",
              "    <tr>\n",
              "      <th>1</th>\n",
              "      <td>Austria</td>\n",
              "      <td>56633.7</td>\n",
              "    </tr>\n",
              "    <tr>\n",
              "      <th>2</th>\n",
              "      <td>Belgium</td>\n",
              "      <td>52101.9</td>\n",
              "    </tr>\n",
              "    <tr>\n",
              "      <th>3</th>\n",
              "      <td>Bulgaria</td>\n",
              "      <td>22367.3</td>\n",
              "    </tr>\n",
              "    <tr>\n",
              "      <th>4</th>\n",
              "      <td>Canada</td>\n",
              "      <td>50094.0</td>\n",
              "    </tr>\n",
              "  </tbody>\n",
              "</table>\n",
              "</div>"
            ],
            "text/plain": [
              "     Country    Value\n",
              "0  Australia  52211.9\n",
              "1    Austria  56633.7\n",
              "2    Belgium  52101.9\n",
              "3   Bulgaria  22367.3\n",
              "4     Canada  50094.0"
            ]
          },
          "metadata": {
            "tags": []
          },
          "execution_count": 24
        }
      ]
    },
    {
      "cell_type": "code",
      "metadata": {
        "id": "RB8AVS9DrTzF",
        "colab": {
          "base_uri": "https://localhost:8080/",
          "height": 204
        },
        "outputId": "2724105e-5b8f-449c-8a98-dcd4c1bd8bc5"
      },
      "source": [
        "df_2019_Q2 = df[df.TIME=='2019-Q2'][['Country','Value','TIME']]\n",
        "df_2019_Q2=df_2019_Q2.groupby(['Country','TIME']).max().reset_index()\n",
        "df_2019_Q2=df_2019_Q2[['Country','Value']].sort_values(by='Country', ascending=True)\n",
        "df_2019_Q2.head()"
      ],
      "execution_count": 25,
      "outputs": [
        {
          "output_type": "execute_result",
          "data": {
            "text/html": [
              "<div>\n",
              "<style scoped>\n",
              "    .dataframe tbody tr th:only-of-type {\n",
              "        vertical-align: middle;\n",
              "    }\n",
              "\n",
              "    .dataframe tbody tr th {\n",
              "        vertical-align: top;\n",
              "    }\n",
              "\n",
              "    .dataframe thead th {\n",
              "        text-align: right;\n",
              "    }\n",
              "</style>\n",
              "<table border=\"1\" class=\"dataframe\">\n",
              "  <thead>\n",
              "    <tr style=\"text-align: right;\">\n",
              "      <th></th>\n",
              "      <th>Country</th>\n",
              "      <th>Value</th>\n",
              "    </tr>\n",
              "  </thead>\n",
              "  <tbody>\n",
              "    <tr>\n",
              "      <th>0</th>\n",
              "      <td>Australia</td>\n",
              "      <td>54425.3</td>\n",
              "    </tr>\n",
              "    <tr>\n",
              "      <th>1</th>\n",
              "      <td>Austria</td>\n",
              "      <td>58827.2</td>\n",
              "    </tr>\n",
              "    <tr>\n",
              "      <th>2</th>\n",
              "      <td>Belgium</td>\n",
              "      <td>54675.1</td>\n",
              "    </tr>\n",
              "    <tr>\n",
              "      <th>3</th>\n",
              "      <td>Bulgaria</td>\n",
              "      <td>24488.9</td>\n",
              "    </tr>\n",
              "    <tr>\n",
              "      <th>4</th>\n",
              "      <td>Canada</td>\n",
              "      <td>51537.9</td>\n",
              "    </tr>\n",
              "  </tbody>\n",
              "</table>\n",
              "</div>"
            ],
            "text/plain": [
              "     Country    Value\n",
              "0  Australia  54425.3\n",
              "1    Austria  58827.2\n",
              "2    Belgium  54675.1\n",
              "3   Bulgaria  24488.9\n",
              "4     Canada  51537.9"
            ]
          },
          "metadata": {
            "tags": []
          },
          "execution_count": 25
        }
      ]
    },
    {
      "cell_type": "code",
      "metadata": {
        "id": "edO_A54or-3t",
        "colab": {
          "base_uri": "https://localhost:8080/",
          "height": 80
        },
        "outputId": "6401f2ca-08e0-44ee-dae0-95aed97fa7a9"
      },
      "source": [
        "pre=df_2018_Q2['Value']\n",
        "post=df_2019_Q2['Value']\n",
        "from pingouin import ttest\n",
        "ttest(pre, post, paired=True).round(2)"
      ],
      "execution_count": 26,
      "outputs": [
        {
          "output_type": "execute_result",
          "data": {
            "text/html": [
              "<div>\n",
              "<style scoped>\n",
              "    .dataframe tbody tr th:only-of-type {\n",
              "        vertical-align: middle;\n",
              "    }\n",
              "\n",
              "    .dataframe tbody tr th {\n",
              "        vertical-align: top;\n",
              "    }\n",
              "\n",
              "    .dataframe thead th {\n",
              "        text-align: right;\n",
              "    }\n",
              "</style>\n",
              "<table border=\"1\" class=\"dataframe\">\n",
              "  <thead>\n",
              "    <tr style=\"text-align: right;\">\n",
              "      <th></th>\n",
              "      <th>T</th>\n",
              "      <th>dof</th>\n",
              "      <th>tail</th>\n",
              "      <th>p-val</th>\n",
              "      <th>CI95%</th>\n",
              "      <th>cohen-d</th>\n",
              "      <th>BF10</th>\n",
              "      <th>power</th>\n",
              "    </tr>\n",
              "  </thead>\n",
              "  <tbody>\n",
              "    <tr>\n",
              "      <th>T-test</th>\n",
              "      <td>-10.39</td>\n",
              "      <td>38</td>\n",
              "      <td>two-sided</td>\n",
              "      <td>0.0</td>\n",
              "      <td>[-2255.09, -1519.38]</td>\n",
              "      <td>0.1</td>\n",
              "      <td>7.053e+09</td>\n",
              "      <td>0.09</td>\n",
              "    </tr>\n",
              "  </tbody>\n",
              "</table>\n",
              "</div>"
            ],
            "text/plain": [
              "            T  dof       tail  ...  cohen-d       BF10  power\n",
              "T-test -10.39   38  two-sided  ...      0.1  7.053e+09   0.09\n",
              "\n",
              "[1 rows x 8 columns]"
            ]
          },
          "metadata": {
            "tags": []
          },
          "execution_count": 26
        }
      ]
    },
    {
      "cell_type": "code",
      "metadata": {
        "id": "ajMPVduvsi0n",
        "colab": {
          "base_uri": "https://localhost:8080/",
          "height": 417
        },
        "outputId": "14e94f59-a846-4dfa-d15a-1408a39f6227"
      },
      "source": [
        "df_Figure = df[df.TIME.isin(['2018-Q2','2019-Q2'])][['Country','Value','TIME']].groupby(['Country','TIME']).max().reset_index()\n",
        "import plotly.express as px\n",
        "fig = px.bar(df_Figure, x=\"Country\", y=\"Value\",\n",
        "             color='TIME', barmode='group',\n",
        "             height=400)\n",
        "fig.show()"
      ],
      "execution_count": 27,
      "outputs": [
        {
          "output_type": "display_data",
          "data": {
            "text/html": [
              "<html>\n",
              "<head><meta charset=\"utf-8\" /></head>\n",
              "<body>\n",
              "    <div>\n",
              "            <script src=\"https://cdnjs.cloudflare.com/ajax/libs/mathjax/2.7.5/MathJax.js?config=TeX-AMS-MML_SVG\"></script><script type=\"text/javascript\">if (window.MathJax) {MathJax.Hub.Config({SVG: {font: \"STIX-Web\"}});}</script>\n",
              "                <script type=\"text/javascript\">window.PlotlyConfig = {MathJaxConfig: 'local'};</script>\n",
              "        <script src=\"https://cdn.plot.ly/plotly-latest.min.js\"></script>    \n",
              "            <div id=\"7e0a8df4-3293-419c-92f5-aa49d75eef9f\" class=\"plotly-graph-div\" style=\"height:400px; width:100%;\"></div>\n",
              "            <script type=\"text/javascript\">\n",
              "                \n",
              "                    window.PLOTLYENV=window.PLOTLYENV || {};\n",
              "                    \n",
              "                if (document.getElementById(\"7e0a8df4-3293-419c-92f5-aa49d75eef9f\")) {\n",
              "                    Plotly.newPlot(\n",
              "                        '7e0a8df4-3293-419c-92f5-aa49d75eef9f',\n",
              "                        [{\"alignmentgroup\": \"True\", \"hoverlabel\": {\"namelength\": 0}, \"hovertemplate\": \"TIME=2018-Q2<br>Country=%{x}<br>Value=%{y}\", \"legendgroup\": \"TIME=2018-Q2\", \"marker\": {\"color\": \"#636efa\"}, \"name\": \"TIME=2018-Q2\", \"offsetgroup\": \"TIME=2018-Q2\", \"orientation\": \"v\", \"showlegend\": true, \"textposition\": \"auto\", \"type\": \"bar\", \"x\": [\"Australia\", \"Austria\", \"Belgium\", \"Bulgaria\", \"Canada\", \"Chile\", \"Costa Rica\", \"Czech Republic\", \"Denmark\", \"Estonia\", \"Finland\", \"France\", \"Germany\", \"Greece\", \"Hungary\", \"Iceland\", \"Ireland\", \"Israel\", \"Italy\", \"Japan\", \"Korea\", \"Latvia\", \"Lithuania\", \"Luxembourg\", \"Mexico\", \"Netherlands\", \"New Zealand\", \"Norway\", \"Poland\", \"Portugal\", \"Romania\", \"Saudi Arabia\", \"Slovak Republic\", \"Slovenia\", \"Spain\", \"Sweden\", \"Switzerland\", \"United Kingdom\", \"United States\"], \"xaxis\": \"x\", \"y\": [52211.9, 56633.7, 52101.9, 22367.3, 50094.0, 24780.9, 19922.1, 40856.5, 56972.9, 36025.1, 49134.8, 46103.4, 54749.6, 30059.7, 31809.9, 57030.8, 84638.7, 40026.8, 42816.8, 41965.2, 42147.6, 30490.0, 35913.4, 115971.9, 20675.9, 57542.4, 42347.3, 67539.6, 31204.3, 34321.8, 28875.7, 49073.9, 32455.3, 38785.4, 40456.5, 53755.5, 69665.9, 46678.0, 62909.3], \"yaxis\": \"y\"}, {\"alignmentgroup\": \"True\", \"hoverlabel\": {\"namelength\": 0}, \"hovertemplate\": \"TIME=2019-Q2<br>Country=%{x}<br>Value=%{y}\", \"legendgroup\": \"TIME=2019-Q2\", \"marker\": {\"color\": \"#EF553B\"}, \"name\": \"TIME=2019-Q2\", \"offsetgroup\": \"TIME=2019-Q2\", \"orientation\": \"v\", \"showlegend\": true, \"textposition\": \"auto\", \"type\": \"bar\", \"x\": [\"Australia\", \"Austria\", \"Belgium\", \"Bulgaria\", \"Canada\", \"Chile\", \"Costa Rica\", \"Czech Republic\", \"Denmark\", \"Estonia\", \"Finland\", \"France\", \"Germany\", \"Greece\", \"Hungary\", \"Iceland\", \"Ireland\", \"Israel\", \"Italy\", \"Japan\", \"Korea\", \"Latvia\", \"Lithuania\", \"Luxembourg\", \"Mexico\", \"Netherlands\", \"New Zealand\", \"Norway\", \"Poland\", \"Portugal\", \"Romania\", \"Saudi Arabia\", \"Slovak Republic\", \"Slovenia\", \"Spain\", \"Sweden\", \"Switzerland\", \"United Kingdom\", \"United States\"], \"xaxis\": \"x\", \"y\": [54425.3, 58827.2, 54675.1, 24488.9, 51537.9, 25229.6, 20334.5, 43171.8, 59627.7, 38706.1, 51591.7, 49092.2, 56175.1, 31360.4, 34299.9, 59679.7, 89379.7, 41857.5, 44179.7, 43376.1, 42941.9, 32065.5, 38335.5, 121330.0, 20737.2, 59418.4, 43390.6, 66777.7, 33572.3, 36441.6, 31755.8, 48963.8, 33937.3, 40843.3, 42085.0, 55719.1, 70900.7, 48505.5, 64976.6], \"yaxis\": \"y\"}],\n",
              "                        {\"barmode\": \"group\", \"height\": 400, \"legend\": {\"tracegroupgap\": 0}, \"margin\": {\"t\": 60}, \"template\": {\"data\": {\"bar\": [{\"error_x\": {\"color\": \"#2a3f5f\"}, \"error_y\": {\"color\": \"#2a3f5f\"}, \"marker\": {\"line\": {\"color\": \"#E5ECF6\", \"width\": 0.5}}, \"type\": \"bar\"}], \"barpolar\": [{\"marker\": {\"line\": {\"color\": \"#E5ECF6\", \"width\": 0.5}}, \"type\": \"barpolar\"}], \"carpet\": [{\"aaxis\": {\"endlinecolor\": \"#2a3f5f\", \"gridcolor\": \"white\", \"linecolor\": \"white\", \"minorgridcolor\": \"white\", \"startlinecolor\": \"#2a3f5f\"}, \"baxis\": {\"endlinecolor\": \"#2a3f5f\", \"gridcolor\": \"white\", \"linecolor\": \"white\", \"minorgridcolor\": \"white\", \"startlinecolor\": \"#2a3f5f\"}, \"type\": \"carpet\"}], \"choropleth\": [{\"colorbar\": {\"outlinewidth\": 0, \"ticks\": \"\"}, \"type\": \"choropleth\"}], \"contour\": [{\"colorbar\": {\"outlinewidth\": 0, \"ticks\": \"\"}, \"colorscale\": [[0.0, \"#0d0887\"], [0.1111111111111111, \"#46039f\"], [0.2222222222222222, \"#7201a8\"], [0.3333333333333333, \"#9c179e\"], [0.4444444444444444, \"#bd3786\"], [0.5555555555555556, \"#d8576b\"], [0.6666666666666666, \"#ed7953\"], [0.7777777777777778, \"#fb9f3a\"], [0.8888888888888888, \"#fdca26\"], [1.0, \"#f0f921\"]], \"type\": \"contour\"}], \"contourcarpet\": [{\"colorbar\": {\"outlinewidth\": 0, \"ticks\": \"\"}, \"type\": \"contourcarpet\"}], \"heatmap\": [{\"colorbar\": {\"outlinewidth\": 0, \"ticks\": \"\"}, \"colorscale\": [[0.0, \"#0d0887\"], [0.1111111111111111, \"#46039f\"], [0.2222222222222222, \"#7201a8\"], [0.3333333333333333, \"#9c179e\"], [0.4444444444444444, \"#bd3786\"], [0.5555555555555556, \"#d8576b\"], [0.6666666666666666, \"#ed7953\"], [0.7777777777777778, \"#fb9f3a\"], [0.8888888888888888, \"#fdca26\"], [1.0, \"#f0f921\"]], \"type\": \"heatmap\"}], \"heatmapgl\": [{\"colorbar\": {\"outlinewidth\": 0, \"ticks\": \"\"}, \"colorscale\": [[0.0, \"#0d0887\"], [0.1111111111111111, \"#46039f\"], [0.2222222222222222, \"#7201a8\"], [0.3333333333333333, \"#9c179e\"], [0.4444444444444444, \"#bd3786\"], [0.5555555555555556, \"#d8576b\"], [0.6666666666666666, \"#ed7953\"], [0.7777777777777778, \"#fb9f3a\"], [0.8888888888888888, \"#fdca26\"], [1.0, \"#f0f921\"]], \"type\": \"heatmapgl\"}], \"histogram\": [{\"marker\": {\"colorbar\": {\"outlinewidth\": 0, \"ticks\": \"\"}}, \"type\": \"histogram\"}], \"histogram2d\": [{\"colorbar\": {\"outlinewidth\": 0, \"ticks\": \"\"}, \"colorscale\": [[0.0, \"#0d0887\"], [0.1111111111111111, \"#46039f\"], [0.2222222222222222, \"#7201a8\"], [0.3333333333333333, \"#9c179e\"], [0.4444444444444444, \"#bd3786\"], [0.5555555555555556, \"#d8576b\"], [0.6666666666666666, \"#ed7953\"], [0.7777777777777778, \"#fb9f3a\"], [0.8888888888888888, \"#fdca26\"], [1.0, \"#f0f921\"]], \"type\": \"histogram2d\"}], \"histogram2dcontour\": [{\"colorbar\": {\"outlinewidth\": 0, \"ticks\": \"\"}, \"colorscale\": [[0.0, \"#0d0887\"], [0.1111111111111111, \"#46039f\"], [0.2222222222222222, \"#7201a8\"], [0.3333333333333333, \"#9c179e\"], [0.4444444444444444, \"#bd3786\"], [0.5555555555555556, \"#d8576b\"], [0.6666666666666666, \"#ed7953\"], [0.7777777777777778, \"#fb9f3a\"], [0.8888888888888888, \"#fdca26\"], [1.0, \"#f0f921\"]], \"type\": \"histogram2dcontour\"}], \"mesh3d\": [{\"colorbar\": {\"outlinewidth\": 0, \"ticks\": \"\"}, \"type\": \"mesh3d\"}], \"parcoords\": [{\"line\": {\"colorbar\": {\"outlinewidth\": 0, \"ticks\": \"\"}}, \"type\": \"parcoords\"}], \"pie\": [{\"automargin\": true, \"type\": \"pie\"}], \"scatter\": [{\"marker\": {\"colorbar\": {\"outlinewidth\": 0, \"ticks\": \"\"}}, \"type\": \"scatter\"}], \"scatter3d\": [{\"line\": {\"colorbar\": {\"outlinewidth\": 0, \"ticks\": \"\"}}, \"marker\": {\"colorbar\": {\"outlinewidth\": 0, \"ticks\": \"\"}}, \"type\": \"scatter3d\"}], \"scattercarpet\": [{\"marker\": {\"colorbar\": {\"outlinewidth\": 0, \"ticks\": \"\"}}, \"type\": \"scattercarpet\"}], \"scattergeo\": [{\"marker\": {\"colorbar\": {\"outlinewidth\": 0, \"ticks\": \"\"}}, \"type\": \"scattergeo\"}], \"scattergl\": [{\"marker\": {\"colorbar\": {\"outlinewidth\": 0, \"ticks\": \"\"}}, \"type\": \"scattergl\"}], \"scattermapbox\": [{\"marker\": {\"colorbar\": {\"outlinewidth\": 0, \"ticks\": \"\"}}, \"type\": \"scattermapbox\"}], \"scatterpolar\": [{\"marker\": {\"colorbar\": {\"outlinewidth\": 0, \"ticks\": \"\"}}, \"type\": \"scatterpolar\"}], \"scatterpolargl\": [{\"marker\": {\"colorbar\": {\"outlinewidth\": 0, \"ticks\": \"\"}}, \"type\": \"scatterpolargl\"}], \"scatterternary\": [{\"marker\": {\"colorbar\": {\"outlinewidth\": 0, \"ticks\": \"\"}}, \"type\": \"scatterternary\"}], \"surface\": [{\"colorbar\": {\"outlinewidth\": 0, \"ticks\": \"\"}, \"colorscale\": [[0.0, \"#0d0887\"], [0.1111111111111111, \"#46039f\"], [0.2222222222222222, \"#7201a8\"], [0.3333333333333333, \"#9c179e\"], [0.4444444444444444, \"#bd3786\"], [0.5555555555555556, \"#d8576b\"], [0.6666666666666666, \"#ed7953\"], [0.7777777777777778, \"#fb9f3a\"], [0.8888888888888888, \"#fdca26\"], [1.0, \"#f0f921\"]], \"type\": \"surface\"}], \"table\": [{\"cells\": {\"fill\": {\"color\": \"#EBF0F8\"}, \"line\": {\"color\": \"white\"}}, \"header\": {\"fill\": {\"color\": \"#C8D4E3\"}, \"line\": {\"color\": \"white\"}}, \"type\": \"table\"}]}, \"layout\": {\"annotationdefaults\": {\"arrowcolor\": \"#2a3f5f\", \"arrowhead\": 0, \"arrowwidth\": 1}, \"coloraxis\": {\"colorbar\": {\"outlinewidth\": 0, \"ticks\": \"\"}}, \"colorscale\": {\"diverging\": [[0, \"#8e0152\"], [0.1, \"#c51b7d\"], [0.2, \"#de77ae\"], [0.3, \"#f1b6da\"], [0.4, \"#fde0ef\"], [0.5, \"#f7f7f7\"], [0.6, \"#e6f5d0\"], [0.7, \"#b8e186\"], [0.8, \"#7fbc41\"], [0.9, \"#4d9221\"], [1, \"#276419\"]], \"sequential\": [[0.0, \"#0d0887\"], [0.1111111111111111, \"#46039f\"], [0.2222222222222222, \"#7201a8\"], [0.3333333333333333, \"#9c179e\"], [0.4444444444444444, \"#bd3786\"], [0.5555555555555556, \"#d8576b\"], [0.6666666666666666, \"#ed7953\"], [0.7777777777777778, \"#fb9f3a\"], [0.8888888888888888, \"#fdca26\"], [1.0, \"#f0f921\"]], \"sequentialminus\": [[0.0, \"#0d0887\"], [0.1111111111111111, \"#46039f\"], [0.2222222222222222, \"#7201a8\"], [0.3333333333333333, \"#9c179e\"], [0.4444444444444444, \"#bd3786\"], [0.5555555555555556, \"#d8576b\"], [0.6666666666666666, \"#ed7953\"], [0.7777777777777778, \"#fb9f3a\"], [0.8888888888888888, \"#fdca26\"], [1.0, \"#f0f921\"]]}, \"colorway\": [\"#636efa\", \"#EF553B\", \"#00cc96\", \"#ab63fa\", \"#FFA15A\", \"#19d3f3\", \"#FF6692\", \"#B6E880\", \"#FF97FF\", \"#FECB52\"], \"font\": {\"color\": \"#2a3f5f\"}, \"geo\": {\"bgcolor\": \"white\", \"lakecolor\": \"white\", \"landcolor\": \"#E5ECF6\", \"showlakes\": true, \"showland\": true, \"subunitcolor\": \"white\"}, \"hoverlabel\": {\"align\": \"left\"}, \"hovermode\": \"closest\", \"mapbox\": {\"style\": \"light\"}, \"paper_bgcolor\": \"white\", \"plot_bgcolor\": \"#E5ECF6\", \"polar\": {\"angularaxis\": {\"gridcolor\": \"white\", \"linecolor\": \"white\", \"ticks\": \"\"}, \"bgcolor\": \"#E5ECF6\", \"radialaxis\": {\"gridcolor\": \"white\", \"linecolor\": \"white\", \"ticks\": \"\"}}, \"scene\": {\"xaxis\": {\"backgroundcolor\": \"#E5ECF6\", \"gridcolor\": \"white\", \"gridwidth\": 2, \"linecolor\": \"white\", \"showbackground\": true, \"ticks\": \"\", \"zerolinecolor\": \"white\"}, \"yaxis\": {\"backgroundcolor\": \"#E5ECF6\", \"gridcolor\": \"white\", \"gridwidth\": 2, \"linecolor\": \"white\", \"showbackground\": true, \"ticks\": \"\", \"zerolinecolor\": \"white\"}, \"zaxis\": {\"backgroundcolor\": \"#E5ECF6\", \"gridcolor\": \"white\", \"gridwidth\": 2, \"linecolor\": \"white\", \"showbackground\": true, \"ticks\": \"\", \"zerolinecolor\": \"white\"}}, \"shapedefaults\": {\"line\": {\"color\": \"#2a3f5f\"}}, \"ternary\": {\"aaxis\": {\"gridcolor\": \"white\", \"linecolor\": \"white\", \"ticks\": \"\"}, \"baxis\": {\"gridcolor\": \"white\", \"linecolor\": \"white\", \"ticks\": \"\"}, \"bgcolor\": \"#E5ECF6\", \"caxis\": {\"gridcolor\": \"white\", \"linecolor\": \"white\", \"ticks\": \"\"}}, \"title\": {\"x\": 0.05}, \"xaxis\": {\"automargin\": true, \"gridcolor\": \"white\", \"linecolor\": \"white\", \"ticks\": \"\", \"title\": {\"standoff\": 15}, \"zerolinecolor\": \"white\", \"zerolinewidth\": 2}, \"yaxis\": {\"automargin\": true, \"gridcolor\": \"white\", \"linecolor\": \"white\", \"ticks\": \"\", \"title\": {\"standoff\": 15}, \"zerolinecolor\": \"white\", \"zerolinewidth\": 2}}}, \"xaxis\": {\"anchor\": \"y\", \"domain\": [0.0, 1.0], \"title\": {\"text\": \"Country\"}}, \"yaxis\": {\"anchor\": \"x\", \"domain\": [0.0, 1.0], \"title\": {\"text\": \"Value\"}}},\n",
              "                        {\"responsive\": true}\n",
              "                    ).then(function(){\n",
              "                            \n",
              "var gd = document.getElementById('7e0a8df4-3293-419c-92f5-aa49d75eef9f');\n",
              "var x = new MutationObserver(function (mutations, observer) {{\n",
              "        var display = window.getComputedStyle(gd).display;\n",
              "        if (!display || display === 'none') {{\n",
              "            console.log([gd, 'removed!']);\n",
              "            Plotly.purge(gd);\n",
              "            observer.disconnect();\n",
              "        }}\n",
              "}});\n",
              "\n",
              "// Listen for the removal of the full notebook cells\n",
              "var notebookContainer = gd.closest('#notebook-container');\n",
              "if (notebookContainer) {{\n",
              "    x.observe(notebookContainer, {childList: true});\n",
              "}}\n",
              "\n",
              "// Listen for the clearing of the current output cell\n",
              "var outputEl = gd.closest('.output');\n",
              "if (outputEl) {{\n",
              "    x.observe(outputEl, {childList: true});\n",
              "}}\n",
              "\n",
              "                        })\n",
              "                };\n",
              "                \n",
              "            </script>\n",
              "        </div>\n",
              "</body>\n",
              "</html>"
            ]
          },
          "metadata": {
            "tags": []
          }
        }
      ]
    },
    {
      "cell_type": "markdown",
      "metadata": {
        "id": "sRc_gwGTt96R"
      },
      "source": [
        "Conduct the Wilcoxon Signed-rank test to compare probability of GDP per capita for the first quarter of 2018 is larger than 2019 or not for all countries\n",
        "\n"
      ]
    },
    {
      "cell_type": "code",
      "metadata": {
        "id": "6oh7baX-w6hL",
        "colab": {
          "base_uri": "https://localhost:8080/",
          "height": 80
        },
        "outputId": "71aad72e-cd89-46b5-f2fd-28d3ad150a09"
      },
      "source": [
        "### install the package\n",
        "import pingouin as pg\n",
        "pg.wilcoxon(pre, post, tail='two-sided')"
      ],
      "execution_count": 28,
      "outputs": [
        {
          "output_type": "execute_result",
          "data": {
            "text/html": [
              "<div>\n",
              "<style scoped>\n",
              "    .dataframe tbody tr th:only-of-type {\n",
              "        vertical-align: middle;\n",
              "    }\n",
              "\n",
              "    .dataframe tbody tr th {\n",
              "        vertical-align: top;\n",
              "    }\n",
              "\n",
              "    .dataframe thead th {\n",
              "        text-align: right;\n",
              "    }\n",
              "</style>\n",
              "<table border=\"1\" class=\"dataframe\">\n",
              "  <thead>\n",
              "    <tr style=\"text-align: right;\">\n",
              "      <th></th>\n",
              "      <th>W-val</th>\n",
              "      <th>tail</th>\n",
              "      <th>p-val</th>\n",
              "      <th>RBC</th>\n",
              "      <th>CLES</th>\n",
              "    </tr>\n",
              "  </thead>\n",
              "  <tbody>\n",
              "    <tr>\n",
              "      <th>Wilcoxon</th>\n",
              "      <td>7.0</td>\n",
              "      <td>two-sided</td>\n",
              "      <td>9.408805e-08</td>\n",
              "      <td>-0.982051</td>\n",
              "      <td>0.460881</td>\n",
              "    </tr>\n",
              "  </tbody>\n",
              "</table>\n",
              "</div>"
            ],
            "text/plain": [
              "          W-val       tail         p-val       RBC      CLES\n",
              "Wilcoxon    7.0  two-sided  9.408805e-08 -0.982051  0.460881"
            ]
          },
          "metadata": {
            "tags": []
          },
          "execution_count": 28
        }
      ]
    },
    {
      "cell_type": "markdown",
      "metadata": {
        "id": "Or1iIiz4y82G"
      },
      "source": [
        "# Assumption: Pearson or Spearman Test of Correlations"
      ]
    },
    {
      "cell_type": "markdown",
      "metadata": {
        "id": "OWT7qBxpzFjb"
      },
      "source": [
        "**Histogram and scatterplot**"
      ]
    },
    {
      "cell_type": "code",
      "metadata": {
        "id": "_0nLvsz_zETR"
      },
      "source": [
        "#install package\n",
        "import seaborn as sns"
      ],
      "execution_count": 29,
      "outputs": []
    },
    {
      "cell_type": "code",
      "metadata": {
        "id": "yjnqMgl0z8mc",
        "colab": {
          "base_uri": "https://localhost:8080/",
          "height": 204
        },
        "outputId": "f750ffaa-e622-4ca0-addc-85d401531800"
      },
      "source": [
        "df_joint= df_2018_Q2.merge(df_2019_Q2, how='inner',on=\"Country\")\n",
        "df_joint.columns =['Country','2018_Q2','2019_Q2']\n",
        "df_joint.head()"
      ],
      "execution_count": 30,
      "outputs": [
        {
          "output_type": "execute_result",
          "data": {
            "text/html": [
              "<div>\n",
              "<style scoped>\n",
              "    .dataframe tbody tr th:only-of-type {\n",
              "        vertical-align: middle;\n",
              "    }\n",
              "\n",
              "    .dataframe tbody tr th {\n",
              "        vertical-align: top;\n",
              "    }\n",
              "\n",
              "    .dataframe thead th {\n",
              "        text-align: right;\n",
              "    }\n",
              "</style>\n",
              "<table border=\"1\" class=\"dataframe\">\n",
              "  <thead>\n",
              "    <tr style=\"text-align: right;\">\n",
              "      <th></th>\n",
              "      <th>Country</th>\n",
              "      <th>2018_Q2</th>\n",
              "      <th>2019_Q2</th>\n",
              "    </tr>\n",
              "  </thead>\n",
              "  <tbody>\n",
              "    <tr>\n",
              "      <th>0</th>\n",
              "      <td>Australia</td>\n",
              "      <td>52211.9</td>\n",
              "      <td>54425.3</td>\n",
              "    </tr>\n",
              "    <tr>\n",
              "      <th>1</th>\n",
              "      <td>Austria</td>\n",
              "      <td>56633.7</td>\n",
              "      <td>58827.2</td>\n",
              "    </tr>\n",
              "    <tr>\n",
              "      <th>2</th>\n",
              "      <td>Belgium</td>\n",
              "      <td>52101.9</td>\n",
              "      <td>54675.1</td>\n",
              "    </tr>\n",
              "    <tr>\n",
              "      <th>3</th>\n",
              "      <td>Bulgaria</td>\n",
              "      <td>22367.3</td>\n",
              "      <td>24488.9</td>\n",
              "    </tr>\n",
              "    <tr>\n",
              "      <th>4</th>\n",
              "      <td>Canada</td>\n",
              "      <td>50094.0</td>\n",
              "      <td>51537.9</td>\n",
              "    </tr>\n",
              "  </tbody>\n",
              "</table>\n",
              "</div>"
            ],
            "text/plain": [
              "     Country  2018_Q2  2019_Q2\n",
              "0  Australia  52211.9  54425.3\n",
              "1    Austria  56633.7  58827.2\n",
              "2    Belgium  52101.9  54675.1\n",
              "3   Bulgaria  22367.3  24488.9\n",
              "4     Canada  50094.0  51537.9"
            ]
          },
          "metadata": {
            "tags": []
          },
          "execution_count": 30
        }
      ]
    },
    {
      "cell_type": "markdown",
      "metadata": {
        "id": "H3L2jTu3089O"
      },
      "source": [
        "**draw scatter and histgram plot**\n",
        "\n",
        "https://seaborn.pydata.org/generated/seaborn.jointplot.html"
      ]
    },
    {
      "cell_type": "code",
      "metadata": {
        "id": "ajKUOTWjzoTw",
        "colab": {
          "base_uri": "https://localhost:8080/",
          "height": 459
        },
        "outputId": "637217ef-2a2c-4207-d1b8-e8ff035aaf84"
      },
      "source": [
        "#draw the plot\n",
        "sns.jointplot(data=df_joint, x=\"2018_Q2\", y=\"2019_Q2\")"
      ],
      "execution_count": 31,
      "outputs": [
        {
          "output_type": "execute_result",
          "data": {
            "text/plain": [
              "<seaborn.axisgrid.JointGrid at 0x7f9c1ae6cc18>"
            ]
          },
          "metadata": {
            "tags": []
          },
          "execution_count": 31
        },
        {
          "output_type": "display_data",
          "data": {
            "image/png": "[encoded data removed]",
            "text/plain": [
              "<Figure size 432x432 with 3 Axes>"
            ]
          },
          "metadata": {
            "tags": [],
            "needs_background": "light"
          }
        }
      ]
    },
    {
      "cell_type": "markdown",
      "metadata": {
        "id": "I-aTgMcz03BL"
      },
      "source": [
        "**Test for multivariate normality**\n",
        "\n",
        "https://pingouin-stats.org/generated/pingouin.multivariate_normality.html"
      ]
    },
    {
      "cell_type": "code",
      "metadata": {
        "id": "K9GZCHZ001r6",
        "colab": {
          "base_uri": "https://localhost:8080/"
        },
        "outputId": "3d8e214e-036c-4a19-bfe3-f8d4d2595681"
      },
      "source": [
        "X = df_joint[['2018_Q2', '2019_Q2']]\n",
        "pg.multivariate_normality(X, alpha=.05)"
      ],
      "execution_count": 32,
      "outputs": [
        {
          "output_type": "execute_result",
          "data": {
            "text/plain": [
              "HZResults(hz=1.1871993483467551, pval=0.005417587484060071, normal=False)"
            ]
          },
          "metadata": {
            "tags": []
          },
          "execution_count": 32
        }
      ]
    },
    {
      "cell_type": "markdown",
      "metadata": {
        "id": "uGJ33WUN1Nwm"
      },
      "source": [
        "**We can't reject multivariate normality, so we will use pearson test for correlations**\n",
        "\n",
        "https://pingouin-stats.org/generated/pingouin.corr.html#pingouin.corr"
      ]
    },
    {
      "cell_type": "code",
      "metadata": {
        "id": "saBC15hL1TfW",
        "colab": {
          "base_uri": "https://localhost:8080/",
          "height": 80
        },
        "outputId": "97d04eeb-b1e2-4614-9c97-f5fab98af16c"
      },
      "source": [
        "x=df_joint['2018_Q2']\n",
        "y=df_joint['2019_Q2']\n",
        "pg.corr(x, y, method=\"pearson\").round(3)"
      ],
      "execution_count": 33,
      "outputs": [
        {
          "output_type": "execute_result",
          "data": {
            "text/html": [
              "<div>\n",
              "<style scoped>\n",
              "    .dataframe tbody tr th:only-of-type {\n",
              "        vertical-align: middle;\n",
              "    }\n",
              "\n",
              "    .dataframe tbody tr th {\n",
              "        vertical-align: top;\n",
              "    }\n",
              "\n",
              "    .dataframe thead th {\n",
              "        text-align: right;\n",
              "    }\n",
              "</style>\n",
              "<table border=\"1\" class=\"dataframe\">\n",
              "  <thead>\n",
              "    <tr style=\"text-align: right;\">\n",
              "      <th></th>\n",
              "      <th>n</th>\n",
              "      <th>r</th>\n",
              "      <th>CI95%</th>\n",
              "      <th>r2</th>\n",
              "      <th>adj_r2</th>\n",
              "      <th>p-val</th>\n",
              "      <th>BF10</th>\n",
              "      <th>power</th>\n",
              "    </tr>\n",
              "  </thead>\n",
              "  <tbody>\n",
              "    <tr>\n",
              "      <th>pearson</th>\n",
              "      <td>39</td>\n",
              "      <td>0.999</td>\n",
              "      <td>[1.0, 1.0]</td>\n",
              "      <td>0.997</td>\n",
              "      <td>0.997</td>\n",
              "      <td>0.0</td>\n",
              "      <td>1.642e+44</td>\n",
              "      <td>1.0</td>\n",
              "    </tr>\n",
              "  </tbody>\n",
              "</table>\n",
              "</div>"
            ],
            "text/plain": [
              "          n      r       CI95%     r2  adj_r2  p-val       BF10  power\n",
              "pearson  39  0.999  [1.0, 1.0]  0.997   0.997    0.0  1.642e+44    1.0"
            ]
          },
          "metadata": {
            "tags": []
          },
          "execution_count": 33
        }
      ]
    },
    {
      "cell_type": "markdown",
      "metadata": {
        "id": "bgd2n8cDR8D9"
      },
      "source": [
        "#Power Analysis"
      ]
    },
    {
      "cell_type": "markdown",
      "metadata": {
        "id": "kQ9t37Hsah7v"
      },
      "source": [
        "**Power analysis for T-test**\n",
        "\n",
        "https://pingouin-stats.org/generated/pingouin.power_ttest.html#pingouin.power_ttest\n",
        "\n",
        "\n",
        "Note: For a paired T-test, the sample size n corresponds to the number of pairs. For an independent two-sample T-test with equal sample sizes, n corresponds to the sample size of each group (i.e. number of observations in one group)."
      ]
    },
    {
      "cell_type": "code",
      "metadata": {
        "id": "A1mo5PXKa8vU"
      },
      "source": [
        "#install the package\n",
        "from pingouin import power_ttest"
      ],
      "execution_count": 34,
      "outputs": []
    },
    {
      "cell_type": "markdown",
      "metadata": {
        "id": "TkLiwFGJcUgv"
      },
      "source": [
        "d is the Cohen d effect size, Power is 1-Type II error, Alpha is the type I error"
      ]
    },
    {
      "cell_type": "code",
      "metadata": {
        "id": "aC38cUJUCuwU",
        "colab": {
          "base_uri": "https://localhost:8080/"
        },
        "outputId": "6b14ed43-d1fb-4ffa-f998-477991239557"
      },
      "source": [
        "### conduct the test\n",
        "print('n: %.4f' % power_ttest(d=0.1, power=0.80, alpha=0.05))"
      ],
      "execution_count": 35,
      "outputs": [
        {
          "output_type": "stream",
          "text": [
            "n: 1570.7331\n"
          ],
          "name": "stdout"
        }
      ]
    },
    {
      "cell_type": "markdown",
      "metadata": {
        "id": "ydKpqpXFSVK9"
      },
      "source": [
        "**Power analysis for ANOVA**\n",
        "\n",
        "https://pingouin-stats.org/generated/pingouin.power_anova.html#pingouin.power_anova"
      ]
    },
    {
      "cell_type": "code",
      "metadata": {
        "id": "doXcNDTRbYl-"
      },
      "source": [
        "# install the package\n",
        "from pingouin import power_anova"
      ],
      "execution_count": 36,
      "outputs": []
    },
    {
      "cell_type": "markdown",
      "metadata": {
        "id": "Yd3W82Rxchzo"
      },
      "source": [
        "eta is the effect size for ANOVA (the level of correlation across catergories), k is the number of categories, Power is 1-Type II error, alpha is type I error"
      ]
    },
    {
      "cell_type": "code",
      "metadata": {
        "id": "pzvWi27PcfXL",
        "colab": {
          "base_uri": "https://localhost:8080/"
        },
        "outputId": "cd69536b-0ca6-4371-b013-8a4802436ea7"
      },
      "source": [
        "### conduct the test\n",
        "print('n: %.4f' % power_anova(eta=0.1, k=3, power=0.80, alpha=0.05))"
      ],
      "execution_count": 37,
      "outputs": [
        {
          "output_type": "stream",
          "text": [
            "n: 29.9255\n"
          ],
          "name": "stdout"
        }
      ]
    },
    {
      "cell_type": "markdown",
      "metadata": {
        "id": "FozrdWicde-W"
      },
      "source": [
        "**Power analysis for Chi-square Test**\n",
        "\n",
        "https://pingouin-stats.org/generated/pingouin.power_chi2.html#pingouin.power_chi2"
      ]
    },
    {
      "cell_type": "code",
      "metadata": {
        "id": "_egb1HH6dKWP"
      },
      "source": [
        "# install the package\n",
        "from pingouin import power_chi2"
      ],
      "execution_count": 38,
      "outputs": []
    },
    {
      "cell_type": "markdown",
      "metadata": {
        "id": "Js1oXwnOe0YT"
      },
      "source": [
        "dof is the degress of freedom $=(r-1)*(c-1)$, where r is the number of rows in the expected frequency table and c is the nuber of columns in the expected frequency table. W is the effect size, which is the level of correlation. Power is 1-Type II error and Alpha is the type I error. "
      ]
    },
    {
      "cell_type": "code",
      "metadata": {
        "id": "VI7XlYXodvFg",
        "colab": {
          "base_uri": "https://localhost:8080/"
        },
        "outputId": "85836343-ecf9-4caa-d293-b57fb2011995"
      },
      "source": [
        "### conduct the test\n",
        "print('n: %.4f' % power_chi2(dof=1, w=0.3, power=0.80, alpha=0.05))"
      ],
      "execution_count": 39,
      "outputs": [
        {
          "output_type": "stream",
          "text": [
            "n: 87.2096\n"
          ],
          "name": "stdout"
        }
      ]
    },
    {
      "cell_type": "code",
      "metadata": {
        "id": "0v5HNAVaflVj"
      },
      "source": [
        ""
      ],
      "execution_count": 39,
      "outputs": []
    }
  ]
}